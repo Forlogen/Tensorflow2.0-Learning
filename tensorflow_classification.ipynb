{
 "cells": [
  {
   "cell_type": "code",
   "execution_count": 195,
   "metadata": {},
   "outputs": [
    {
     "data": {
      "text/plain": [
       "'2.0.0-beta0'"
      ]
     },
     "execution_count": 195,
     "metadata": {},
     "output_type": "execute_result"
    }
   ],
   "source": [
    "from __future__ import absolute_import,print_function,unicode_literals,division\n",
    "\n",
    "import tensorflow as tf\n",
    "import tensorflow.keras as keras\n",
    "import numpy as np\n",
    "import json\n",
    "import matplotlib.pyplot as plt\n",
    "import collections\n",
    "import re\n",
    "import os\n",
    "import unicodedata\n",
    "from IPython.display import clear_output\n",
    "from sklearn.model_selection import train_test_split\n",
    "\n",
    "tf.__version__"
   ]
  },
  {
   "cell_type": "code",
   "execution_count": 196,
   "metadata": {},
   "outputs": [],
   "source": [
    "data_path = 'WebOfScience/WOS11967/X.txt'\n",
    "label_path = 'WebOfScience/WOS11967/YL1.txt'"
   ]
  },
  {
   "cell_type": "code",
   "execution_count": 197,
   "metadata": {},
   "outputs": [],
   "source": [
    "def unicode_to_ascii(text):\n",
    "    return ''.join(c for c in unicodedata.normalize('NFD',text) if unicodedata.category(c) != 'Mn')\n",
    "\n",
    "def process_text(text):\n",
    "    \n",
    "    text = unicode_to_ascii(text.lower().strip())\n",
    "    # create a space between a word and the punctuation following it\n",
    "    text = re.sub(r\"([?.!,¿])\", r\" \\1 \", text)\n",
    "    text = re.sub(r'[\" \"]+', \" \", text)\n",
    "    # replacing everything with space except (a-z, A-Z, \".\", \"?\", \"!\", \",\")\n",
    "    text = re.sub(r\"[^a-zA-Z?.!,¿]+\", \" \", text)\n",
    "    text = text.strip()\n",
    "    \n",
    "    text = '<start> ' + text +  ' <end>'\n",
    "    \n",
    "    return text "
   ]
  },
  {
   "cell_type": "code",
   "execution_count": 198,
   "metadata": {},
   "outputs": [],
   "source": [
    "def load_data(path):\n",
    "    text = []\n",
    "    \n",
    "    with open(path,encoding='utf-8') as f:\n",
    "        for line in f:\n",
    "            text_ = str(line.strip().split('\\t'))\n",
    "            text.append(process_text(text_))\n",
    "    return text   "
   ]
  },
  {
   "cell_type": "code",
   "execution_count": 199,
   "metadata": {},
   "outputs": [
    {
     "name": "stdout",
     "output_type": "stream",
     "text": [
      "The size of data is:11967\n"
     ]
    },
    {
     "data": {
      "text/plain": [
       "'<start> the aim of this study was to investigate a the behavioral cues that are displayed by , and trait judgments formed about , anxious interviewees , and b why anxious interviewees receive lower interview performance ratings . the behavioral expression of interview anxiety model was created as a conceptual framework to explore these relations . we videotaped and transcribed mock job interviews , obtained ratings of interview anxiety and interview performance , and trained raters to assess several verbal and nonverbal cues and trait judgments . the results indicated that few behavioral cues , but several traits were related to interviewee and interviewer ratings of interview anxiety . two factors emerged from our factor analysis on the trait judgments assertiveness and interpersonal warmth . mediation analyses were performed and indicated that assertiveness and interpersonal warmth mediated the relation between interview anxiety and interview performance . speech rate words spoken per minute and assertiveness were found to mediate the relation between interviewee and interviewer ratings of interview anxiety . overall , the results indicated that interviewees should focus less on their nervous tics and more on the broader impressions that they convey . our findings indicate that anxious interviewees may want to focus on how assertive and interpersonally warm they appear to interviewers . to our knowledge , this is the first study to use a validated interview anxiety measure to examine behavioral cues and traits exhibited by anxious interviewees . we offer new insight into why anxious interviewees receive lower interview performance ratings . <end>'"
      ]
     },
     "execution_count": 199,
     "metadata": {},
     "output_type": "execute_result"
    }
   ],
   "source": [
    "data = load_data(data_path)\n",
    "\n",
    "print ('The size of data is:{}'.format(len(data)))\n",
    "\n",
    "data[0]"
   ]
  },
  {
   "cell_type": "code",
   "execution_count": 200,
   "metadata": {},
   "outputs": [
    {
     "name": "stdout",
     "output_type": "stream",
     "text": [
      "The size of label is:11967\n"
     ]
    },
    {
     "data": {
      "text/plain": [
       "['2']"
      ]
     },
     "execution_count": 200,
     "metadata": {},
     "output_type": "execute_result"
    }
   ],
   "source": [
    "label = list()\n",
    "\n",
    "with open(label_path,'r') as f:\n",
    "    for line in f:\n",
    "        label_ = line.strip().split('\\n')\n",
    "        label.append(label_)\n",
    "    \n",
    "print ('The size of label is:{}'.format(len(label)))\n",
    "\n",
    "label[0]"
   ]
  },
  {
   "cell_type": "code",
   "execution_count": 201,
   "metadata": {},
   "outputs": [],
   "source": [
    "def tokenize(text):\n",
    "    text_tokenizer = tf.keras.preprocessing.text.Tokenizer(filters='')\n",
    "    \n",
    "    text_tokenizer.fit_on_texts(text)\n",
    "    \n",
    "    tensor = text_tokenizer.texts_to_sequences(text)\n",
    "    \n",
    "    return tensor,text_tokenizer"
   ]
  },
  {
   "cell_type": "code",
   "execution_count": 202,
   "metadata": {},
   "outputs": [],
   "source": [
    "data_tensor, data_tokenizer = tokenize(data)\n",
    "label_tensor, label_tokenizer = tokenize(label)"
   ]
  },
  {
   "cell_type": "code",
   "execution_count": 203,
   "metadata": {},
   "outputs": [],
   "source": [
    "max_data_length = 300\n",
    "\n",
    "data_tensor = keras.preprocessing.sequence.pad_sequences(data_tensor,maxlen = max_data_length,padding = 'post')\n",
    "label_tensor = keras.preprocessing.sequence.pad_sequences(label_tensor,maxlen = 1,padding = 'post')\n"
   ]
  },
  {
   "cell_type": "code",
   "execution_count": 204,
   "metadata": {},
   "outputs": [
    {
     "name": "stdout",
     "output_type": "stream",
     "text": [
      "11967\n"
     ]
    }
   ],
   "source": [
    "data_tensor\n",
    "\n",
    "print (len(data_tensor))"
   ]
  },
  {
   "cell_type": "code",
   "execution_count": 205,
   "metadata": {},
   "outputs": [
    {
     "data": {
      "text/plain": [
       "array([[2],\n",
       "       [6],\n",
       "       [4],\n",
       "       ...,\n",
       "       [1],\n",
       "       [4],\n",
       "       [6]])"
      ]
     },
     "execution_count": 205,
     "metadata": {},
     "output_type": "execute_result"
    }
   ],
   "source": [
    "label_tensor"
   ]
  },
  {
   "cell_type": "code",
   "execution_count": 206,
   "metadata": {},
   "outputs": [
    {
     "name": "stdout",
     "output_type": "stream",
     "text": [
      "18 ---> <start>\n",
      "1 ---> the\n",
      "367 ---> aim\n",
      "4 ---> of\n",
      "14 ---> this\n",
      "26 ---> study\n",
      "21 ---> was\n",
      "7 ---> to\n",
      "373 ---> investigate\n",
      "8 ---> a\n",
      "1 ---> the\n",
      "685 ---> behavioral\n",
      "1201 ---> cues\n",
      "12 ---> that\n",
      "17 ---> are\n",
      "2382 ---> displayed\n",
      "16 ---> by\n",
      "3 ---> ,\n",
      "5 ---> and\n",
      "1258 ---> trait\n",
      "1686 ---> judgments\n",
      "1989 ---> formed\n",
      "134 ---> about\n",
      "3 ---> ,\n",
      "4470 ---> anxious\n",
      "12159 ---> interviewees\n",
      "3 ---> ,\n",
      "5 ---> and\n",
      "103 ---> b\n",
      "2398 ---> why\n",
      "4470 ---> anxious\n",
      "12159 ---> interviewees\n",
      "2978 ---> receive\n",
      "226 ---> lower\n",
      "3326 ---> interview\n",
      "83 ---> performance\n",
      "1714 ---> ratings\n",
      "2 ---> .\n",
      "1 ---> the\n",
      "685 ---> behavioral\n",
      "214 ---> expression\n",
      "4 ---> of\n",
      "3326 ---> interview\n",
      "425 ---> anxiety\n",
      "43 ---> model\n",
      "21 ---> was\n",
      "1568 ---> created\n",
      "15 ---> as\n",
      "8 ---> a\n",
      "2172 ---> conceptual\n",
      "302 ---> framework\n",
      "7 ---> to\n",
      "986 ---> explore\n",
      "33 ---> these\n",
      "1664 ---> relations\n",
      "2 ---> .\n",
      "22 ---> we\n",
      "9011 ---> videotaped\n",
      "5 ---> and\n",
      "7339 ---> transcribed\n",
      "10053 ---> mock\n",
      "4092 ---> job\n",
      "2042 ---> interviews\n",
      "3 ---> ,\n",
      "203 ---> obtained\n",
      "1714 ---> ratings\n",
      "4 ---> of\n",
      "3326 ---> interview\n",
      "425 ---> anxiety\n",
      "5 ---> and\n",
      "3326 ---> interview\n",
      "83 ---> performance\n",
      "3 ---> ,\n",
      "5 ---> and\n",
      "2795 ---> trained\n",
      "5131 ---> raters\n",
      "7 ---> to\n",
      "477 ---> assess\n",
      "191 ---> several\n",
      "894 ---> verbal\n",
      "5 ---> and\n",
      "548 ---> nonverbal\n",
      "1201 ---> cues\n",
      "5 ---> and\n",
      "1258 ---> trait\n",
      "1686 ---> judgments\n",
      "2 ---> .\n",
      "1 ---> the\n",
      "27 ---> results\n",
      "578 ---> indicated\n",
      "12 ---> that\n",
      "755 ---> few\n",
      "685 ---> behavioral\n",
      "1201 ---> cues\n",
      "3 ---> ,\n",
      "69 ---> but\n",
      "191 ---> several\n",
      "733 ---> traits\n",
      "20 ---> were\n",
      "114 ---> related\n",
      "7 ---> to\n",
      "26652 ---> interviewee\n",
      "5 ---> and\n",
      "19677 ---> interviewer\n",
      "1714 ---> ratings\n",
      "4 ---> of\n",
      "3326 ---> interview\n",
      "425 ---> anxiety\n",
      "2 ---> .\n",
      "57 ---> two\n",
      "172 ---> factors\n",
      "1930 ---> emerged\n",
      "24 ---> from\n",
      "67 ---> our\n",
      "275 ---> factor\n",
      "54 ---> analysis\n",
      "13 ---> on\n",
      "1 ---> the\n",
      "1258 ---> trait\n",
      "1686 ---> judgments\n",
      "15967 ---> assertiveness\n",
      "5 ---> and\n",
      "1447 ---> interpersonal\n",
      "2796 ---> warmth\n",
      "2 ---> .\n",
      "4860 ---> mediation\n",
      "342 ---> analyses\n",
      "20 ---> were\n",
      "208 ---> performed\n",
      "5 ---> and\n",
      "578 ---> indicated\n",
      "12 ---> that\n",
      "15967 ---> assertiveness\n",
      "5 ---> and\n",
      "1447 ---> interpersonal\n",
      "2796 ---> warmth\n",
      "790 ---> mediated\n",
      "1 ---> the\n",
      "1092 ---> relation\n",
      "38 ---> between\n",
      "3326 ---> interview\n",
      "425 ---> anxiety\n",
      "5 ---> and\n",
      "3326 ---> interview\n",
      "83 ---> performance\n",
      "2 ---> .\n",
      "2248 ---> speech\n",
      "212 ---> rate\n",
      "2568 ---> words\n",
      "9012 ---> spoken\n",
      "591 ---> per\n",
      "5446 ---> minute\n",
      "5 ---> and\n",
      "15967 ---> assertiveness\n",
      "20 ---> were\n",
      "106 ---> found\n",
      "7 ---> to\n",
      "4589 ---> mediate\n",
      "1 ---> the\n",
      "1092 ---> relation\n",
      "38 ---> between\n",
      "26652 ---> interviewee\n",
      "5 ---> and\n",
      "19677 ---> interviewer\n",
      "1714 ---> ratings\n",
      "4 ---> of\n",
      "3326 ---> interview\n",
      "425 ---> anxiety\n",
      "2 ---> .\n",
      "368 ---> overall\n",
      "3 ---> ,\n",
      "1 ---> the\n",
      "27 ---> results\n",
      "578 ---> indicated\n",
      "12 ---> that\n",
      "12159 ---> interviewees\n",
      "310 ---> should\n",
      "569 ---> focus\n",
      "242 ---> less\n",
      "13 ---> on\n",
      "47 ---> their\n",
      "3948 ---> nervous\n",
      "26653 ---> tics\n",
      "5 ---> and\n",
      "51 ---> more\n",
      "13 ---> on\n",
      "1 ---> the\n",
      "4047 ---> broader\n",
      "2588 ---> impressions\n",
      "12 ---> that\n",
      "131 ---> they\n",
      "5367 ---> convey\n",
      "2 ---> .\n",
      "67 ---> our\n",
      "171 ---> findings\n",
      "504 ---> indicate\n",
      "12 ---> that\n",
      "4470 ---> anxious\n",
      "12159 ---> interviewees\n",
      "75 ---> may\n",
      "6684 ---> want\n",
      "7 ---> to\n",
      "569 ---> focus\n",
      "13 ---> on\n",
      "159 ---> how\n",
      "17627 ---> assertive\n",
      "5 ---> and\n",
      "15968 ---> interpersonally\n",
      "5215 ---> warm\n",
      "131 ---> they\n",
      "1884 ---> appear\n",
      "7 ---> to\n",
      "15969 ---> interviewers\n",
      "2 ---> .\n",
      "7 ---> to\n",
      "67 ---> our\n",
      "256 ---> knowledge\n",
      "3 ---> ,\n",
      "14 ---> this\n",
      "10 ---> is\n",
      "1 ---> the\n",
      "118 ---> first\n",
      "26 ---> study\n",
      "7 ---> to\n",
      "60 ---> use\n",
      "8 ---> a\n",
      "939 ---> validated\n",
      "3326 ---> interview\n",
      "425 ---> anxiety\n",
      "608 ---> measure\n",
      "7 ---> to\n",
      "751 ---> examine\n",
      "685 ---> behavioral\n",
      "1201 ---> cues\n",
      "5 ---> and\n",
      "733 ---> traits\n",
      "1361 ---> exhibited\n",
      "16 ---> by\n",
      "4470 ---> anxious\n",
      "12159 ---> interviewees\n",
      "2 ---> .\n",
      "22 ---> we\n",
      "1701 ---> offer\n",
      "78 ---> new\n",
      "1811 ---> insight\n",
      "89 ---> into\n",
      "2398 ---> why\n",
      "4470 ---> anxious\n",
      "12159 ---> interviewees\n",
      "2978 ---> receive\n",
      "226 ---> lower\n",
      "3326 ---> interview\n",
      "83 ---> performance\n",
      "1714 ---> ratings\n",
      "2 ---> .\n",
      "19 ---> <end>\n"
     ]
    }
   ],
   "source": [
    "def convert(text,tensor):\n",
    "    for t in tensor:\n",
    "        if t != 0:\n",
    "            print (\"%d ---> %s\" % (t,text.index_word[t]))\n",
    "            \n",
    "convert(data_tokenizer,data_tensor[0])"
   ]
  },
  {
   "cell_type": "code",
   "execution_count": 219,
   "metadata": {},
   "outputs": [
    {
     "data": {
      "text/plain": [
       "'the'"
      ]
     },
     "execution_count": 219,
     "metadata": {},
     "output_type": "execute_result"
    }
   ],
   "source": [
    "data_tokenizer.index_word[1]"
   ]
  },
  {
   "cell_type": "code",
   "execution_count": 207,
   "metadata": {},
   "outputs": [],
   "source": [
    "data_train, data_test, label_train, label_test = train_test_split(data_tensor, label_tensor,test_size = 0.2)"
   ]
  },
  {
   "cell_type": "code",
   "execution_count": 208,
   "metadata": {},
   "outputs": [
    {
     "data": {
      "text/plain": [
       "<tf.Tensor: id=20350, shape=(9573, 6), dtype=float32, numpy=\n",
       "array([[0., 0., 1., 0., 0., 0.],\n",
       "       [0., 0., 0., 0., 1., 0.],\n",
       "       [0., 0., 0., 0., 0., 0.],\n",
       "       ...,\n",
       "       [0., 0., 0., 1., 0., 0.],\n",
       "       [0., 0., 0., 0., 0., 0.],\n",
       "       [0., 0., 0., 0., 0., 0.]], dtype=float32)>"
      ]
     },
     "execution_count": 208,
     "metadata": {},
     "output_type": "execute_result"
    }
   ],
   "source": [
    "_label_train = []\n",
    "\n",
    "for line in label_train:\n",
    "    for value in line:\n",
    "        _label_train.append(value)\n",
    "        \n",
    "_label_train = np.array(_label_train,dtype = np.int64)\n",
    "\n",
    "label_train_one_hot= tf.one_hot(_label_train,6)\n",
    "label_train_one_hot"
   ]
  },
  {
   "cell_type": "code",
   "execution_count": 209,
   "metadata": {},
   "outputs": [
    {
     "data": {
      "text/plain": [
       "<tf.Tensor: id=20356, shape=(9573, 6), dtype=float32, numpy=\n",
       "array([[0., 0., 1., 0., 0., 0.],\n",
       "       [0., 0., 0., 0., 1., 0.],\n",
       "       [0., 0., 0., 0., 0., 0.],\n",
       "       ...,\n",
       "       [0., 0., 0., 1., 0., 0.],\n",
       "       [0., 0., 0., 0., 0., 0.],\n",
       "       [0., 0., 0., 0., 0., 0.]], dtype=float32)>"
      ]
     },
     "execution_count": 209,
     "metadata": {},
     "output_type": "execute_result"
    }
   ],
   "source": [
    "one_hot= tf.one_hot(_label_train,6)\n",
    "one_hot"
   ]
  },
  {
   "cell_type": "code",
   "execution_count": 210,
   "metadata": {},
   "outputs": [
    {
     "data": {
      "text/plain": [
       "<BatchDataset shapes: ((16, 300), (16, 1)), types: (tf.int32, tf.int32)>"
      ]
     },
     "execution_count": 210,
     "metadata": {},
     "output_type": "execute_result"
    }
   ],
   "source": [
    "batch_size = 16\n",
    "buffer_size = 32\n",
    "\n",
    "steps_per_epoch = len(data_train) // batch_size\n",
    "\n",
    "vocab_data_size = len(data_tokenizer.word_index) + 1\n",
    "vocab_label_size = len(label_tokenizer.word_index) + 1\n",
    "\n",
    "\n",
    "dataset = tf.data.Dataset.from_tensor_slices((data_train,label_train)).shuffle(buffer_size)\n",
    "dataset = dataset.batch(batch_size,drop_remainder=True)\n",
    "\n",
    "dataset"
   ]
  },
  {
   "cell_type": "code",
   "execution_count": 211,
   "metadata": {},
   "outputs": [
    {
     "name": "stdout",
     "output_type": "stream",
     "text": [
      "Model: \"sequential_11\"\n",
      "_________________________________________________________________\n",
      "Layer (type)                 Output Shape              Param #   \n",
      "=================================================================\n",
      "embedding_11 (Embedding)     (None, 300, 32)           1679712   \n",
      "_________________________________________________________________\n",
      "global_average_pooling1d_11  (None, 32)                0         \n",
      "_________________________________________________________________\n",
      "dense_22 (Dense)             (None, 16)                528       \n",
      "_________________________________________________________________\n",
      "dense_23 (Dense)             (None, 6)                 102       \n",
      "=================================================================\n",
      "Total params: 1,680,342\n",
      "Trainable params: 1,680,342\n",
      "Non-trainable params: 0\n",
      "_________________________________________________________________\n"
     ]
    }
   ],
   "source": [
    "embedding_dim = 32\n",
    "\n",
    "model = keras.Sequential([\n",
    "    keras.layers.Embedding(vocab_data_size,embedding_dim,input_length = max_data_length),\n",
    "    keras.layers.GlobalAveragePooling1D(),\n",
    "    keras.layers.Dense(16,activation = 'relu'),\n",
    "    keras.layers.Dense(6,activation = 'sigmoid')\n",
    "])\n",
    "\n",
    "model.summary()"
   ]
  },
  {
   "cell_type": "code",
   "execution_count": 212,
   "metadata": {
    "scrolled": true
   },
   "outputs": [
    {
     "name": "stdout",
     "output_type": "stream",
     "text": [
      "Train on 7658 samples, validate on 1915 samples\n",
      "Epoch 1/30\n",
      "7658/7658 [==============================] - 1s 160us/sample - loss: 0.6795 - accuracy: 0.7732 - val_loss: 0.6643 - val_accuracy: 0.8185\n",
      "Epoch 2/30\n",
      "7658/7658 [==============================] - 1s 131us/sample - loss: 0.6469 - accuracy: 0.8597 - val_loss: 0.6250 - val_accuracy: 0.8696\n",
      "Epoch 3/30\n",
      "7658/7658 [==============================] - 1s 134us/sample - loss: 0.6009 - accuracy: 0.8706 - val_loss: 0.5720 - val_accuracy: 0.8696\n",
      "Epoch 4/30\n",
      "7658/7658 [==============================] - 1s 131us/sample - loss: 0.5419 - accuracy: 0.8706 - val_loss: 0.5081 - val_accuracy: 0.8696\n",
      "Epoch 5/30\n",
      "7658/7658 [==============================] - 1s 128us/sample - loss: 0.4771 - accuracy: 0.8706 - val_loss: 0.4464 - val_accuracy: 0.8696\n",
      "Epoch 6/30\n",
      "7658/7658 [==============================] - 1s 131us/sample - loss: 0.4225 - accuracy: 0.8706 - val_loss: 0.4035 - val_accuracy: 0.8696\n",
      "Epoch 7/30\n",
      "7658/7658 [==============================] - 1s 131us/sample - loss: 0.3904 - accuracy: 0.8706 - val_loss: 0.3831 - val_accuracy: 0.8696\n",
      "Epoch 8/30\n",
      "7658/7658 [==============================] - 1s 130us/sample - loss: 0.3762 - accuracy: 0.8706 - val_loss: 0.3743 - val_accuracy: 0.8696\n",
      "Epoch 9/30\n",
      "7658/7658 [==============================] - 1s 132us/sample - loss: 0.3690 - accuracy: 0.8706 - val_loss: 0.3688 - val_accuracy: 0.8696\n",
      "Epoch 10/30\n",
      "7658/7658 [==============================] - 1s 129us/sample - loss: 0.3641 - accuracy: 0.8706 - val_loss: 0.3647 - val_accuracy: 0.8696\n",
      "Epoch 11/30\n",
      "7658/7658 [==============================] - 1s 132us/sample - loss: 0.3605 - accuracy: 0.8706 - val_loss: 0.3616 - val_accuracy: 0.8696\n",
      "Epoch 12/30\n",
      "7658/7658 [==============================] - 1s 131us/sample - loss: 0.3577 - accuracy: 0.8706 - val_loss: 0.3592 - val_accuracy: 0.8696\n",
      "Epoch 13/30\n",
      "7658/7658 [==============================] - 1s 130us/sample - loss: 0.3554 - accuracy: 0.8706 - val_loss: 0.3571 - val_accuracy: 0.8696\n",
      "Epoch 14/30\n",
      "7658/7658 [==============================] - 1s 130us/sample - loss: 0.3533 - accuracy: 0.8706 - val_loss: 0.3551 - val_accuracy: 0.8696\n",
      "Epoch 15/30\n",
      "7658/7658 [==============================] - 1s 135us/sample - loss: 0.3513 - accuracy: 0.8706 - val_loss: 0.3533 - val_accuracy: 0.8696\n",
      "Epoch 16/30\n",
      "7658/7658 [==============================] - 1s 134us/sample - loss: 0.3493 - accuracy: 0.8706 - val_loss: 0.3515 - val_accuracy: 0.8696\n",
      "Epoch 17/30\n",
      "7658/7658 [==============================] - 1s 130us/sample - loss: 0.3473 - accuracy: 0.8706 - val_loss: 0.3496 - val_accuracy: 0.8696\n",
      "Epoch 18/30\n",
      "7658/7658 [==============================] - 1s 131us/sample - loss: 0.3453 - accuracy: 0.8706 - val_loss: 0.3477 - val_accuracy: 0.8696\n",
      "Epoch 19/30\n",
      "7658/7658 [==============================] - 1s 130us/sample - loss: 0.3432 - accuracy: 0.8706 - val_loss: 0.3457 - val_accuracy: 0.8696\n",
      "Epoch 20/30\n",
      "7658/7658 [==============================] - 1s 132us/sample - loss: 0.3409 - accuracy: 0.8706 - val_loss: 0.3436 - val_accuracy: 0.8696\n",
      "Epoch 21/30\n",
      "7658/7658 [==============================] - 1s 130us/sample - loss: 0.3385 - accuracy: 0.8706 - val_loss: 0.3413 - val_accuracy: 0.8696\n",
      "Epoch 22/30\n",
      "7658/7658 [==============================] - 1s 130us/sample - loss: 0.3359 - accuracy: 0.8706 - val_loss: 0.3387 - val_accuracy: 0.8696\n",
      "Epoch 23/30\n",
      "7658/7658 [==============================] - 1s 131us/sample - loss: 0.3330 - accuracy: 0.8706 - val_loss: 0.3361 - val_accuracy: 0.8696\n",
      "Epoch 24/30\n",
      "7658/7658 [==============================] - 1s 130us/sample - loss: 0.3299 - accuracy: 0.8706 - val_loss: 0.3330 - val_accuracy: 0.8696\n",
      "Epoch 25/30\n",
      "7658/7658 [==============================] - 1s 126us/sample - loss: 0.3261 - accuracy: 0.8706 - val_loss: 0.3292 - val_accuracy: 0.8696\n",
      "Epoch 26/30\n",
      "7658/7658 [==============================] - 1s 128us/sample - loss: 0.3216 - accuracy: 0.8706 - val_loss: 0.3249 - val_accuracy: 0.8697\n",
      "Epoch 27/30\n",
      "7658/7658 [==============================] - 1s 130us/sample - loss: 0.3168 - accuracy: 0.8709 - val_loss: 0.3202 - val_accuracy: 0.8701\n",
      "Epoch 28/30\n",
      "7658/7658 [==============================] - 1s 128us/sample - loss: 0.3114 - accuracy: 0.8714 - val_loss: 0.3152 - val_accuracy: 0.8706\n",
      "Epoch 29/30\n",
      "7658/7658 [==============================] - 1s 130us/sample - loss: 0.3057 - accuracy: 0.8724 - val_loss: 0.3098 - val_accuracy: 0.8715\n",
      "Epoch 30/30\n",
      "7658/7658 [==============================] - 1s 131us/sample - loss: 0.2997 - accuracy: 0.8735 - val_loss: 0.3041 - val_accuracy: 0.8724\n"
     ]
    }
   ],
   "source": [
    "model.compile(optimizer = keras.optimizers.Adam(),\n",
    "              loss = 'binary_crossentropy',\n",
    "              metrics = ['accuracy'])\n",
    "\n",
    "history = model.fit(data_train,label_train_one_hot,epochs = 30,batch_size = 512,validation_split = 0.2)"
   ]
  },
  {
   "cell_type": "code",
   "execution_count": 213,
   "metadata": {},
   "outputs": [
    {
     "name": "stdout",
     "output_type": "stream",
     "text": [
      "2394/2394 [==============================] - 0s 188us/sample - loss: 0.3062 - accuracy: 0.8710\n"
     ]
    },
    {
     "data": {
      "text/plain": [
       "[0.3062440793068088, 0.8709968]"
      ]
     },
     "execution_count": 213,
     "metadata": {},
     "output_type": "execute_result"
    }
   ],
   "source": [
    "_label_test = []\n",
    "\n",
    "for line in label_test:\n",
    "    for value in line:\n",
    "        _label_test.append(value)\n",
    "        \n",
    "_label_test = np.array(_label_test,dtype = np.int64)\n",
    "\n",
    "label_test_one_hot= tf.one_hot(_label_test,6)\n",
    "\n",
    "result = model.evaluate(data_test,label_test_one_hot)\n",
    "result"
   ]
  },
  {
   "cell_type": "code",
   "execution_count": 214,
   "metadata": {},
   "outputs": [
    {
     "data": {
      "image/png": "[encoded data removed]",
      "text/plain": [
       "<Figure size 864x648 with 1 Axes>"
      ]
     },
     "metadata": {
      "needs_background": "light"
     },
     "output_type": "display_data"
    }
   ],
   "source": [
    "acc = history.history['accuracy']\n",
    "val_acc = history.history['val_accuracy']\n",
    "\n",
    "epochs = range(1, len(acc) + 1)\n",
    "\n",
    "plt.figure(figsize=(12,9))\n",
    "plt.plot(epochs, acc, 'bo', label = 'Traing acc')\n",
    "plt.plot(epochs, val_acc, 'b', label = 'Validation acc')\n",
    "plt.title('Trainging and validation accuracy')\n",
    "plt.xlabel('Epochs')\n",
    "plt.ylabel('Accuracy')\n",
    "plt.legend(loc = 'lower right')\n",
    "plt.ylim((0.5,1))\n",
    "plt.show()"
   ]
  },
  {
   "cell_type": "code",
   "execution_count": 215,
   "metadata": {},
   "outputs": [
    {
     "data": {
      "text/plain": [
       "(52491, 32)"
      ]
     },
     "execution_count": 215,
     "metadata": {},
     "output_type": "execute_result"
    }
   ],
   "source": [
    "# 词嵌入矩阵\n",
    "e = model.layers[0]\n",
    "weights = e.get_weights()[0]\n",
    "weights.shape # (vocab_size, embedding_dim)"
   ]
  },
  {
   "cell_type": "code",
   "execution_count": 221,
   "metadata": {},
   "outputs": [],
   "source": [
    "import io\n",
    "# 获取vecs.tsv 和 meta.tsv\n",
    "out_v = io.open('vecs.tsv','w',encoding = 'utf-8')\n",
    "out_m = io.open('meta.tsv','w',encoding = 'utf-8')\n",
    "\n",
    "for word_num in range(1,vocab_data_size):\n",
    "    word = data_tokenizer.index_word[word_num]\n",
    "    embeddings = weights[word_num]\n",
    "    out_m.write(word + \"\\n\")\n",
    "    out_v.write('\\t'.join([str(x) for x in embeddings]) + \"\\n\")\n",
    "\n",
    "out_v.close()\n",
    "out_m.close()"
   ]
  },
  {
   "cell_type": "code",
   "execution_count": null,
   "metadata": {},
   "outputs": [],
   "source": []
  }
 ],
 "metadata": {
  "kernelspec": {
   "display_name": "Python 3",
   "language": "python",
   "name": "python3"
  },
  "language_info": {
   "codemirror_mode": {
    "name": "ipython",
    "version": 3
   },
   "file_extension": ".py",
   "mimetype": "text/x-python",
   "name": "python",
   "nbconvert_exporter": "python",
   "pygments_lexer": "ipython3",
   "version": "3.6.2"
  }
 },
 "nbformat": 4,
 "nbformat_minor": 2
}
