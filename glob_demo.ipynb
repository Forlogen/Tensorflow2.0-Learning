{
 "cells": [
  {
   "cell_type": "markdown",
   "metadata": {},
   "source": [
    "### [glob模块 ](https://docs.python.org/3.5/library/glob.html#module-glob)\n",
    "\n",
    "glob可以查找符合特定规则的所有文件路径名，查找文件只用到三个匹配符：\n",
    "\n",
    "- $*$：匹配0个或是多个字符\n",
    "- $?$：匹配单个字符\n",
    "- $[exp]$：匹配指定范围内的字符，如[0-9]匹配数字；$[!exp]$匹配不在指定范围内的字符\n",
    "\n",
    "**glob.glob(pathname,recursive = False)**\n",
    "\n",
    "返回所有匹配的文件路径列表，参数：\n",
    "- pathname，它表示需要匹配的字符串，这里可以是绝对路径，也可以是相对路径，尽量加上前缀$r$ \n",
    "- recursive：它表示递归调用，与特殊通配符$**$一起使用，默认为False\n",
    "\n",
    "该函数返回一个符合条件的路径的字符串列表，如果使用的是Windows系统，路径上的“\\”符号会自动加上转义符号变为“\\\\”（方便使用）。 \n",
    "\n",
    "在3.5版本之后，glob函数支持一个特殊的通配符$**$，该通配符可以匹配指定路径里所有文件和目录，包括子目录里的所有文件和目录。相当于递归地调用了这个函数。使用这个通配符必须加上recursive=True参数。"
   ]
  },
  {
   "cell_type": "code",
   "execution_count": 5,
   "metadata": {},
   "outputs": [
    {
     "name": "stdout",
     "output_type": "stream",
     "text": [
      "<class 'list'>\n",
      "['D:\\\\dyliang\\\\Data\\\\test.txt']\n",
      "['..\\\\batcher.py', '..\\\\beam_search.py', '..\\\\data.py']\n"
     ]
    }
   ],
   "source": [
    "import glob\n",
    "\n",
    "file = glob.glob(r'D:\\dyliang\\Data\\*.txt')\n",
    "\n",
    "print (type(file))\n",
    "print (file)\n",
    "\n",
    "print (glob.glob(r'..\\*.py'))"
   ]
  },
  {
   "cell_type": "markdown",
   "metadata": {},
   "source": [
    "#### glob.iglob(pathname,recursive = False)\n",
    "\n",
    "获取一个迭代器，使用它来逐个获取匹配的文件路径名。相比于glob.glob，它只能一次获取一个匹配路径。"
   ]
  },
  {
   "cell_type": "code",
   "execution_count": 6,
   "metadata": {},
   "outputs": [
    {
     "name": "stdout",
     "output_type": "stream",
     "text": [
      "<generator object _iglob at 0x000002C7065B1150>\n"
     ]
    }
   ],
   "source": [
    "import glob\n",
    "\n",
    "f = glob.iglob(r'..\\*.py')\n",
    "print (f)"
   ]
  },
  {
   "cell_type": "code",
   "execution_count": 7,
   "metadata": {},
   "outputs": [
    {
     "name": "stdout",
     "output_type": "stream",
     "text": [
      "..\\batcher.py\n",
      "..\\beam_search.py\n",
      "..\\data.py\n"
     ]
    }
   ],
   "source": [
    "for py in f:\n",
    "    print (py)"
   ]
  },
  {
   "cell_type": "code",
   "execution_count": null,
   "metadata": {},
   "outputs": [],
   "source": []
  }
 ],
 "metadata": {
  "kernelspec": {
   "display_name": "Python 3",
   "language": "python",
   "name": "python3"
  },
  "language_info": {
   "codemirror_mode": {
    "name": "ipython",
    "version": 3
   },
   "file_extension": ".py",
   "mimetype": "text/x-python",
   "name": "python",
   "nbconvert_exporter": "python",
   "pygments_lexer": "ipython3",
   "version": "3.6.2"
  }
 },
 "nbformat": 4,
 "nbformat_minor": 2
}
