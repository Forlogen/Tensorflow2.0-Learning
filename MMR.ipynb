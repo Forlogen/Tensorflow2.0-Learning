{
 "cells": [
  {
   "cell_type": "markdown",
   "metadata": {},
   "source": [
    "### 最大边界相关算法\n",
    "\n",
    "用于计算查询文本和搜索文档之间的相似度，然后对文档进行排序。算法公式为$$\\text{MMR}(Q,C,R) = Arg \\max_{d_{i},in,c}^k [\\lambda sim(Q,d_{i}) - (a- \\lambda) \\max_{d_{j},k} (sim(d_{i},d_{j}))]$$\n",
    "\n",
    "其中Q指查询文本，C指搜索文档集合，R为一个已经球的的以相关度为基础的初始集合，$Arg \\max_{d_{i},in,c}^k$表示搜索返回的K个句子的索引。\n",
    "\n",
    "具体到文本摘要生成任务中，Q和C表示整篇文档，$d_{i}$表示文档中的某个句子，[ ]中第一项表示文档中某个句子和整篇文档的相似度，后一项表示文档中的某个句子和已经抽取的摘要句子的相似度。通过这样的方式，希望抽取的句子既能表达整个文档的含义，又可以具备多样性，$\\lambda$表示两者重要性的权衡。"
   ]
  },
  {
   "cell_type": "code",
   "execution_count": 1,
   "metadata": {},
   "outputs": [],
   "source": [
    "from sklearn.feature_extraction.text import CountVectorizer\n",
    "from pprint import pprint\n",
    "import operator\n",
    "\n",
    "\n",
    "\n",
    "def encode_sen(sen,corpus):\n",
    "    \"\"\"\n",
    "    input: sentence and corpus \n",
    "    output :  bag of words vector of sentence \n",
    "    \"\"\"\n",
    "    cv = CountVectorizer()\n",
    "    cv = cv.fit(corpus)\n",
    "    vec = cv.transform([sen]).toarray()\n",
    "    return vec[0]\n",
    "\n",
    "def cosin_distance(vector1, vector2):\n",
    "    \"\"\"\n",
    "    input: two bag of words vectors of sentence  \n",
    "    output :  the similarity between the sentence\n",
    "   \n",
    "    \"\"\"\n",
    "    dot_product = 0.0\n",
    "    normA = 0.0\n",
    "    normB = 0.0\n",
    "    for a, b in zip(vector1, vector2):\n",
    "        dot_product += a * b\n",
    "        normA += a ** 2\n",
    "        normB += b ** 2\n",
    "    if normA == 0.0 or normB == 0.0:\n",
    "        return None\n",
    "    else:\n",
    "        return dot_product / ((normA * normB) ** 0.5)\n",
    "\n",
    "\n",
    "def doc_list2str(doc_list):\n",
    "    \"\"\"\n",
    "    transform the doc_list to str \n",
    "    \"\"\"\n",
    "    docu_str = \"\"\n",
    "    for wordlist in doc_list:\n",
    "        docu_str += \" \".join(wordlist)\n",
    "    return docu_str\n",
    "\n",
    "\n",
    "def MMR(doc_list,corpus):\n",
    "    \"\"\"\n",
    "    input ：corpus and the docment you want to extract \n",
    "    output :the abstract of the docment \n",
    "    \"\"\"\n",
    "    Corpus = corpus\n",
    "    docu = doc_list2str(doc_list)\n",
    "    doc_vec = encode_sen(docu,Corpus)\n",
    "    QDScore = {}\n",
    "    ###calculate the  similarity of every sentence with the whole corpus\n",
    "    for sen in doc_list:\n",
    "        sen = \" \".join(sen)\n",
    "\n",
    "        sen_vec = encode_sen(sen,corpus)\n",
    "        score = cosin_distance(sen_vec,doc_vec)\n",
    "        QDScore[sen] = score\n",
    "\n",
    "  \n",
    "    n = 2\n",
    "    alpha = 0.7\n",
    "    Summary_set = []\n",
    "    while n > 0:\n",
    "        MMRScore = {}\n",
    "        ### select the first sentence of abstract\n",
    "        if Summary_set == []:\n",
    "            selected = max(QDScore.items(), key=operator.itemgetter(1))[0]\n",
    "            Summary_set.append(selected)\n",
    "\n",
    "        Summary_set_str = \" \".join(Summary_set)\n",
    "\n",
    "        for sentence in QDScore.keys():\n",
    "             #calculate MMR  \n",
    "            if sentence not in Summary_set:\n",
    "                sum_vec = encode_sen(Summary_set_str, corpus)\n",
    "                sentence_vec = encode_sen(sentence,corpus)\n",
    "                MMRScore[sentence] = alpha * QDScore[sentence] - (1 - alpha) * cosin_distance(sentence_vec,sum_vec)\n",
    "        selected = max(MMRScore.items(), key=operator.itemgetter(1))[0]\n",
    "        Summary_set.append(selected)\n",
    "        n -= 1\n",
    "    # print(len(Summary_set))\n",
    "    return  Summary_set"
   ]
  },
  {
   "cell_type": "code",
   "execution_count": 7,
   "metadata": {},
   "outputs": [
    {
     "name": "stdout",
     "output_type": "stream",
     "text": [
      "伴随着世界杯的落幕，俱乐部联赛筹备工作又成为主流，转会市场必然也会在世界杯的带动下风起云涌，不过对于在本届赛事上大放异彩的姆巴佩而言，大巴黎可以吃一颗定心丸，世界杯最佳新秀已经亲自表态：留在巴黎哪里也不去。在接受外媒采访时，姆巴佩表达了继续为巴黎效忠的决心。“我会留在巴黎，和他们一起继续我的路途，我的职业生涯不过刚刚开始”，姆巴佩说道。事实上，在巴黎这座俱乐部，充满了内部的你争我夺。上赛季，卡瓦尼和内马尔因为点球事件引发轩然大波，而内马尔联合阿尔维斯给姆巴佩起“忍者神龟”的绰号也让法国金童十分不爽，为此，姆巴佩的母亲还站出来替儿子解围。而早在二月份，一场与图卢兹的比赛，内马尔也因为传球问题赛后和姆巴佩产生口角。由此可见，巴黎内部虽然大牌云集，但是气氛并不和睦。内马尔离开球队的心思早就由来已久，而姆巴佩也常常与其它俱乐部联系在一起，在躲避过欧足联财政公平法案之后，巴黎正在为全力留下二人而不遗余力。好在姆巴佩已经下定决心，这对巴黎高层而言，也算是任务完成了一半。本届世界杯上，姆巴佩星光熠熠，长江后浪推前浪，大有将C罗、梅西压在脚下的趋势，他两次追赶贝利，一次是在1/8决赛完成梅开二度，另一次是在世界杯决赛中完成锁定胜局的一球，成为不满20岁球员的第二人。另外他在本届赛事中打进了4粒入球，和格列兹曼并列全队第一。而对巴黎而言，他们成功的标准只有一条：欧冠。而留下姆巴佩，可以说在争夺冠军的路上有了仰仗，卡瓦尼在本届世界杯同样表现不错，内马尔虽然内心波澜，但是之前皇马官方已经辟谣没有追求巴西天王，三人留守再度重来，剩下的就是图赫尔的技术战术与更衣室的威望，对图赫尔而言，战术板固然重要，但是德尚已经为他提供了更加成功的范本，像团结法国队一样去团结巴黎圣日耳曼，或许这才是巴黎取胜的钥匙。\n"
     ]
    }
   ],
   "source": [
    "import jieba\n",
    "docment = \"伴随着世界杯的落幕，俱乐部联赛筹备工作又成为主流，转会市场必然也会在世界杯的带动下风起云涌，不过对于在本届赛事上大放异彩的姆巴佩而言，大巴黎可以吃一颗定心丸，世界杯最佳新秀已经亲自表态：留在巴黎哪里也不去。在接受外媒采访时，姆巴佩表达了继续为巴黎效忠的决心。“我会留在巴黎，和他们一起继续我的路途，我的职业生涯不过刚刚开始”，姆巴佩说道。事实上，在巴黎这座俱乐部，充满了内部的你争我夺。上赛季，卡瓦尼和内马尔因为点球事件引发轩然大波，而内马尔联合阿尔维斯给姆巴佩起“忍者神龟”的绰号也让法国金童十分不爽，为此，姆巴佩的母亲还站出来替儿子解围。而早在二月份，一场与图卢兹的比赛，内马尔也因为传球问题赛后和姆巴佩产生口角。由此可见，巴黎内部虽然大牌云集，但是气氛并不和睦。内马尔离开球队的心思早就由来已久，而姆巴佩也常常与其它俱乐部联系在一起，在躲避过欧足联财政公平法案之后，巴黎正在为全力留下二人而不遗余力。好在姆巴佩已经下定决心，这对巴黎高层而言，也算是任务完成了一半。本届世界杯上，姆巴佩星光熠熠，长江后浪推前浪，大有将C罗、梅西压在脚下的趋势，他两次追赶贝利，一次是在1/8决赛完成梅开二度，另一次是在世界杯决赛中完成锁定胜局的一球，成为不满20岁球员的第二人。另外他在本届赛事中打进了4粒入球，和格列兹曼并列全队第一。而对巴黎而言，他们成功的标准只有一条：欧冠。而留下姆巴佩，可以说在争夺冠军的路上有了仰仗，卡瓦尼在本届世界杯同样表现不错，内马尔虽然内心波澜，但是之前皇马官方已经辟谣没有追求巴西天王，三人留守再度重来，剩下的就是图赫尔的技术战术与更衣室的威望，对图赫尔而言，战术板固然重要，但是德尚已经为他提供了更加成功的范本，像团结法国队一样去团结巴黎圣日耳曼，或许这才是巴黎取胜的钥匙。\"\n",
    "print (docment)\n",
    "\n",
    "sen_list = docment.strip().split(\"。\")\n",
    "sen_list.remove(\"\")\n",
    "doc_list = [jieba.lcut(i) for i in sen_list]\n",
    "corpus = [\" \".join(i) for i in doc_list]"
   ]
  },
  {
   "cell_type": "code",
   "execution_count": 8,
   "metadata": {},
   "outputs": [
    {
     "data": {
      "text/plain": [
       "['伴随 着 世界杯 的 落幕 ， 俱乐部 联赛 筹备工作 又 成为 主流 ， 转会 市场 必然 也 会 在 世界杯 的 带动 下 风起云涌 ， 不过 对于 在 本届 赛事 上 大放异彩 的 姆巴 佩 而言 ， 大 巴黎 可以 吃 一颗 定心丸 ， 世界杯 最佳 新秀 已经 亲自 表态 ： 留在 巴黎 哪里 也 不 去',\n",
       " '而 留下 姆巴 佩 ， 可以 说 在 争夺 冠军 的 路上 有 了 仰仗 ， 卡瓦 尼 在 本届 世界杯 同样 表现 不错 ， 内马尔 虽然 内心 波澜 ， 但是 之前 皇马 官方 已经 辟谣 没有 追求 巴西 天王 ， 三人 留守 再度 重 来 ， 剩下 的 就是 图 赫尔 的 技术 战术 与 更衣室 的 威望 ， 对图 赫尔 而言 ， 战术 板 固然 重要 ， 但是 德尚 已经 为 他 提供 了 更加 成功 的 范本 ， 像 团结 法国队 一样 去 团结 巴黎 圣日耳曼 ， 或许 这才 是 巴黎 取胜 的 钥匙',\n",
       " '好 在 姆巴 佩 已经 下定决心 ， 这 对 巴黎 高层 而言 ， 也 算是 任务 完成 了 一半']"
      ]
     },
     "execution_count": 8,
     "metadata": {},
     "output_type": "execute_result"
    }
   ],
   "source": [
    "MMR(doc_list,corpus)"
   ]
  },
  {
   "cell_type": "code",
   "execution_count": null,
   "metadata": {},
   "outputs": [],
   "source": []
  }
 ],
 "metadata": {
  "kernelspec": {
   "display_name": "Python 3",
   "language": "python",
   "name": "python3"
  },
  "language_info": {
   "codemirror_mode": {
    "name": "ipython",
    "version": 3
   },
   "file_extension": ".py",
   "mimetype": "text/x-python",
   "name": "python",
   "nbconvert_exporter": "python",
   "pygments_lexer": "ipython3",
   "version": "3.6.9"
  }
 },
 "nbformat": 4,
 "nbformat_minor": 2
}
