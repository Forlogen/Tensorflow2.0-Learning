{
 "cells": [
  {
   "cell_type": "code",
   "execution_count": 0,
   "metadata": {
    "colab": {},
    "colab_type": "code",
    "id": "MjxagpMz5SsJ"
   },
   "outputs": [],
   "source": [
    "import os\n",
    "import time\n",
    "import numpy as np\n",
    "import matplotlib as mpl\n",
    "import matplotlib.pyplot as plt\n",
    "from pprint import pprint\n",
    "from IPython.display import clear_output"
   ]
  },
  {
   "cell_type": "markdown",
   "metadata": {
    "colab_type": "text",
    "id": "A4JsepZB5Cqe"
   },
   "source": [
    "#### [TensorFlow Datasets](https://www.tensorflow.org/datasets) \n",
    "\n",
    "[Introducing TensorFlow Datasets](https://medium.com/tensorflow/introducing-tensorflow-datasets-c7f01f7e19f3)\n",
    "\n",
    "可用于 TensorFlow 的一系列数据集的集合。所有数据集都显示为 **tf.data.Datasets**，可以提供易于使用且具有高性能的输入流水线。\n",
    "\n",
    "安装：pip install tensorflow-datasets\n",
    "\n",
    "- tfds.list_builders():查看可用的数据集\n",
    "- tfds.load(name = \"dataset_name\",split = \"trian\"):加载所选的数据集，并按train的方式自动进行划分\n",
    "\n",
    "所有tfds数据集都包含将特征名映射到张量值的特征字典。一个典型的数据集，比如MNIST，有两个键:“image”和“label”。\n",
    "\n",
    "- 使用DatasetBuilder完成数据集的加载\n",
    "\n",
    "\n",
    "```python\n",
    "mnist_builder = tfds.builder(\"mnist\")\n",
    "mnist_builder.download_and_prepare()\n",
    "mnist_train = mnist_builder.as_dataset(split=\"train\")\n",
    "mnist_train\n",
    "```\n",
    "\n",
    "- 构建输入流水线\n",
    "\n",
    "\n",
    "```python\n",
    "mnist_train = mnist_train.repeat().shuffle(1024).batch(32)\n",
    "\n",
    "# prefetch will enable the input pipeline to asynchronously fetch batches while\n",
    "# your model is training.\n",
    "mnist_train = mnist_train.prefetch(tf.data.experimental.AUTOTUNE)\n",
    "\n",
    "# Now you could loop over batches of the dataset and train\n",
    "# for batch in mnist_train:\n",
    "#   ...\n",
    "```\n",
    "\n",
    "- 查看数据集的相关信息：\n",
    "\n",
    "```python\n",
    "info = minst_builder.info\n",
    "info\n",
    "\n",
    "print (info.features)\n",
    "print (info.features[\"label\"].num_classes)\n",
    "print (info.features[\"label\"].names)\n",
    "```\n",
    "\n",
    "\n"
   ]
  },
  {
   "cell_type": "code",
   "execution_count": 0,
   "metadata": {
    "colab": {
     "base_uri": "https://localhost:8080/",
     "height": 34
    },
    "colab_type": "code",
    "id": "IUjo0Gek5fcu",
    "outputId": "cde198a7-913e-4b86-ca45-ced438049223"
   },
   "outputs": [
    {
     "name": "stdout",
     "output_type": "stream",
     "text": [
      "2.0.0-beta0\n"
     ]
    }
   ],
   "source": [
    "!pip install tensorflow-gpu==2.0.0-beta0\n",
    "clear_output()\n",
    "\n",
    "import tensorflow as tf\n",
    "import tensorflow_datasets as tfds\n",
    "print(tf.__version__)\n",
    "\n",
    "os.environ[\"CUDA_VISIBLE_DEVICES\"] = \"0\""
   ]
  },
  {
   "cell_type": "code",
   "execution_count": 0,
   "metadata": {
    "colab": {},
    "colab_type": "code",
    "id": "Pwlrqrvp5sz8"
   },
   "outputs": [],
   "source": [
    "import logging\n",
    "# 使用logging模块来获取训练过程中的一些信息\n",
    "logging.basicConfig(level=logging.ERROR)\n",
    "# 不使用科学计数法\n",
    "np.set_printoptions(suppress=True)"
   ]
  },
  {
   "cell_type": "code",
   "execution_count": 0,
   "metadata": {
    "colab": {
     "base_uri": "https://localhost:8080/",
     "height": 34
    },
    "colab_type": "code",
    "id": "SbCkfCXNEEby",
    "outputId": "3a919835-e123-4608-cdcb-743733502674"
   },
   "outputs": [
    {
     "name": "stdout",
     "output_type": "stream",
     "text": [
      "Found GPU at: /device:GPU:0\n"
     ]
    }
   ],
   "source": [
    "# 显式制定使用GPU\n",
    "device_name = tf.test.gpu_device_name()\n",
    "if device_name != '/device:GPU:0':\n",
    "  raise SystemError('GPU device not found')\n",
    "print('Found GPU at: {}'.format(device_name))"
   ]
  },
  {
   "cell_type": "code",
   "execution_count": 0,
   "metadata": {
    "colab": {},
    "colab_type": "code",
    "id": "yOspleHl5yDM"
   },
   "outputs": [],
   "source": [
    "# 配置实验中所需的文件路径\n",
    "output_dir = \"nmt\"\n",
    "en_vocab_file = os.path.join(output_dir, \"en_vocab\")\n",
    "zh_vocab_file = os.path.join(output_dir, \"zh_vocab\")\n",
    "checkpoint_path = os.path.join(output_dir, \"checkpoints\")\n",
    "log_dir = os.path.join(output_dir, 'logs')\n",
    "download_dir = \"tensorflow-datasets/downloads\"\n",
    "\n",
    "if not os.path.exists(output_dir):\n",
    "  os.makedirs(output_dir)"
   ]
  },
  {
   "cell_type": "markdown",
   "metadata": {
    "colab_type": "text",
    "id": "7YR3EoAy20Uz"
   },
   "source": [
    "### 输入流水线\n",
    "\n",
    "Transformer相比较于RNNs一个优点就在于并行化，因此为了充分利用这个优势，我们需要构建输入Input pipeline。它可以实现在当前训练步骤完成之前就准备好下一时刻所需的数据，这里需要使用**tf.data**这个API。"
   ]
  },
  {
   "cell_type": "code",
   "execution_count": 0,
   "metadata": {
    "colab": {
     "base_uri": "https://localhost:8080/",
     "height": 185
    },
    "colab_type": "code",
    "id": "KU5Kgc6t51b2",
    "outputId": "9bd0a7fc-75cb-4e70-da1f-f2a4aad52b56"
   },
   "outputs": [
    {
     "name": "stdout",
     "output_type": "stream",
     "text": [
      "{NamedSplit('train'): ['newscommentary_v14',\n",
      "                       'wikititles_v1',\n",
      "                       'uncorpus_v1',\n",
      "                       'casia2015',\n",
      "                       'casict2011',\n",
      "                       'casict2015',\n",
      "                       'datum2015',\n",
      "                       'datum2017',\n",
      "                       'neu2017'],\n",
      " NamedSplit('validation'): ['newstest2018']}\n"
     ]
    }
   ],
   "source": [
    "# 使用tfds.builder查看可使用的中英互翻数据集\n",
    "tmp_builder = tfds.builder(\"wmt19_translate/zh-en\")\n",
    "pprint(tmp_builder.subsets)"
   ]
  },
  {
   "cell_type": "markdown",
   "metadata": {
    "colab_type": "text",
    "id": "0mWgdNf739dB"
   },
   "source": [
    "这里主要使用到**tfds.translate**和**tfds.builder**这两个API，它们可以完成如下的一些工作：\n",
    "\n",
    "- 下载语料库的压缩文件并自动解压缩\n",
    "- 逐行读取CSV文件里所有的中英语句，并将不符合格式要求的剔除\n",
    "- 打乱语料库并将其转换为TFRecoder格式的数据方便加速读取"
   ]
  },
  {
   "cell_type": "code",
   "execution_count": 0,
   "metadata": {
    "colab": {},
    "colab_type": "code",
    "id": "uNaZdavX54PU"
   },
   "outputs": [],
   "source": [
    "# 配置文件：选择newscommentary_v14作为所用的语料库\n",
    "config = tfds.translate.wmt.WmtConfig(\n",
    "  version=tfds.core.Version('0.0.3', experiments={tfds.core.Experiment.S3: False}),\n",
    "  language_pair=(\"zh\", \"en\"),\n",
    "  subsets={\n",
    "    tfds.Split.TRAIN: [\"newscommentary_v14\"]\n",
    "  }\n",
    ")\n",
    "\n",
    "builder = tfds.builder(\"wmt_translate\", config=config)\n",
    "builder.download_and_prepare(download_dir=download_dir)\n",
    "clear_output()"
   ]
  },
  {
   "cell_type": "markdown",
   "metadata": {
    "colab_type": "text",
    "id": "4gWINZYd9vLU"
   },
   "source": [
    "#### 划分语料库\n",
    "\n",
    "20%用来训练，1%用于验证，其余的舍弃不用。这样的划分只是为了方便快速的验证模型，如果想效果更好可使用更多的数据进行训练。"
   ]
  },
  {
   "cell_type": "code",
   "execution_count": 0,
   "metadata": {
    "colab": {
     "base_uri": "https://localhost:8080/",
     "height": 67
    },
    "colab_type": "code",
    "id": "2Lz9A57r6kRL",
    "outputId": "10ec277b-8dfb-4d66-d008-2128cac1d238"
   },
   "outputs": [
    {
     "data": {
      "text/plain": [
       "(NamedSplit('train')(tfds.percent[0:20]),\n",
       " NamedSplit('train')(tfds.percent[20:21]),\n",
       " NamedSplit('train')(tfds.percent[21:100]))"
      ]
     },
     "execution_count": 100,
     "metadata": {
      "tags": []
     },
     "output_type": "execute_result"
    }
   ],
   "source": [
    "# 划分语料库\n",
    "train_perc = 20\n",
    "val_prec = 1\n",
    "drop_prec = 100 - train_perc - val_prec\n",
    "\n",
    "split = tfds.Split.TRAIN.subsplit([train_perc, val_prec, drop_prec])\n",
    "split"
   ]
  },
  {
   "cell_type": "code",
   "execution_count": 0,
   "metadata": {
    "colab": {
     "base_uri": "https://localhost:8080/",
     "height": 50
    },
    "colab_type": "code",
    "id": "5wmxpQmm6m7V",
    "outputId": "d28ff747-7e1c-4923-da87-446a23071297"
   },
   "outputs": [
    {
     "name": "stdout",
     "output_type": "stream",
     "text": [
      "<_OptionsDataset shapes: ((), ()), types: (tf.string, tf.string)>\n",
      "<_OptionsDataset shapes: ((), ()), types: (tf.string, tf.string)>\n"
     ]
    }
   ],
   "source": [
    "# train_expamples和val_examples都是_OptionsDataset，其中包含中英文配对的字符串形式的数据\n",
    "examples = builder.as_dataset(split=split, as_supervised=True)\n",
    "train_examples, val_examples, _ = examples\n",
    "\n",
    "print(train_examples)\n",
    "print(val_examples)"
   ]
  },
  {
   "cell_type": "code",
   "execution_count": 0,
   "metadata": {
    "colab": {
     "base_uri": "https://localhost:8080/",
     "height": 238
    },
    "colab_type": "code",
    "id": "_zITasUn6okM",
    "outputId": "5344ecbd-89a9-49fc-bc5a-cbb2aabedcb9"
   },
   "outputs": [
    {
     "name": "stdout",
     "output_type": "stream",
     "text": [
      "tf.Tensor(b'Making Do With More', shape=(), dtype=string)\n",
      "tf.Tensor(b'\\xe5\\xa4\\x9a\\xe5\\x8a\\xb3\\xe5\\xba\\x94\\xe5\\xa4\\x9a\\xe5\\xbe\\x97', shape=(), dtype=string)\n",
      "b'\\xe5\\xa4\\x9a\\xe5\\x8a\\xb3\\xe5\\xba\\x94\\xe5\\xa4\\x9a\\xe5\\xbe\\x97'\n",
      "----------\n",
      "tf.Tensor(b'If the Putins, Erdo\\xc4\\x9fans, and Orb\\xc3\\xa1ns of the world want to continue to benefit economically from the open international system, they cannot simply make up their own rules.', shape=(), dtype=string)\n",
      "tf.Tensor(b'\\xe5\\xa6\\x82\\xe6\\x9e\\x9c\\xe6\\x99\\xae\\xe4\\xba\\xac\\xe3\\x80\\x81\\xe5\\x9f\\x83\\xe5\\xb0\\x94\\xe5\\xa4\\x9a\\xe5\\xae\\x89\\xe5\\x92\\x8c\\xe6\\xac\\xa7\\xe5\\xb0\\x94\\xe7\\x8f\\xad\\xe5\\xb8\\x8c\\xe6\\x9c\\x9b\\xe7\\xbb\\xa7\\xe7\\xbb\\xad\\xe4\\xba\\xab\\xe6\\x9c\\x89\\xe5\\xbc\\x80\\xe6\\x94\\xbe\\xe5\\x9b\\xbd\\xe9\\x99\\x85\\xe4\\xbd\\x93\\xe7\\xb3\\xbb\\xe6\\x8f\\x90\\xe4\\xbe\\x9b\\xe7\\x9a\\x84\\xe7\\xbb\\x8f\\xe6\\xb5\\x8e\\xe5\\x88\\xa9\\xe7\\x9b\\x8a\\xef\\xbc\\x8c\\xe5\\xb0\\xb1\\xe4\\xb8\\x8d\\xe8\\x83\\xbd\\xe7\\xae\\x80\\xe5\\x8d\\x95\\xe5\\x9c\\xb0\\xe5\\x88\\xb6\\xe5\\xae\\x9a\\xe8\\x87\\xaa\\xe5\\xb7\\xb1\\xe7\\x9a\\x84\\xe8\\xa7\\x84\\xe5\\x88\\x99\\xe3\\x80\\x82', shape=(), dtype=string)\n",
      "b'\\xe5\\xa6\\x82\\xe6\\x9e\\x9c\\xe6\\x99\\xae\\xe4\\xba\\xac\\xe3\\x80\\x81\\xe5\\x9f\\x83\\xe5\\xb0\\x94\\xe5\\xa4\\x9a\\xe5\\xae\\x89\\xe5\\x92\\x8c\\xe6\\xac\\xa7\\xe5\\xb0\\x94\\xe7\\x8f\\xad\\xe5\\xb8\\x8c\\xe6\\x9c\\x9b\\xe7\\xbb\\xa7\\xe7\\xbb\\xad\\xe4\\xba\\xab\\xe6\\x9c\\x89\\xe5\\xbc\\x80\\xe6\\x94\\xbe\\xe5\\x9b\\xbd\\xe9\\x99\\x85\\xe4\\xbd\\x93\\xe7\\xb3\\xbb\\xe6\\x8f\\x90\\xe4\\xbe\\x9b\\xe7\\x9a\\x84\\xe7\\xbb\\x8f\\xe6\\xb5\\x8e\\xe5\\x88\\xa9\\xe7\\x9b\\x8a\\xef\\xbc\\x8c\\xe5\\xb0\\xb1\\xe4\\xb8\\x8d\\xe8\\x83\\xbd\\xe7\\xae\\x80\\xe5\\x8d\\x95\\xe5\\x9c\\xb0\\xe5\\x88\\xb6\\xe5\\xae\\x9a\\xe8\\x87\\xaa\\xe5\\xb7\\xb1\\xe7\\x9a\\x84\\xe8\\xa7\\x84\\xe5\\x88\\x99\\xe3\\x80\\x82'\n",
      "----------\n",
      "tf.Tensor(b'This ceiling can be raised only in a deep depression or other exceptional circumstances, allowing for counter-cyclical policy so long as it is agreed that the additional deficit is cyclical, rather than structural.', shape=(), dtype=string)\n",
      "tf.Tensor(b'\\xe5\\x8f\\xaa\\xe6\\x9c\\x89\\xe5\\x9c\\xa8\\xe5\\x8f\\x91\\xe7\\x94\\x9f\\xe6\\xb7\\xb1\\xe5\\xba\\xa6\\xe8\\x90\\xa7\\xe6\\x9d\\xa1\\xe6\\x88\\x96\\xe5\\x85\\xb6\\xe4\\xbb\\x96\\xe5\\x8f\\x8d\\xe5\\xb8\\xb8\\xe4\\xba\\x8b\\xe4\\xbb\\xb6\\xe6\\x97\\xb6\\xef\\xbc\\x8c\\xe8\\xbf\\x99\\xe4\\xb8\\x80\\xe4\\xb8\\x8a\\xe9\\x99\\x90\\xe6\\x89\\x8d\\xe8\\x83\\xbd\\xe5\\x81\\x9a\\xe5\\x87\\xba\\xe8\\xb0\\x83\\xe6\\x95\\xb4\\xef\\xbc\\x8c\\xe4\\xbb\\xa5\\xe4\\xbe\\xbf\\xe8\\xae\\xa9\\xe5\\x8f\\x8d\\xe5\\x91\\xa8\\xe6\\x9c\\x9f\\xe6\\x94\\xbf\\xe7\\xad\\x96\\xe5\\xae\\x9e\\xe6\\x96\\xbd\\xe8\\xb6\\xb3\\xe5\\xa4\\x9f\\xe7\\x9a\\x84\\xe9\\x95\\xbf\\xe5\\xba\\xa6\\xef\\xbc\\x8c\\xe4\\xbd\\xbf\\xe4\\xba\\xba\\xe4\\xbb\\xac\\xe4\\xb8\\x80\\xe8\\x87\\xb4\\xe8\\xae\\xa4\\xe4\\xb8\\xba\\xe5\\xa2\\x9e\\xe5\\x8a\\xa0\\xe7\\x9a\\x84\\xe8\\xb5\\xa4\\xe5\\xad\\x97\\xe6\\x98\\xaf\\xe5\\x91\\xa8\\xe6\\x9c\\x9f\\xe6\\x80\\xa7\\xe7\\x9a\\x84\\xef\\xbc\\x8c\\xe8\\x80\\x8c\\xe4\\xb8\\x8d\\xe6\\x98\\xaf\\xe7\\xbb\\x93\\xe6\\x9e\\x84\\xe6\\x80\\xa7\\xe7\\x9a\\x84\\xe3\\x80\\x82', shape=(), dtype=string)\n",
      "b'\\xe5\\x8f\\xaa\\xe6\\x9c\\x89\\xe5\\x9c\\xa8\\xe5\\x8f\\x91\\xe7\\x94\\x9f\\xe6\\xb7\\xb1\\xe5\\xba\\xa6\\xe8\\x90\\xa7\\xe6\\x9d\\xa1\\xe6\\x88\\x96\\xe5\\x85\\xb6\\xe4\\xbb\\x96\\xe5\\x8f\\x8d\\xe5\\xb8\\xb8\\xe4\\xba\\x8b\\xe4\\xbb\\xb6\\xe6\\x97\\xb6\\xef\\xbc\\x8c\\xe8\\xbf\\x99\\xe4\\xb8\\x80\\xe4\\xb8\\x8a\\xe9\\x99\\x90\\xe6\\x89\\x8d\\xe8\\x83\\xbd\\xe5\\x81\\x9a\\xe5\\x87\\xba\\xe8\\xb0\\x83\\xe6\\x95\\xb4\\xef\\xbc\\x8c\\xe4\\xbb\\xa5\\xe4\\xbe\\xbf\\xe8\\xae\\xa9\\xe5\\x8f\\x8d\\xe5\\x91\\xa8\\xe6\\x9c\\x9f\\xe6\\x94\\xbf\\xe7\\xad\\x96\\xe5\\xae\\x9e\\xe6\\x96\\xbd\\xe8\\xb6\\xb3\\xe5\\xa4\\x9f\\xe7\\x9a\\x84\\xe9\\x95\\xbf\\xe5\\xba\\xa6\\xef\\xbc\\x8c\\xe4\\xbd\\xbf\\xe4\\xba\\xba\\xe4\\xbb\\xac\\xe4\\xb8\\x80\\xe8\\x87\\xb4\\xe8\\xae\\xa4\\xe4\\xb8\\xba\\xe5\\xa2\\x9e\\xe5\\x8a\\xa0\\xe7\\x9a\\x84\\xe8\\xb5\\xa4\\xe5\\xad\\x97\\xe6\\x98\\xaf\\xe5\\x91\\xa8\\xe6\\x9c\\x9f\\xe6\\x80\\xa7\\xe7\\x9a\\x84\\xef\\xbc\\x8c\\xe8\\x80\\x8c\\xe4\\xb8\\x8d\\xe6\\x98\\xaf\\xe7\\xbb\\x93\\xe6\\x9e\\x84\\xe6\\x80\\xa7\\xe7\\x9a\\x84\\xe3\\x80\\x82'\n",
      "----------\n"
     ]
    }
   ],
   "source": [
    "# 数据都以tf.Tensor的形式存在\n",
    "for en, zh in train_examples.take(3):\n",
    "  print(en)\n",
    "  print(zh)\n",
    "  # print (zh.numpy())\n",
    "  print('-' * 10)"
   ]
  },
  {
   "cell_type": "code",
   "execution_count": 0,
   "metadata": {
    "colab": {
     "base_uri": "https://localhost:8080/",
     "height": 238
    },
    "colab_type": "code",
    "id": "GgDoo_rl6quB",
    "outputId": "cb5782c5-d175-4d39-fd1b-f4fc0460fc4a"
   },
   "outputs": [
    {
     "name": "stdout",
     "output_type": "stream",
     "text": [
      "Making Do With More\n",
      "多劳应多得\n",
      "----------\n",
      "[('Making Do With More', '多劳应多得')]\n",
      "If the Putins, Erdoğans, and Orbáns of the world want to continue to benefit economically from the open international system, they cannot simply make up their own rules.\n",
      "如果普京、埃尔多安和欧尔班希望继续享有开放国际体系提供的经济利益，就不能简单地制定自己的规则。\n",
      "----------\n",
      "[('Making Do With More', '多劳应多得'), ('If the Putins, Erdoğans, and Orbáns of the world want to continue to benefit economically from the open international system, they cannot simply make up their own rules.', '如果普京、埃尔多安和欧尔班希望继续享有开放国际体系提供的经济利益，就不能简单地制定自己的规则。')]\n",
      "This ceiling can be raised only in a deep depression or other exceptional circumstances, allowing for counter-cyclical policy so long as it is agreed that the additional deficit is cyclical, rather than structural.\n",
      "只有在发生深度萧条或其他反常事件时，这一上限才能做出调整，以便让反周期政策实施足够的长度，使人们一致认为增加的赤字是周期性的，而不是结构性的。\n",
      "----------\n",
      "[('Making Do With More', '多劳应多得'), ('If the Putins, Erdoğans, and Orbáns of the world want to continue to benefit economically from the open international system, they cannot simply make up their own rules.', '如果普京、埃尔多安和欧尔班希望继续享有开放国际体系提供的经济利益，就不能简单地制定自己的规则。'), ('This ceiling can be raised only in a deep depression or other exceptional circumstances, allowing for counter-cyclical policy so long as it is agreed that the additional deficit is cyclical, rather than structural.', '只有在发生深度萧条或其他反常事件时，这一上限才能做出调整，以便让反周期政策实施足够的长度，使人们一致认为增加的赤字是周期性的，而不是结构性的。')]\n"
     ]
    }
   ],
   "source": [
    "sample_examples = []\n",
    "num_samples = 3\n",
    "\n",
    "for en_t, zh_t in train_examples.take(num_samples):\n",
    "  # 使用numpy()方法得到张量的内容后按utf-8的编码格式进行解码\n",
    "  en = en_t.numpy().decode(\"utf-8\")\n",
    "  zh = zh_t.numpy().decode(\"utf-8\")\n",
    "  \n",
    "  print(en)\n",
    "  print(zh)\n",
    "  print('-' * 10)\n",
    "  \n",
    "  # 用于简单评估模型的训练\n",
    "  sample_examples.append((en, zh))\n",
    "  print (sample_examples)"
   ]
  },
  {
   "cell_type": "markdown",
   "metadata": {
    "colab_type": "text",
    "id": "rL9I84BVANGz"
   },
   "source": [
    "#### 建立中英文语料对应的词典\n",
    "\n",
    "这里主要使用**tfds.features.text.SubwordTextEncoder**这个API[鼠标悬浮在函数名上可查看函数定义和参数形式]，它可以自动的读取语料库并构建词典。"
   ]
  },
  {
   "cell_type": "code",
   "execution_count": 0,
   "metadata": {
    "colab": {
     "base_uri": "https://localhost:8080/",
     "height": 118
    },
    "colab_type": "code",
    "id": "VUu4WG3-6txl",
    "outputId": "234f8f0b-5ff9-4891-806f-f85581123ce0"
   },
   "outputs": [
    {
     "name": "stdout",
     "output_type": "stream",
     "text": [
      "Loading vocabulary form: nmt/en_vocab\n",
      "Vocabulary size is 8135\n",
      "The first ten subwords are [', ', 'the_', 'of_', 'to_', 'and_', 's_', 'in_', 'a_', 'that_', 'is_']\n",
      "\n",
      "CPU times: user 46.7 ms, sys: 4.86 ms, total: 51.6 ms\n",
      "Wall time: 54.6 ms\n"
     ]
    }
   ],
   "source": [
    "%%time\n",
    "try:\n",
    "  subword_encoder_en = tfds.features.text.SubwordTextEncoder.load_from_file(en_vocab_file)\n",
    "  print('Loading vocabulary from: {}'.format(en_vocab_file))\n",
    "except:\n",
    "  print('Building a vocabulary from scratch!')\n",
    "  # 这里需要将Tensor转换为numpy数组的形式\n",
    "  subword_encoder_en = tfds.features.text.SubwordTextEncoder.build_from_corpus(\n",
    "      (en.numpy() for en, _ in train_examples), \n",
    "      target_vocab_size=2**13) # 大小可调\n",
    "  \n",
    "  # 存储创建的字典\n",
    "  subword_encoder_en.save_to_file(en_vocab_file)\n",
    "  \n",
    "\n",
    "print('Vocabulary size is {}'.format(subword_encoder_en.vocab_size))\n",
    "print('The first ten subwords are {}'.format(subword_encoder_en.subwords[:10]))\n",
    "print()"
   ]
  },
  {
   "cell_type": "code",
   "execution_count": 0,
   "metadata": {
    "colab": {
     "base_uri": "https://localhost:8080/",
     "height": 34
    },
    "colab_type": "code",
    "id": "x_lKr9y17M7W",
    "outputId": "93407ff1-83f2-454e-83c7-36547ea8556e"
   },
   "outputs": [
    {
     "data": {
      "text/plain": [
       "[102, 10, 2942, 7457, 1163, 7925]"
      ]
     },
     "execution_count": 108,
     "metadata": {
      "tags": []
     },
     "output_type": "execute_result"
    }
   ],
   "source": [
    "# 使用Enocder的encode方法可将输入语句根据词汇表表示为索引序列的形式\n",
    "sample_string = 'China is beautiful.'\n",
    "indices = subword_encoder_en.encode(sample_string)\n",
    "indices"
   ]
  },
  {
   "cell_type": "code",
   "execution_count": 0,
   "metadata": {
    "colab": {
     "base_uri": "https://localhost:8080/",
     "height": 151
    },
    "colab_type": "code",
    "id": "3sVzTXcT7PrM",
    "outputId": "e503ddf4-29be-4631-e8e8-7df8eb778a19"
   },
   "outputs": [
    {
     "name": "stdout",
     "output_type": "stream",
     "text": [
      "Index     Subword\n",
      "---------------\n",
      "  102     China \n",
      "   10     is \n",
      " 2942     bea\n",
      " 7457     uti\n",
      " 1163     ful\n",
      " 7925     .\n"
     ]
    }
   ],
   "source": [
    "# 查看索引和子词之间的对应关系\n",
    "# 当遇到OOV时，tokenizer会将其拆分多个子词，如输出中的 beiutiful\n",
    "print(\"{0:10}{1:6}\".format(\"Index\", \"Subword\"))\n",
    "print(\"-\" * 15)\n",
    "for idx in indices:\n",
    "  subword = subword_encoder_en.decode([idx])\n",
    "  print('{0:5}{1:6}'.format(idx, ' ' * 5 + subword))"
   ]
  },
  {
   "cell_type": "code",
   "execution_count": 0,
   "metadata": {
    "colab": {
     "base_uri": "https://localhost:8080/",
     "height": 34
    },
    "colab_type": "code",
    "id": "RouY9HO97TE_",
    "outputId": "8e8ab902-ebf6-432e-c2d3-42b7b1ee9d8f"
   },
   "outputs": [
    {
     "name": "stdout",
     "output_type": "stream",
     "text": [
      "('China is beautiful.', 'China is beautiful.')\n"
     ]
    }
   ],
   "source": [
    "# 同样可以使用Encoder的decode方法对索引序列根据词典进行解码输出\n",
    "sample_string = 'China is beautiful.'\n",
    "indices = subword_encoder_en.encode(sample_string)\n",
    "\n",
    "decoded_string = subword_encoder_en.decode(indices)\n",
    "assert decoded_string == sample_string\n",
    "\n",
    "pprint((sample_string, decoded_string))"
   ]
  },
  {
   "cell_type": "code",
   "execution_count": 0,
   "metadata": {
    "colab": {
     "base_uri": "https://localhost:8080/",
     "height": 118
    },
    "colab_type": "code",
    "id": "nY1IsTft7Ww1",
    "outputId": "4dd64850-06a6-4152-f43e-74e7a6aac412"
   },
   "outputs": [
    {
     "name": "stdout",
     "output_type": "stream",
     "text": [
      "Loading vocabulary form: nmt/zh_vocab\n",
      "Vocabulary size is 4201\n",
      "The first ten subwords are ['的', '，', '。', '国', '在', '是', '一', '和', '不', '这']\n",
      "\n",
      "CPU times: user 29.4 ms, sys: 4.2 ms, total: 33.6 ms\n",
      "Wall time: 34.9 ms\n"
     ]
    }
   ],
   "source": [
    "# 为中文语料库建立词典\n",
    "%%time\n",
    "try:\n",
    "  subword_encoder_zh = tfds.features.text.SubwordTextEncoder.load_from_file(zh_vocab_file)\n",
    "  print('Loading vocabulary form: {}'.format(zh_vocab_file))\n",
    "except:\n",
    "  print('Building a vocabulary from scratch!')\n",
    "  subword_encoder_zh = tfds.features.text.SubwordTextEncoder.build_from_corpus(\n",
    "      (zh.numpy() for _, zh in train_examples), \n",
    "      target_vocab_size=2**13, \n",
    "      max_subword_length=1) # 中文不同于英文，词典中的每一个token是一个字\n",
    "  \n",
    "  subword_encoder_zh.save_to_file(zh_vocab_file)\n",
    "\n",
    "print('Vocabulary size is {}'.format(subword_encoder_zh.vocab_size))\n",
    "print('The first ten subwords are {}'.format(subword_encoder_zh.subwords[:10]))\n",
    "print()"
   ]
  },
  {
   "cell_type": "code",
   "execution_count": 0,
   "metadata": {
    "colab": {
     "base_uri": "https://localhost:8080/",
     "height": 50
    },
    "colab_type": "code",
    "id": "t8mDT-mo94dX",
    "outputId": "a509d2fa-58f5-4c5c-c19b-dbe30c9a9158"
   },
   "outputs": [
    {
     "name": "stdout",
     "output_type": "stream",
     "text": [
      "多劳应多得\n",
      "[48, 557, 116, 48, 81]\n"
     ]
    }
   ],
   "source": [
    "# sample_examples中包含(('zh_sent','en_sent'),...)形式的数据\n",
    "sample_string = sample_examples[0][1]\n",
    "indices = subword_encoder_zh.encode(sample_string)\n",
    "print(sample_string)\n",
    "print(indices)"
   ]
  },
  {
   "cell_type": "code",
   "execution_count": 0,
   "metadata": {
    "colab": {
     "base_uri": "https://localhost:8080/",
     "height": 168
    },
    "colab_type": "code",
    "id": "ff56iTRE97g2",
    "outputId": "8b267698-9204-40ec-b995-65aece1b705d"
   },
   "outputs": [
    {
     "name": "stdout",
     "output_type": "stream",
     "text": [
      "[英中原文]（转换前）\n",
      "The eurozone’s collapse forces a major realignment of European politics.\n",
      "欧元区的瓦解强迫欧洲政治进行一次重大改组。\n",
      "\n",
      "--------------------\n",
      "\n",
      "[英中序列]（转换后）\n",
      "[17, 965, 11, 6, 1707, 676, 8, 211, 2712, 6683, 249, 3, 85, 1447, 7925]\n",
      "[45, 206, 171, 1, 847, 197, 236, 604, 45, 90, 17, 130, 102, 36, 7, 284, 80, 18, 212, 265, 3]\n"
     ]
    }
   ],
   "source": [
    "en = \"The eurozone’s collapse forces a major realignment of European politics.\"\n",
    "zh = \"欧元区的瓦解强迫欧洲政治进行一次重大改组。\"\n",
    "\n",
    "# 將文字转换为subword索引序列的形式\n",
    "en_indices = subword_encoder_en.encode(en)\n",
    "zh_indices = subword_encoder_zh.encode(zh)\n",
    "\n",
    "print(\"[英中原文]（转换前）\")\n",
    "print(en)\n",
    "print(zh)\n",
    "print()\n",
    "print('-' * 20)\n",
    "print()\n",
    "print(\"[英中序列]（转换后）\")\n",
    "print(en_indices)\n",
    "print(zh_indices)"
   ]
  },
  {
   "cell_type": "markdown",
   "metadata": {
    "colab_type": "text",
    "id": "xxftydtKEQW0"
   },
   "source": [
    "#### 数据预处理\n",
    "\n",
    "为了后续的模型训练，通常在处理文本数据时会在句首加\\< start \\>，句尾加\\< end \\>,它们在词典中对应的索引分别用**vocab_size**和**vocab_size + 1**表示。为了将它们和对应的索引加入词典，这里需要重写一下encode方法。"
   ]
  },
  {
   "cell_type": "code",
   "execution_count": 0,
   "metadata": {
    "colab": {},
    "colab_type": "code",
    "id": "iTh32FRv978y"
   },
   "outputs": [],
   "source": [
    "def encode(en_t, zh_t):\n",
    "  # 因为无法直接操作Tensor，这里同样需要使用numpy()得到Tensor的内容再编码\n",
    "  en_indices = [subword_encoder_en.vocab_size] + subword_encoder_en.encode(\n",
    "      en_t.numpy()) + [subword_encoder_en.vocab_size + 1]\n",
    "\n",
    "  zh_indices = [subword_encoder_zh.vocab_size] + subword_encoder_zh.encode(\n",
    "      zh_t.numpy()) + [subword_encoder_zh.vocab_size + 1]\n",
    "  # 最后返回的就是加入<start>和<end>的索引序列\n",
    "  return en_indices, zh_indices"
   ]
  },
  {
   "cell_type": "code",
   "execution_count": 0,
   "metadata": {
    "colab": {
     "base_uri": "https://localhost:8080/",
     "height": 218
    },
    "colab_type": "code",
    "id": "1LbI3wiU991h",
    "outputId": "c1a85a87-9dd9-4021-e70d-313d40d58c8b"
   },
   "outputs": [
    {
     "name": "stdout",
     "output_type": "stream",
     "text": [
      "英文 BOS 的 index： 8135\n",
      "英文 EOS 的 index： 8136\n",
      "中文 BOS 的 index： 4201\n",
      "中文 EOS 的 index： 4202\n",
      "\n",
      "输入为 2 个 Tensors：\n",
      "(<tf.Tensor: id=13894145, shape=(), dtype=string, numpy=b'Making Do With More'>,\n",
      " <tf.Tensor: id=13894146, shape=(), dtype=string, numpy=b'\\xe5\\xa4\\x9a\\xe5\\x8a\\xb3\\xe5\\xba\\x94\\xe5\\xa4\\x9a\\xe5\\xbe\\x97'>)\n",
      "\n",
      "输出为 2 个索引序列：\n",
      "([8135, 4682, 19, 717, 7911, 298, 2701, 7980, 8136],\n",
      " [4201, 48, 557, 116, 48, 81, 4202])\n"
     ]
    }
   ],
   "source": [
    "# train_examples为_OptionsDataset形式，所以可以使用iter()将其转换为可迭代对象，并使用next()方法获取数据\n",
    "en_t, zh_t = next(iter(train_examples))\n",
    "en_indices, zh_indices = encode(en_t, zh_t)\n",
    "\n",
    "print('英文 BOS 的 index：', subword_encoder_en.vocab_size)\n",
    "print('英文 EOS 的 index：', subword_encoder_en.vocab_size + 1)\n",
    "print('中文 BOS 的 index：', subword_encoder_zh.vocab_size)\n",
    "print('中文 EOS 的 index：', subword_encoder_zh.vocab_size + 1)\n",
    "\n",
    "print('\\n输入为 2 个 Tensors：')\n",
    "pprint((en_t, zh_t))\n",
    "print ()\n",
    "\n",
    "# 我们可以看到输出的索引序列前后已经成功加上了BOS和EOS的索引\n",
    "print('输出为 2 个索引序列：')\n",
    "pprint((en_indices, zh_indices))"
   ]
  },
  {
   "cell_type": "markdown",
   "metadata": {
    "colab_type": "text",
    "id": "pyCyAffjHm-9"
   },
   "source": [
    "#### NOTE \n",
    "\n",
    "因为tf.data.Dataset.map()需要在动态计算图下执行，而语料库中的数据为Tensor，而不是动态计算图下的eager Tensor。因此，如果我们想使用上面的encode()来为语料库中所有的数据编码再添加BOS和EOS的索引，需要使用tf.py_function()将其包装为eager Tensor的形式。\n",
    "\n",
    "\n",
    "#### tf.py_funciton(func,inp,Tout,name = None)\n",
    "\n",
    "功能：包装一个普通的 Python 函数，这个函数接受 numpy 的数组作为输入和输出，让这个函数可以作为 TensorFlow 计算图上的计算节点 OP 来使用。\n",
    "\n",
    "- func: 一个 Python 函数, 它接受 NumPy 数组作为输入和输出，并且数组的类型和大小必须和输入和输出用来衔接的 Tensor 大小和数据类型相匹配\n",
    "- inp: 输入的 Tensor 列表\n",
    "- Tout: 输出 Tensor 数据类型的列表或元组"
   ]
  },
  {
   "cell_type": "code",
   "execution_count": 0,
   "metadata": {
    "colab": {
     "base_uri": "https://localhost:8080/",
     "height": 50
    },
    "colab_type": "code",
    "id": "w6Wcq1er-ACl",
    "outputId": "7f00c781-f3fe-4120-9bd2-519f6fd97bc3"
   },
   "outputs": [
    {
     "name": "stdout",
     "output_type": "stream",
     "text": [
      "tf.Tensor([8135 4682   19  717 7911  298 2701 7980 8136], shape=(9,), dtype=int64)\n",
      "tf.Tensor([4201   48  557  116   48   81 4202], shape=(7,), dtype=int64)\n"
     ]
    }
   ],
   "source": [
    "def tf_encode(en_t, zh_t):\n",
    "  return tf.py_function(encode, [en_t, zh_t], [tf.int64, tf.int64])\n",
    "\n",
    "# 使用包装后的tf_encode方法进行语料库的处理\n",
    "tmp_dataset = train_examples.map(tf_encode)\n",
    "en_indices, zh_indices = next(iter(tmp_dataset))\n",
    "print(en_indices)\n",
    "print(zh_indices)"
   ]
  },
  {
   "cell_type": "code",
   "execution_count": 0,
   "metadata": {
    "colab": {},
    "colab_type": "code",
    "id": "qo0wwN4h-DdT"
   },
   "outputs": [],
   "source": [
    "# 丢弃掉长度超过40个token的序列\n",
    "MAX_LENGTH = 40\n",
    "\n",
    "# 布尔函数，只有对应的中英文序列长度都小于40时才回传真值\n",
    "def filter_max_length(en, zh, max_length=MAX_LENGTH):\n",
    "  return tf.logical_and(tf.size(en) <= max_length, tf.size(zh) <= max_length)\n",
    "\n",
    "# tf.data.Dataset.filter(func) 只回传func为真的例子\n",
    "tmp_dataset = tmp_dataset.filter(filter_max_length)"
   ]
  },
  {
   "cell_type": "code",
   "execution_count": 0,
   "metadata": {
    "colab": {
     "base_uri": "https://localhost:8080/",
     "height": 34
    },
    "colab_type": "code",
    "id": "GhTPwZJW-GJk",
    "outputId": "2fc21202-00fc-4183-9a3f-c5c9243e7af9"
   },
   "outputs": [
    {
     "name": "stdout",
     "output_type": "stream",
     "text": [
      "语料库中共有 29914 笔数据\n"
     ]
    }
   ],
   "source": [
    "num_examples = 0\n",
    "\n",
    "for en_indices, zh_indices in tmp_dataset:\n",
    "  cond1 = len(en_indices) <= MAX_LENGTH\n",
    "  cond2 = len(zh_indices) <= MAX_LENGTH\n",
    "  assert cond1 and cond2\n",
    "  num_examples += 1\n",
    "\n",
    "print(f\"语料库中共有 {num_examples} 笔数据\")"
   ]
  },
  {
   "cell_type": "code",
   "execution_count": 0,
   "metadata": {
    "colab": {
     "base_uri": "https://localhost:8080/",
     "height": 336
    },
    "colab_type": "code",
    "id": "qPbPO9jA-7Lh",
    "outputId": "ae5ac1e0-67a8-40f7-ac7e-980bb842328d"
   },
   "outputs": [
    {
     "name": "stdout",
     "output_type": "stream",
     "text": [
      "英文索引序列的 batch\n",
      "tf.Tensor(\n",
      "[[8135 4682   19 ...    0    0    0]\n",
      " [8135   17  965 ... 8136    0    0]\n",
      " [8135 6602    2 ...    0    0    0]\n",
      " ...\n",
      " [8135 1097  270 ...    0    0    0]\n",
      " [8135 1713   70 ...    0    0    0]\n",
      " [8135 2731 4553 ...    0    0    0]], shape=(64, 34), dtype=int64)\n",
      "--------------------\n",
      "中文索引序列的 batch\n",
      "tf.Tensor(\n",
      "[[4201   48  557 ...    0    0    0]\n",
      " [4201   45  206 ...    0    0    0]\n",
      " [4201   58    5 ...  683    3 4202]\n",
      " ...\n",
      " [4201   29  120 ...    0    0    0]\n",
      " [4201  297  161 ...    0    0    0]\n",
      " [4201  279  149 ... 4202    0    0]], shape=(64, 40), dtype=int64)\n"
     ]
    }
   ],
   "source": [
    "# 为了方便后续批数据的划分，这里需将所有的数据补齐\n",
    "BATCH_SIZE = 64\n",
    "\n",
    "# 补齐到语料库中例子的最大长度\n",
    "tmp_dataset = tmp_dataset.padded_batch(BATCH_SIZE, padded_shapes=([-1], [-1]))\n",
    "\n",
    "en_batch, zh_batch = next(iter(tmp_dataset))\n",
    "# 英文数据每个batch有64笔数据，长度都为34\n",
    "print(\"英文索引序列的 batch\")\n",
    "print(en_batch)\n",
    "print('-' * 20)\n",
    "# 中文数据每个batch中数据的最大长度为40\n",
    "print(\"中文索引序列的 batch\")\n",
    "print(zh_batch)"
   ]
  },
  {
   "cell_type": "code",
   "execution_count": 0,
   "metadata": {
    "colab": {},
    "colab_type": "code",
    "id": "9bZewC75-IoH"
   },
   "outputs": [],
   "source": [
    "# 正式划分训练集合验证集\n",
    "MAX_LENGTH = 40\n",
    "BATCH_SIZE = 128\n",
    "BUFFER_SIZE = 15000\n",
    "\n",
    "# 训练集\n",
    "train_dataset = (train_examples \n",
    "                 .map(tf_encode) # 输出：(英文索引序列, 中文索引序列)\n",
    "                 .filter(filter_max_length) # 同上，且序列长度都不超过 40\n",
    "                 .cache() # 加快读取\n",
    "                 .shuffle(BUFFER_SIZE) # 打乱数据保证随机选取\n",
    "                 .padded_batch(BATCH_SIZE,padded_shapes=([-1], [-1]))# 补齐\n",
    "                 .prefetch(tf.data.experimental.AUTOTUNE)) # 加速\n",
    "# 验证集\n",
    "val_dataset = (val_examples\n",
    "               .map(tf_encode)\n",
    "               .filter(filter_max_length)\n",
    "               .padded_batch(BATCH_SIZE,padded_shapes=([-1], [-1])))"
   ]
  },
  {
   "cell_type": "code",
   "execution_count": 0,
   "metadata": {
    "colab": {
     "base_uri": "https://localhost:8080/",
     "height": 336
    },
    "colab_type": "code",
    "id": "xpHa6I8L_AE6",
    "outputId": "6dd16836-1a1a-495d-ccac-6f1f3eba37b4"
   },
   "outputs": [
    {
     "name": "stdout",
     "output_type": "stream",
     "text": [
      "英文索引序列的 batch\n",
      "tf.Tensor(\n",
      "[[8135  144  270 ...    0    0    0]\n",
      " [8135   39   70 ...    0    0    0]\n",
      " [8135  125 5403 ...    0    0    0]\n",
      " ...\n",
      " [8135   39    2 ...    0    0    0]\n",
      " [8135   45   82 ...    0    0    0]\n",
      " [8135   17 5723 ...    0    0    0]], shape=(128, 38), dtype=int64)\n",
      "--------------------\n",
      "中文索引序列的 batch\n",
      "tf.Tensor(\n",
      "[[4201   24  120 ...    0    0    0]\n",
      " [4201   35   51 ...    0    0    0]\n",
      " [4201   75   46 ...    0    0    0]\n",
      " ...\n",
      " [4201   35  364 ...    0    0    0]\n",
      " [4201  241   48 ...    0    0    0]\n",
      " [4201  692  179 ...    0    0    0]], shape=(128, 40), dtype=int64)\n"
     ]
    }
   ],
   "source": [
    "# 查看批数据，shape = 2 * (batch_size,seq_len)\n",
    "en_batch, zh_batch = next(iter(train_dataset))\n",
    "print(\"英文索引序列的 batch\")\n",
    "print(en_batch)\n",
    "print('-' * 20)\n",
    "print(\"中文索引序列的 batch\")\n",
    "print(zh_batch)"
   ]
  },
  {
   "cell_type": "code",
   "execution_count": 0,
   "metadata": {
    "colab": {
     "base_uri": "https://localhost:8080/",
     "height": 50
    },
    "colab_type": "code",
    "id": "Q1aCjqhb_B0j",
    "outputId": "e764561e-21b5-4b2c-c56a-85c527208978"
   },
   "outputs": [
    {
     "name": "stdout",
     "output_type": "stream",
     "text": [
      "[('It is important.', '这很重要。'),\n",
      " ('The numbers speak for themselves.', '数字证明了一切。')]\n"
     ]
    }
   ],
   "source": [
    "demo_examples = [\n",
    "    (\"It is important.\", \"这很重要。\"),\n",
    "    (\"The numbers speak for themselves.\", \"数字证明了一切。\"),\n",
    "]\n",
    "pprint(demo_examples)"
   ]
  },
  {
   "cell_type": "code",
   "execution_count": 0,
   "metadata": {
    "colab": {
     "base_uri": "https://localhost:8080/",
     "height": 134
    },
    "colab_type": "code",
    "id": "306svFvw_NYm",
    "outputId": "c7b162a5-2fc3-4117-9877-e0c9070c0a4e"
   },
   "outputs": [
    {
     "name": "stdout",
     "output_type": "stream",
     "text": [
      "inp: tf.Tensor(\n",
      "[[8135  105   10 1304 7925 8136    0    0]\n",
      " [8135   17 3905 6013   12 2572 7925 8136]], shape=(2, 8), dtype=int64)\n",
      "\n",
      "tar: tf.Tensor(\n",
      "[[4201   10  241   80   27    3 4202    0    0    0]\n",
      " [4201  162  467  421  189   14    7  553    3 4202]], shape=(2, 10), dtype=int64)\n"
     ]
    }
   ],
   "source": [
    "batch_size = 2\n",
    "demo_examples = tf.data.Dataset.from_tensor_slices((\n",
    "    [en for en, _ in demo_examples], [zh for _, zh in demo_examples]\n",
    "))\n",
    "\n",
    "demo_dataset = demo_examples.map(tf_encode).padded_batch(batch_size, padded_shapes=([-1], [-1]))\n",
    "\n",
    "inp, tar = next(iter(demo_dataset))\n",
    "print('inp:', inp)\n",
    "print('' * 10)\n",
    "print('tar:', tar)"
   ]
  },
  {
   "cell_type": "code",
   "execution_count": 0,
   "metadata": {
    "colab": {
     "base_uri": "https://localhost:8080/",
     "height": 722
    },
    "colab_type": "code",
    "id": "NVtwpF4A_O5a",
    "outputId": "90e13e5b-9025-48cf-e7ef-8115d51bca72"
   },
   "outputs": [
    {
     "data": {
      "text/plain": [
       "(<tf.Tensor: id=2245233, shape=(2, 8, 4), dtype=float32, numpy=\n",
       " array([[[-0.01139329,  0.01229278,  0.03950438, -0.0395899 ],\n",
       "         [-0.03753178,  0.04810501,  0.00495262, -0.01980923],\n",
       "         [-0.04847762, -0.01453701, -0.03063028, -0.01865565],\n",
       "         [ 0.03877607,  0.04025192, -0.04581488, -0.03769145],\n",
       "         [-0.02710364,  0.00806242,  0.01828117,  0.00159191],\n",
       "         [ 0.01875322, -0.02994844, -0.00705097, -0.01912252],\n",
       "         [-0.0208289 ,  0.01274401,  0.03311023,  0.01455362],\n",
       "         [-0.0208289 ,  0.01274401,  0.03311023,  0.01455362]],\n",
       " \n",
       "        [[-0.01139329,  0.01229278,  0.03950438, -0.0395899 ],\n",
       "         [-0.00584363,  0.0104764 ,  0.04166264,  0.03220595],\n",
       "         [ 0.04675562,  0.03685777,  0.03340571, -0.04201565],\n",
       "         [-0.00773854,  0.01943834,  0.01579637, -0.04011631],\n",
       "         [ 0.02852057,  0.01556729,  0.0491894 , -0.00419093],\n",
       "         [-0.04344189,  0.04366796, -0.01890308,  0.00424111],\n",
       "         [-0.02710364,  0.00806242,  0.01828117,  0.00159191],\n",
       "         [ 0.01875322, -0.02994844, -0.00705097, -0.01912252]]],\n",
       "       dtype=float32)>,\n",
       " <tf.Tensor: id=2245247, shape=(2, 10, 4), dtype=float32, numpy=\n",
       " array([[[ 0.00100154,  0.02250249, -0.0408453 , -0.03395625],\n",
       "         [ 0.03035182,  0.02689043, -0.04268903,  0.03850842],\n",
       "         [-0.03303015,  0.03113339, -0.01500882,  0.04115296],\n",
       "         [-0.0260061 , -0.00518541, -0.00464231,  0.04862784],\n",
       "         [ 0.01301358, -0.04549932,  0.00708313, -0.01378647],\n",
       "         [ 0.02436458, -0.04894441, -0.02432488, -0.02768328],\n",
       "         [ 0.02250788,  0.01626289, -0.0321715 ,  0.02510258],\n",
       "         [-0.04279016, -0.01537494,  0.02144868, -0.04766507],\n",
       "         [-0.04279016, -0.01537494,  0.02144868, -0.04766507],\n",
       "         [-0.04279016, -0.01537494,  0.02144868, -0.04766507]],\n",
       " \n",
       "        [[ 0.00100154,  0.02250249, -0.0408453 , -0.03395625],\n",
       "         [-0.03975113,  0.03147823,  0.04613913,  0.03317541],\n",
       "         [-0.01448536, -0.02721623,  0.0466414 ,  0.00501192],\n",
       "         [-0.03876447,  0.02261052, -0.03871229,  0.00696427],\n",
       "         [ 0.01843901,  0.03112211,  0.04172729, -0.02785325],\n",
       "         [ 0.0095794 , -0.02647529, -0.02226598,  0.00110232],\n",
       "         [ 0.03891832, -0.0174    , -0.03329356, -0.00945352],\n",
       "         [ 0.00608505, -0.0193133 , -0.02278407, -0.01182847],\n",
       "         [ 0.02436458, -0.04894441, -0.02432488, -0.02768328],\n",
       "         [ 0.02250788,  0.01626289, -0.0321715 ,  0.02510258]]],\n",
       "       dtype=float32)>)"
      ]
     },
     "execution_count": 31,
     "metadata": {
      "tags": []
     },
     "output_type": "execute_result"
    }
   ],
   "source": [
    "# + 2 是因为额外加了 <start> 以及 <end> tokens\n",
    "vocab_size_en = subword_encoder_en.vocab_size + 2\n",
    "vocab_size_zh = subword_encoder_zh.vocab_size + 2\n",
    "\n",
    "# 為了方便 demo, 将词转换为4维的词嵌入空间\n",
    "# 4维的词嵌入空间表示句子中的每个词的嵌入表示向量为四维，那么批数据 shape = (batch_size,seq_len,emdedding_dim)\n",
    "d_model = 4\n",
    "\n",
    "# 首先使用Embedding层将输入转换为后续处理的形式\n",
    "embedding_layer_en = tf.keras.layers.Embedding(vocab_size_en, d_model)\n",
    "embedding_layer_zh = tf.keras.layers.Embedding(vocab_size_zh, d_model)\n",
    "\n",
    "emb_inp = embedding_layer_en(inp)\n",
    "emb_tar = embedding_layer_zh(tar)\n",
    "emb_inp, emb_tar"
   ]
  },
  {
   "cell_type": "code",
   "execution_count": 0,
   "metadata": {
    "colab": {
     "base_uri": "https://localhost:8080/",
     "height": 118
    },
    "colab_type": "code",
    "id": "b-S2G2LR_T0H",
    "outputId": "4b606a3e-e145-48fa-e81b-0a2685a4621f"
   },
   "outputs": [
    {
     "name": "stdout",
     "output_type": "stream",
     "text": [
      "tar[0]: tf.Tensor([0 0 0], shape=(3,), dtype=int64)\n",
      "--------------------\n",
      "emb_tar[0]: tf.Tensor(\n",
      "[[-0.04279016 -0.01537494  0.02144868 -0.04766507]\n",
      " [-0.04279016 -0.01537494  0.02144868 -0.04766507]\n",
      " [-0.04279016 -0.01537494  0.02144868 -0.04766507]], shape=(3, 4), dtype=float32)\n"
     ]
    }
   ],
   "source": [
    "print(\"tar[0]:\", tar[0][-3:])\n",
    "print(\"-\" * 20)\n",
    "print(\"emb_tar[0]:\", emb_tar[0][-3:])\n",
    "# 输出的Tensor是一样的，因为它们都是表示补齐的 0"
   ]
  },
  {
   "cell_type": "markdown",
   "metadata": {
    "colab_type": "text",
    "id": "E24knsy_XYRr"
   },
   "source": [
    "#### Mask 机制\n",
    "\n",
    "在使用Transformer时，为了不使的transformer在解码的时候看到所有的信息，这里需要将后面的部分mask掉，使得decoder只能看到已生成的全部或一部分。\n",
    "\n",
    "Transformer中有两种Mask机制：\n",
    "\n",
    "- **padding mask**:由于补齐的token不具有任何信息，自然需要将其mask掉，使得decoder不关注它们\n",
    "\n",
    "- **look ahead mask**:使得decoder只能依赖于已解码得到的部分所提供的信息"
   ]
  },
  {
   "cell_type": "code",
   "execution_count": 0,
   "metadata": {
    "colab": {
     "base_uri": "https://localhost:8080/",
     "height": 101
    },
    "colab_type": "code",
    "id": "Pk-70GRy_V1J",
    "outputId": "b07bcf5d-2a17-47d8-cd54-a85c0052116f"
   },
   "outputs": [
    {
     "data": {
      "text/plain": [
       "<tf.Tensor: id=15900372, shape=(2, 1, 1, 8), dtype=float32, numpy=\n",
       "array([[[[0., 0., 0., 0., 0., 0., 1., 1.]]],\n",
       "\n",
       "\n",
       "       [[[0., 0., 0., 0., 0., 0., 0., 0.]]]], dtype=float32)>"
      ]
     },
     "execution_count": 152,
     "metadata": {
      "tags": []
     },
     "output_type": "execute_result"
    }
   ],
   "source": [
    "# padding mask\n",
    "def create_padding_mask(seq):\n",
    "  # 把索引序列中索引为0的部分全部设为1\n",
    "  mask = tf.cast(tf.equal(seq, 0), tf.float32)\n",
    "  return mask[:, tf.newaxis, tf.newaxis, :] #　broadcasting\n",
    "\n",
    "inp_mask = create_padding_mask(inp)\n",
    "inp_mask"
   ]
  },
  {
   "cell_type": "code",
   "execution_count": 0,
   "metadata": {
    "colab": {
     "base_uri": "https://localhost:8080/",
     "height": 134
    },
    "colab_type": "code",
    "id": "vUZYZNLf_XwT",
    "outputId": "715118bb-d698-450e-af2b-4a18b02c4007"
   },
   "outputs": [
    {
     "name": "stdout",
     "output_type": "stream",
     "text": [
      "inp: tf.Tensor(\n",
      "[[8135  105   10 1304 7925 8136    0    0]\n",
      " [8135   17 3905 6013   12 2572 7925 8136]], shape=(2, 8), dtype=int64)\n",
      "--------------------\n",
      "tf.squeeze(inp_mask): tf.Tensor(\n",
      "[[0. 0. 0. 0. 0. 0. 1. 1.]\n",
      " [0. 0. 0. 0. 0. 0. 0. 0.]], shape=(2, 8), dtype=float32)\n"
     ]
    }
   ],
   "source": [
    "# 可以看到补 0 的部分mask Tensor中全部用 1 替换\n",
    "print(\"inp:\", inp)\n",
    "print(\"-\" * 20)\n",
    "print(\"tf.squeeze(inp_mask):\", tf.squeeze(inp_mask))"
   ]
  },
  {
   "attachments": {
    "%7BFB536519-8358-475F-AB27-F774178C8A73%7D.png.jpg": {
     "image/jpeg": "[encoded data removed]"
    }
   },
   "cell_type": "markdown",
   "metadata": {
    "colab_type": "text",
    "id": "N9sOWMT6cYWx"
   },
   "source": [
    "#### Scaled dot product attention\n",
    "\n",
    "[Attention Is All You Need](https://arxiv.org/pdf/1706.03762.pdf)\n",
    "\n",
    "$$\\text{Attention}(Q,K,V) = \\text{softmax}(\\frac{QK^T}{\\sqrt{d_{k}}})V$$\n",
    "\n",
    "![%7BFB536519-8358-475F-AB27-F774178C8A73%7D.png.jpg](attachment:%7BFB536519-8358-475F-AB27-F774178C8A73%7D.png.jpg)\n",
    "\n",
    "首先分别使用不同的转换矩阵得到$a^i$所对应的q、k、v，然后q和k做点积，再将得到的结果通过softmax层得到一个标量，即注意力权重；最后将得到的标量再和v做加权平均得到输出结果。\n",
    "\n",
    "**NOTE：**这里相较于普通的注意力机制的计算过程不同的是：在得到注意力权重后除以了$\\sqrt{d_{k}}$。这样做的道理在于：根据softmax的函数曲线可知，在$x=0$附近的梯度较大，而在两侧的曲线较为平缓，那么梯度值相应较小，不利于反向传播。因此这样可以避免softmax得到的梯度太小，从而提升训练效果，这也是标题中Scaled的来源。"
   ]
  },
  {
   "cell_type": "code",
   "execution_count": 0,
   "metadata": {
    "colab": {
     "base_uri": "https://localhost:8080/",
     "height": 319
    },
    "colab_type": "code",
    "id": "OJBy4Oe1_ZTj",
    "outputId": "51185cb0-8dcf-4557-9ee1-a43436caf87c"
   },
   "outputs": [
    {
     "data": {
      "text/plain": [
       "<tf.Tensor: id=2245288, shape=(2, 8, 4), dtype=float32, numpy=\n",
       "array([[[1., 0., 0., 0.],\n",
       "        [0., 1., 0., 1.],\n",
       "        [0., 0., 0., 1.],\n",
       "        [1., 0., 1., 0.],\n",
       "        [1., 0., 1., 0.],\n",
       "        [0., 1., 0., 1.],\n",
       "        [0., 0., 1., 0.],\n",
       "        [0., 1., 0., 1.]],\n",
       "\n",
       "       [[1., 0., 1., 1.],\n",
       "        [1., 0., 1., 0.],\n",
       "        [1., 0., 0., 0.],\n",
       "        [1., 0., 1., 0.],\n",
       "        [0., 1., 0., 1.],\n",
       "        [1., 1., 1., 1.],\n",
       "        [0., 0., 0., 0.],\n",
       "        [0., 0., 1., 0.]]], dtype=float32)>"
      ]
     },
     "execution_count": 35,
     "metadata": {
      "tags": []
     },
     "output_type": "execute_result"
    }
   ],
   "source": [
    "## 这里使用前面得到的emb_inp来直观的理解一下Scaled dot-product attention的运行机制\n",
    "#\n",
    "# 设置种子，保证结果的复现\n",
    "tf.random.set_seed(9527)\n",
    "\n",
    "# Self-attention中的Q、K、V\n",
    "# Q(K/V) shape = (batch_size, seq_len,depth)\n",
    "q = emb_inp\n",
    "k = emb_inp\n",
    "# 随机从均匀分布中生成一个V\n",
    "v = tf.cast(tf.math.greater(tf.random.uniform(shape=emb_inp.shape), 0.5), tf.float32)\n",
    "\n",
    "v"
   ]
  },
  {
   "cell_type": "code",
   "execution_count": 0,
   "metadata": {
    "colab": {},
    "colab_type": "code",
    "id": "lMGaROwE_bn8"
   },
   "outputs": [],
   "source": [
    "# Google官方实现，注意输入和输出的形式\n",
    "def scaled_dot_product_attention(q, k, v, mask):\n",
    "  \"\"\"Calculate the attention weights.\n",
    "  q, k, v must have matching leading dimensions.\n",
    "  k, v must have matching penultimate dimension, i.e.: seq_len_k = seq_len_v.\n",
    "  The mask has different shapes depending on its type(padding or look ahead) \n",
    "  but it must be broadcastable for addition.\n",
    "  \n",
    "  Args:\n",
    "    q: query shape == (..., seq_len_q, depth)\n",
    "    k: key shape == (..., seq_len_k, depth)\n",
    "    v: value shape == (..., seq_len_v, depth_v)\n",
    "    mask: Float tensor with shape broadcastable \n",
    "          to (..., seq_len_q, seq_len_k). Defaults to None.\n",
    "    \n",
    "  Returns:\n",
    "    output, attention_weights\n",
    "  \"\"\"\n",
    "  # Q和K做点积\n",
    "  matmul_qk = tf.matmul(q, k, transpose_b=True)  # (..., seq_len_q, seq_len_k)\n",
    "  \n",
    "  # 获取放缩所用的dk\n",
    "  dk = tf.cast(tf.shape(k)[-1], tf.float32)  # 取得 seq_k 的序列長度\n",
    "  # scaled_attention_logits shape = (batch_size,seq_len.seq_len_k)\n",
    "  scaled_attention_logits = matmul_qk / tf.math.sqrt(dk)  # scale by sqrt(dk)\n",
    "\n",
    "  # 將mask「加」到被丟入 softmax 前的 logits\n",
    "  if mask is not None:\n",
    "    scaled_attention_logits += (mask * -1e9)\n",
    "\n",
    "  # 将得到的注意力权重通过softmax层得到总和为1的权重值\n",
    "  attention_weights = tf.nn.softmax(scaled_attention_logits, axis=-1)  # (..., seq_len_q, seq_len_k)\n",
    "  \n",
    "  # 上一步得到的权重值和V做加权平均\n",
    "  output = tf.matmul(attention_weights, v)  # (..., seq_len_q, depth_v)\n",
    "\n",
    "  return output, attention_weights"
   ]
  },
  {
   "cell_type": "markdown",
   "metadata": {},
   "source": [
    "仔细观察scaled_dot_product_attention(q, k, v, mask)中的scaled_attention_logits += (mask * -1e9)这一句，这里mask和一个负的无穷大的数相乘。回想一下前面的padding mask部分，补齐的地方对应在mask向量中的位置为 1 ，那么与负的无穷大的数相乘得到的结果自然也是负的无穷大，那么经过softmax后值趋于零，这里 q 中的子词就不会关注 k 中补齐的部分。"
   ]
  },
  {
   "cell_type": "code",
   "execution_count": 0,
   "metadata": {
    "colab": {
     "base_uri": "https://localhost:8080/",
     "height": 907
    },
    "colab_type": "code",
    "id": "Dwa6tAtR_d5v",
    "outputId": "e803f369-7fd8-4881-8e58-68025e03dc99"
   },
   "outputs": [
    {
     "name": "stdout",
     "output_type": "stream",
     "text": [
      "output: tf.Tensor(\n",
      "[[[0.37506962 0.37499517 0.37492687 0.49992454]\n",
      "  [0.37502852 0.37497538 0.37498298 0.49997553]\n",
      "  [0.3749036  0.37495515 0.37488088 0.5001605 ]\n",
      "  [0.37526846 0.37492102 0.37513757 0.49988878]\n",
      "  [0.37493467 0.37501413 0.37494898 0.5000182 ]\n",
      "  [0.37504357 0.3749828  0.37496978 0.5000128 ]\n",
      "  [0.3749243  0.37503862 0.374973   0.49998325]\n",
      "  [0.3749243  0.37503862 0.374973   0.49998325]]\n",
      "\n",
      " [[0.6251087  0.24993587 0.6249208  0.3750515 ]\n",
      "  [0.62501377 0.25004596 0.624921   0.37504268]\n",
      "  [0.62511134 0.24993005 0.62473077 0.37499848]\n",
      "  [0.6251209  0.2499639  0.6249559  0.37505007]\n",
      "  [0.62502897 0.2499575  0.6247836  0.37499753]\n",
      "  [0.62518305 0.250144   0.62513065 0.37514   ]\n",
      "  [0.62506306 0.25002798 0.6250329  0.37506384]\n",
      "  [0.62490237 0.2499001  0.6249851  0.3749146 ]]], shape=(2, 8, 4), dtype=float32)\n",
      "--------------------\n",
      "attention_weights: tf.Tensor(\n",
      "[[[0.12514858 0.12506038 0.12492935 0.12491893 0.12500213 0.124929\n",
      "   0.1250058  0.1250058 ]\n",
      "  [0.12504144 0.12517536 0.12500013 0.12497906 0.12500802 0.12480412\n",
      "   0.12499592 0.12499592]\n",
      "  [0.1249586  0.12504834 0.12520537 0.12494233 0.12500265 0.12497091\n",
      "   0.1249359  0.1249359 ]\n",
      "  [0.12497365 0.12505274 0.12496778 0.12540606 0.12488873 0.12502553\n",
      "   0.12484278 0.12484278]\n",
      "  [0.12503283 0.12505765 0.12500407 0.1248647  0.12503715 0.12490934\n",
      "   0.12504712 0.12504712]\n",
      "  [0.12501737 0.12491132 0.12503001 0.12505919 0.12496702 0.1251279\n",
      "   0.12494359 0.12494359]\n",
      "  [0.12504381 0.12505287 0.12494463 0.12482605 0.12505445 0.12489323\n",
      "   0.1250925  0.1250925 ]\n",
      "  [0.12504381 0.12505287 0.12494463 0.12482605 0.12505445 0.12489323\n",
      "   0.1250925  0.1250925 ]]\n",
      "\n",
      " [[0.12511563 0.12493791 0.12508401 0.12506124 0.12502599 0.12490988\n",
      "   0.12496921 0.1248961 ]\n",
      "  [0.12499674 0.12514375 0.12497083 0.1249373  0.12508081 0.12496513\n",
      "   0.12502734 0.1248781 ]\n",
      "  [0.12506844 0.12489646 0.1252889  0.12504745 0.12511992 0.12481013\n",
      "   0.12486039 0.12490829]\n",
      "  [0.1250862  0.12490345 0.12508799 0.12507102 0.12499166 0.12497224\n",
      "   0.12496444 0.12492301]\n",
      "  [0.12504005 0.125036   0.12514958 0.12498076 0.12513496 0.12482253\n",
      "   0.12493192 0.12490424]\n",
      "  [0.12499598 0.12499242 0.12491172 0.12503342 0.12489452 0.12524949\n",
      "   0.12506308 0.12485934]\n",
      "  [0.12503582 0.1250351  0.12494249 0.12500608 0.12498444 0.12504356\n",
      "   0.12504014 0.12491234]\n",
      "  [0.12501447 0.12493763 0.12504223 0.12501645 0.12500854 0.12489157\n",
      "   0.12496411 0.12512498]]], shape=(2, 8, 8), dtype=float32)\n"
     ]
    }
   ],
   "source": [
    "# 这里不加入mask来简单的演示Scaled dot product attention的原理\n",
    "mask = None\n",
    "output, attention_weights = scaled_dot_product_attention(q, k, v, mask)\n",
    "# output：注意力机制的结果\n",
    "print(\"output:\", output)\n",
    "print(\"-\" * 20)\n",
    "# attention weights：句子q里每个子词对句子k里每个子词的注意力权重\n",
    "print(\"attention_weights:\", attention_weights)"
   ]
  },
  {
   "cell_type": "code",
   "execution_count": 0,
   "metadata": {
    "colab": {
     "base_uri": "https://localhost:8080/",
     "height": 168
    },
    "colab_type": "code",
    "id": "8SgfA2ok_fjy",
    "outputId": "a04fc625-fb0c-4b48-b55b-2f5c9f2625b9"
   },
   "outputs": [
    {
     "name": "stdout",
     "output_type": "stream",
     "text": [
      "inp: tf.Tensor(\n",
      "[[8135  105   10 1304 7925 8136    0    0]\n",
      " [8135   17 3905 6013   12 2572 7925 8136]], shape=(2, 8), dtype=int64)\n",
      "--------------------\n",
      "inp_mask: tf.Tensor(\n",
      "[[[[0. 0. 0. 0. 0. 0. 1. 1.]]]\n",
      "\n",
      "\n",
      " [[[0. 0. 0. 0. 0. 0. 0. 0.]]]], shape=(2, 1, 1, 8), dtype=float32)\n"
     ]
    }
   ],
   "source": [
    "# 为inp生成对应的 padding mask\n",
    "def create_padding_mask(seq):\n",
    "  # padding mask 的工作就是把索引序列中为 0 的位置设为 1\n",
    "  mask = tf.cast(tf.equal(seq, 0), tf.float32)\n",
    "  return mask[:, tf.newaxis, tf.newaxis, :] #　broadcasting\n",
    "\n",
    "print(\"inp:\", inp)\n",
    "inp_mask = create_padding_mask(inp)\n",
    "print(\"-\" * 20)\n",
    "print(\"inp_mask:\", inp_mask)"
   ]
  },
  {
   "cell_type": "code",
   "execution_count": 0,
   "metadata": {
    "colab": {
     "base_uri": "https://localhost:8080/",
     "height": 588
    },
    "colab_type": "code",
    "id": "BsOAWS2m_k-E",
    "outputId": "71a89eed-f722-437a-8ecd-479d18d8ddd2"
   },
   "outputs": [
    {
     "name": "stdout",
     "output_type": "stream",
     "text": [
      "attention_weights: tf.Tensor(\n",
      "[[[0.16686736 0.16674975 0.16657504 0.16656116 0.1666721  0.16657458\n",
      "   0.         0.        ]\n",
      "  [0.16672012 0.16689868 0.16666505 0.16663694 0.16667555 0.1664037\n",
      "   0.         0.        ]\n",
      "  [0.166583   0.16670264 0.16691196 0.1665613  0.16664173 0.16659941\n",
      "   0.         0.        ]\n",
      "  [0.1665617  0.1666671  0.16655387 0.167138   0.16644852 0.16663083\n",
      "   0.         0.        ]\n",
      "  [0.16673139 0.16676448 0.16669303 0.1665072  0.16673715 0.16656673\n",
      "   0.         0.        ]\n",
      "  [0.16666476 0.16652338 0.1666816  0.1667205  0.16659763 0.16681209\n",
      "   0.         0.        ]\n",
      "  [0.16676621 0.16677828 0.16663395 0.1664758  0.1667804  0.1665654\n",
      "   0.         0.        ]\n",
      "  [0.16676621 0.16677828 0.16663395 0.1664758  0.1667804  0.1665654\n",
      "   0.         0.        ]]\n",
      "\n",
      " [[0.12511563 0.12493791 0.12508401 0.12506124 0.12502599 0.12490988\n",
      "   0.12496921 0.1248961 ]\n",
      "  [0.12499674 0.12514375 0.12497083 0.1249373  0.12508081 0.12496513\n",
      "   0.12502734 0.1248781 ]\n",
      "  [0.12506844 0.12489646 0.1252889  0.12504745 0.12511992 0.12481013\n",
      "   0.12486039 0.12490829]\n",
      "  [0.1250862  0.12490345 0.12508799 0.12507102 0.12499166 0.12497224\n",
      "   0.12496444 0.12492301]\n",
      "  [0.12504005 0.125036   0.12514958 0.12498076 0.12513496 0.12482253\n",
      "   0.12493192 0.12490424]\n",
      "  [0.12499598 0.12499242 0.12491172 0.12503342 0.12489452 0.12524949\n",
      "   0.12506308 0.12485934]\n",
      "  [0.12503582 0.1250351  0.12494249 0.12500608 0.12498444 0.12504356\n",
      "   0.12504014 0.12491234]\n",
      "  [0.12501447 0.12493763 0.12504223 0.12501645 0.12500854 0.12489157\n",
      "   0.12496411 0.12512498]]], shape=(2, 8, 8), dtype=float32)\n"
     ]
    }
   ],
   "source": [
    "# 将inp_mask将至 3 维，并和q、k、v共同参与计算，注意权重的变化\n",
    "mask = tf.squeeze(inp_mask, axis=1) # (batch_size, 1, seq_len_q)\n",
    "_, attention_weights = scaled_dot_product_attention(q, k, v, mask)\n",
    "\n",
    "# 第一个句子的每个子词对最后两个补齐的部分注意力权重为 0 \n",
    "print(\"attention_weights:\", attention_weights)"
   ]
  },
  {
   "cell_type": "code",
   "execution_count": 0,
   "metadata": {
    "colab": {
     "base_uri": "https://localhost:8080/",
     "height": 319
    },
    "colab_type": "code",
    "id": "6Nf6zqR-_mqW",
    "outputId": "b0c65b58-57f9-4913-ea5e-b0284df4624a"
   },
   "outputs": [
    {
     "data": {
      "text/plain": [
       "<tf.Tensor: id=2245331, shape=(2, 8, 2), dtype=float32, numpy=\n",
       "array([[[0.        , 0.        ],\n",
       "        [0.        , 0.        ],\n",
       "        [0.        , 0.        ],\n",
       "        [0.        , 0.        ],\n",
       "        [0.        , 0.        ],\n",
       "        [0.        , 0.        ],\n",
       "        [0.        , 0.        ],\n",
       "        [0.        , 0.        ]],\n",
       "\n",
       "       [[0.12496921, 0.1248961 ],\n",
       "        [0.12502734, 0.1248781 ],\n",
       "        [0.12486039, 0.12490829],\n",
       "        [0.12496444, 0.12492301],\n",
       "        [0.12493192, 0.12490424],\n",
       "        [0.12506308, 0.12485934],\n",
       "        [0.12504014, 0.12491234],\n",
       "        [0.12496411, 0.12512498]]], dtype=float32)>"
      ]
     },
     "execution_count": 40,
     "metadata": {
      "tags": []
     },
     "output_type": "execute_result"
    }
   ],
   "source": [
    "# 只看 3 维的注意力权重矩阵最后一个维度的最后两个值\n",
    "attention_weights[:, :, -2:]"
   ]
  },
  {
   "cell_type": "markdown",
   "metadata": {},
   "source": [
    "#### NOTE\n",
    "\n",
    "这里 q 和 k 是相同的嵌入向量，相当于句子中的每个子词都去关注同句中其他位置的子词，从而从中获取表示的信息，这就是所谓的Self-attention。如果 q 和 k 分别是Decoder的输出和Encoder的输出，那么就是计算Decoder在生成某一个词时，它的隐状态计算输入序列中不同子词的注意力权重，从而得到新的context vector，也就是一般的Seq2Seq模型中的注意力机制的使用。"
   ]
  },
  {
   "cell_type": "code",
   "execution_count": 0,
   "metadata": {
    "colab": {
     "base_uri": "https://localhost:8080/",
     "height": 588
    },
    "colab_type": "code",
    "id": "FsrXEBcu_oKm",
    "outputId": "e5082a34-d466-46ac-8566-7587da9a9cb8"
   },
   "outputs": [
    {
     "name": "stdout",
     "output_type": "stream",
     "text": [
      "emb_tar: tf.Tensor(\n",
      "[[[ 0.00100154  0.02250249 -0.0408453  -0.03395625]\n",
      "  [ 0.03035182  0.02689043 -0.04268903  0.03850842]\n",
      "  [-0.03303015  0.03113339 -0.01500882  0.04115296]\n",
      "  [-0.0260061  -0.00518541 -0.00464231  0.04862784]\n",
      "  [ 0.01301358 -0.04549932  0.00708313 -0.01378647]\n",
      "  [ 0.02436458 -0.04894441 -0.02432488 -0.02768328]\n",
      "  [ 0.02250788  0.01626289 -0.0321715   0.02510258]\n",
      "  [-0.04279016 -0.01537494  0.02144868 -0.04766507]\n",
      "  [-0.04279016 -0.01537494  0.02144868 -0.04766507]\n",
      "  [-0.04279016 -0.01537494  0.02144868 -0.04766507]]\n",
      "\n",
      " [[ 0.00100154  0.02250249 -0.0408453  -0.03395625]\n",
      "  [-0.03975113  0.03147823  0.04613913  0.03317541]\n",
      "  [-0.01448536 -0.02721623  0.0466414   0.00501192]\n",
      "  [-0.03876447  0.02261052 -0.03871229  0.00696427]\n",
      "  [ 0.01843901  0.03112211  0.04172729 -0.02785325]\n",
      "  [ 0.0095794  -0.02647529 -0.02226598  0.00110232]\n",
      "  [ 0.03891832 -0.0174     -0.03329356 -0.00945352]\n",
      "  [ 0.00608505 -0.0193133  -0.02278407 -0.01182847]\n",
      "  [ 0.02436458 -0.04894441 -0.02432488 -0.02768328]\n",
      "  [ 0.02250788  0.01626289 -0.0321715   0.02510258]]], shape=(2, 10, 4), dtype=float32)\n",
      "--------------------\n",
      "look_ahead_mask tf.Tensor(\n",
      "[[0. 1. 1. 1. 1. 1. 1. 1. 1. 1.]\n",
      " [0. 0. 1. 1. 1. 1. 1. 1. 1. 1.]\n",
      " [0. 0. 0. 1. 1. 1. 1. 1. 1. 1.]\n",
      " [0. 0. 0. 0. 1. 1. 1. 1. 1. 1.]\n",
      " [0. 0. 0. 0. 0. 1. 1. 1. 1. 1.]\n",
      " [0. 0. 0. 0. 0. 0. 1. 1. 1. 1.]\n",
      " [0. 0. 0. 0. 0. 0. 0. 1. 1. 1.]\n",
      " [0. 0. 0. 0. 0. 0. 0. 0. 1. 1.]\n",
      " [0. 0. 0. 0. 0. 0. 0. 0. 0. 1.]\n",
      " [0. 0. 0. 0. 0. 0. 0. 0. 0. 0.]], shape=(10, 10), dtype=float32)\n"
     ]
    }
   ],
   "source": [
    "## look ahead mask\n",
    "# 建立一個 2 维矩阵，维度為 (size, size)，其mask为右上三角矩阵\n",
    "# 表示每一时刻只有已生成的位置是可以关注的\n",
    "def create_look_ahead_mask(size):\n",
    "  mask = 1 - tf.linalg.band_part(tf.ones((size, size)), -1, 0)\n",
    "  return mask  # (seq_len, seq_len)\n",
    "\n",
    "seq_len = emb_tar.shape[1] # 这里使用中文的词嵌入向量\n",
    "look_ahead_mask = create_look_ahead_mask(seq_len)\n",
    "print(\"emb_tar:\", emb_tar)\n",
    "print(\"-\" * 20)\n",
    "\n",
    "# 注意look_ahead_mask的输入形式，值为 1 的部分经过softmax后值趋于零，表示无法从这些位置得到信息\n",
    "# look_ahead_mask shape = (seq_len,embeding_dim)\n",
    "print(\"look_ahead_mask\", look_ahead_mask)"
   ]
  },
  {
   "cell_type": "code",
   "execution_count": 0,
   "metadata": {
    "colab": {
     "base_uri": "https://localhost:8080/",
     "height": 722
    },
    "colab_type": "code",
    "id": "kbWK8nc4_qBn",
    "outputId": "80b81506-3ece-4b1d-ae99-3a1e441faa77"
   },
   "outputs": [
    {
     "name": "stdout",
     "output_type": "stream",
     "text": [
      "attention_weights: tf.Tensor(\n",
      "[[[1.         0.         0.         0.         0.         0.\n",
      "   0.         0.         0.         0.        ]\n",
      "  [0.49951524 0.50048476 0.         0.         0.         0.\n",
      "   0.         0.         0.         0.        ]\n",
      "  [0.3329849  0.33334753 0.33366755 0.         0.         0.\n",
      "   0.         0.         0.         0.        ]\n",
      "  [0.249631   0.24997401 0.25017738 0.25021756 0.         0.\n",
      "   0.         0.         0.         0.        ]\n",
      "  [0.19998352 0.19990057 0.1998148  0.19998613 0.20031494 0.\n",
      "   0.         0.         0.         0.        ]\n",
      "  [0.1667013  0.16657957 0.16637161 0.16649558 0.16685948 0.1669925\n",
      "   0.         0.         0.         0.        ]\n",
      "  [0.14284083 0.1430274  0.14287145 0.14283015 0.14270726 0.14276871\n",
      "   0.14295417 0.         0.         0.        ]\n",
      "  [0.12504955 0.12474872 0.12494314 0.12495089 0.12508695 0.12505917\n",
      "   0.12483381 0.12532783 0.         0.        ]\n",
      "  [0.11112276 0.11085545 0.11102822 0.1110351  0.111156   0.11113133\n",
      "   0.11093105 0.11137005 0.11137005 0.        ]\n",
      "  [0.09998719 0.09974666 0.09990211 0.09990831 0.10001709 0.09999489\n",
      "   0.09981469 0.10020969 0.10020969 0.10020969]]\n",
      "\n",
      " [[1.         0.         0.         0.         0.         0.\n",
      "   0.         0.         0.         0.        ]\n",
      "  [0.49898213 0.50101787 0.         0.         0.         0.\n",
      "   0.         0.         0.         0.        ]\n",
      "  [0.33274508 0.33353454 0.33372033 0.         0.         0.\n",
      "   0.         0.         0.         0.        ]\n",
      "  [0.25009397 0.2499543  0.2496393  0.25031245 0.         0.\n",
      "   0.         0.         0.         0.        ]\n",
      "  [0.19991784 0.2000466  0.19999105 0.19973993 0.20030458 0.\n",
      "   0.         0.         0.         0.        ]\n",
      "  [0.1667292  0.16652168 0.16666776 0.166697   0.16657145 0.16681291\n",
      "   0.         0.         0.         0.        ]\n",
      "  [0.14296581 0.14258939 0.14275019 0.1428224  0.14280306 0.14298268\n",
      "   0.14308645 0.         0.         0.        ]\n",
      "  [0.12505242 0.12485266 0.12495315 0.12500386 0.12492657 0.12506244\n",
      "   0.12508616 0.12506275 0.         0.        ]\n",
      "  [0.11113006 0.11083005 0.11106613 0.11101016 0.1110093  0.11119585\n",
      "   0.11124207 0.11119223 0.11132419 0.        ]\n",
      "  [0.10003269 0.09993849 0.09988309 0.10003596 0.09993418 0.10001664\n",
      "   0.10006154 0.10000313 0.09998219 0.10011206]]], shape=(2, 10, 10), dtype=float32)\n"
     ]
    }
   ],
   "source": [
    "# 使用中文的batch来看一下scaled_dot_product_attention的运算\n",
    "temp_q = temp_k = emb_tar\n",
    "temp_v = tf.cast(tf.math.greater(\n",
    "    tf.random.uniform(shape=emb_tar.shape), 0.5), tf.float32)\n",
    "\n",
    "_, attention_weights = scaled_dot_product_attention(temp_q, temp_k, temp_v, look_ahead_mask)\n",
    "\n",
    "# attention_weights的输出为下三角矩阵，显示了在生成某个词时从前面已生成部分的子词所得到的注意力权重\n",
    "# 最为直观的是第一行只有（1,1）值为 1 ，其余都为 0 ，是因为此时只能看到它自己\n",
    "print(\"attention_weights:\", attention_weights)"
   ]
  },
  {
   "cell_type": "code",
   "execution_count": 0,
   "metadata": {
    "colab": {
     "base_uri": "https://localhost:8080/",
     "height": 67
    },
    "colab_type": "code",
    "id": "4dKg-ELD_rx8",
    "outputId": "132cd50f-3291-44c9-efee-863ce7f4423b"
   },
   "outputs": [
    {
     "data": {
      "text/plain": [
       "<tf.Tensor: id=2245371, shape=(2, 10), dtype=float32, numpy=\n",
       "array([[1., 0., 0., 0., 0., 0., 0., 0., 0., 0.],\n",
       "       [1., 0., 0., 0., 0., 0., 0., 0., 0., 0.]], dtype=float32)>"
      ]
     },
     "execution_count": 43,
     "metadata": {
      "tags": []
     },
     "output_type": "execute_result"
    }
   ],
   "source": [
    "# 更为直接的显示\n",
    "attention_weights[:, 0, :]"
   ]
  },
  {
   "cell_type": "code",
   "execution_count": 0,
   "metadata": {
    "colab": {
     "base_uri": "https://localhost:8080/",
     "height": 118
    },
    "colab_type": "code",
    "id": "rY9PxCzO_tdy",
    "outputId": "22793b37-41ae-4d4a-c286-d17e5b1e7be9"
   },
   "outputs": [
    {
     "data": {
      "text/plain": [
       "<tf.Tensor: id=2245376, shape=(2, 10), dtype=float32, numpy=\n",
       "array([[0.49951524, 0.50048476, 0.        , 0.        , 0.        ,\n",
       "        0.        , 0.        , 0.        , 0.        , 0.        ],\n",
       "       [0.49898213, 0.50101787, 0.        , 0.        , 0.        ,\n",
       "        0.        , 0.        , 0.        , 0.        , 0.        ]],\n",
       "      dtype=float32)>"
      ]
     },
     "execution_count": 44,
     "metadata": {
      "tags": []
     },
     "output_type": "execute_result"
    }
   ],
   "source": [
    "attention_weights[:, 1, :]"
   ]
  },
  {
   "attachments": {
    "image.png": {
     "image/png": "[encoded data removed]"
    }
   },
   "cell_type": "markdown",
   "metadata": {},
   "source": [
    "### Multi-head Attention\n",
    "\n",
    "$$\\text{head}_{i} = \\text{Attention}(QW_{i}^Q,KW_{i}^K,VE_{i}^V)$$\n",
    "\n",
    "$$\\text{MultiHead}(Q,K,V) = \\text{Concat}(\\text{head}_{1},...,\\text{head}_{h})$$\n",
    "\n",
    "Transformer中另一个重要的东西就是**多头注意力机制**，它的直觉来源于每个子词在不同的句子下对于同一个词的关注应该是不同的，那么将其映射到不同的表示子空间中得到的表示就应该是不同的。因此我们可以将Q、K、V先分别转换到$d_{model}$维空间中，然后分别将其拆成多个较低维的N个q、k、v，这也就是所谓的多头，其中N作为超参数可以自由设定，N越大理论上获得的信息越多，但同时也带来了模型计算复杂度的增加。\n",
    "\n",
    "然后将得到的多个q、k、v都喂给scaled_dot_product_attention()得到N个结果，接着将N个结果拼接起来，最后通过一个线性转换得到Multi-head attention的输出。\n",
    "\n",
    "![image.png](attachment:image.png)\n"
   ]
  },
  {
   "cell_type": "code",
   "execution_count": 0,
   "metadata": {
    "colab": {
     "base_uri": "https://localhost:8080/",
     "height": 941
    },
    "colab_type": "code",
    "id": "Pm-upasz_u16",
    "outputId": "13d08dd0-5ff5-47a1-ecb8-a905473a8217"
   },
   "outputs": [
    {
     "name": "stdout",
     "output_type": "stream",
     "text": [
      "x: tf.Tensor(\n",
      "[[[-0.01139329  0.01229278  0.03950438 -0.0395899 ]\n",
      "  [-0.03753178  0.04810501  0.00495262 -0.01980923]\n",
      "  [-0.04847762 -0.01453701 -0.03063028 -0.01865565]\n",
      "  [ 0.03877607  0.04025192 -0.04581488 -0.03769145]\n",
      "  [-0.02710364  0.00806242  0.01828117  0.00159191]\n",
      "  [ 0.01875322 -0.02994844 -0.00705097 -0.01912252]\n",
      "  [-0.0208289   0.01274401  0.03311023  0.01455362]\n",
      "  [-0.0208289   0.01274401  0.03311023  0.01455362]]\n",
      "\n",
      " [[-0.01139329  0.01229278  0.03950438 -0.0395899 ]\n",
      "  [-0.00584363  0.0104764   0.04166264  0.03220595]\n",
      "  [ 0.04675562  0.03685777  0.03340571 -0.04201565]\n",
      "  [-0.00773854  0.01943834  0.01579637 -0.04011631]\n",
      "  [ 0.02852057  0.01556729  0.0491894  -0.00419093]\n",
      "  [-0.04344189  0.04366796 -0.01890308  0.00424111]\n",
      "  [-0.02710364  0.00806242  0.01828117  0.00159191]\n",
      "  [ 0.01875322 -0.02994844 -0.00705097 -0.01912252]]], shape=(2, 8, 4), dtype=float32)\n",
      "output: tf.Tensor(\n",
      "[[[[-0.01139329  0.01229278]\n",
      "   [-0.03753178  0.04810501]\n",
      "   [-0.04847762 -0.01453701]\n",
      "   [ 0.03877607  0.04025192]\n",
      "   [-0.02710364  0.00806242]\n",
      "   [ 0.01875322 -0.02994844]\n",
      "   [-0.0208289   0.01274401]\n",
      "   [-0.0208289   0.01274401]]\n",
      "\n",
      "  [[ 0.03950438 -0.0395899 ]\n",
      "   [ 0.00495262 -0.01980923]\n",
      "   [-0.03063028 -0.01865565]\n",
      "   [-0.04581488 -0.03769145]\n",
      "   [ 0.01828117  0.00159191]\n",
      "   [-0.00705097 -0.01912252]\n",
      "   [ 0.03311023  0.01455362]\n",
      "   [ 0.03311023  0.01455362]]]\n",
      "\n",
      "\n",
      " [[[-0.01139329  0.01229278]\n",
      "   [-0.00584363  0.0104764 ]\n",
      "   [ 0.04675562  0.03685777]\n",
      "   [-0.00773854  0.01943834]\n",
      "   [ 0.02852057  0.01556729]\n",
      "   [-0.04344189  0.04366796]\n",
      "   [-0.02710364  0.00806242]\n",
      "   [ 0.01875322 -0.02994844]]\n",
      "\n",
      "  [[ 0.03950438 -0.0395899 ]\n",
      "   [ 0.04166264  0.03220595]\n",
      "   [ 0.03340571 -0.04201565]\n",
      "   [ 0.01579637 -0.04011631]\n",
      "   [ 0.0491894  -0.00419093]\n",
      "   [-0.01890308  0.00424111]\n",
      "   [ 0.01828117  0.00159191]\n",
      "   [-0.00705097 -0.01912252]]]], shape=(2, 2, 8, 2), dtype=float32)\n"
     ]
    }
   ],
   "source": [
    "def split_heads(x, d_model, num_heads):\n",
    "  # x.shape: (batch_size, seq_len, d_model)\n",
    "  batch_size = tf.shape(x)[0]\n",
    "  \n",
    "  # 我們要确保维度`d_model` 可以被平分成 `num_heads` 个 `depth` 维度\n",
    "  assert d_model % num_heads == 0\n",
    "  depth = d_model // num_heads  # 划分后表示子空间的维度\n",
    "  \n",
    "  # 将最后一个 d_model 维度分成 num_heads 个 depth 维度，最后一个维度变成两个维度，x 从 3 维到 4 维\n",
    "  # (batch_size, seq_len, num_heads, depth)\n",
    "  reshaped_x = tf.reshape(x, shape=(batch_size, -1, num_heads, depth))\n",
    "  \n",
    "  # 將 head 的维度拉前使得最后兩个维度为子词以及其对应的 depth 向量\n",
    "  # (batch_size, num_heads, seq_len, depth)\n",
    "  output = tf.transpose(reshaped_x, perm=[0, 2, 1, 3])\n",
    "  \n",
    "  return output\n",
    "\n",
    "#  `emb_inp` 里的子词本來就是 4 维的词嵌入向量\n",
    "d_model = 4\n",
    "# 将 4 维的词嵌入向量划分为 2 头的 2 维矩阵\n",
    "num_heads = 2\n",
    "x = emb_inp\n",
    "\n",
    "output = split_heads(x, d_model, num_heads)  \n",
    "print(\"x:\", x)\n",
    "# 从output中可以很直观的看出划分后的结果，按列划分，每两列为 1 头的嵌入向量\n",
    "# shape=(2, 2, 8, 2)表示 2 批次数据按 N=2 进行划分，最后得到的结果向量长度仍为 8 ，但embedding_dim = 2\n",
    "print(\"output:\", output)"
   ]
  },
  {
   "cell_type": "code",
   "execution_count": 0,
   "metadata": {
    "colab": {},
    "colab_type": "code",
    "id": "HTFOpUtU_xYp"
   },
   "outputs": [],
   "source": [
    "## 实现多头注意力机制的 keras layer\n",
    "class MultiHeadAttention(tf.keras.layers.Layer):\n",
    "    # 在初始的時候指定输出维度`d_model` 和 `num_heads，\n",
    "    def __init__(self, d_model, num_heads):\n",
    "        super(MultiHeadAttention, self).__init__()\n",
    "\n",
    "        self.num_heads = num_heads \n",
    "        self.d_model = d_model \n",
    "\n",
    "        assert d_model % self.num_heads == 0  # 确保可以正确划分\n",
    "\n",
    "        self.depth = d_model // self.num_heads  # 每个 head 里子词的新的 repr. 维度\n",
    "\n",
    "        # 分別给 q, k, v 的 3 个线性转换 \n",
    "        self.wq = tf.keras.layers.Dense(d_model)  \n",
    "        self.wk = tf.keras.layers.Dense(d_model)  # 这里并没有指定 activation func\n",
    "        self.wv = tf.keras.layers.Dense(d_model)\n",
    "\n",
    "        self.dense = tf.keras.layers.Dense(d_model)  # 多个结果拼接后的线性转换\n",
    "  \n",
    "    def split_heads(self, x, batch_size):\n",
    "        # Split the last dimension into (num_heads, depth).\n",
    "        # Transpose the result such that the shape is (batch_size, num_heads, seq_len, depth)\n",
    "\n",
    "        x = tf.reshape(x, (batch_size, -1, self.num_heads, self.depth))\n",
    "        return tf.transpose(x, perm=[0, 2, 1, 3])\n",
    "\n",
    "    # multi-head attention 的前向传播过程\n",
    "    def call(self, v, k, q, mask):\n",
    "        batch_size = tf.shape(q)[0]\n",
    "\n",
    "        # 将 q, k, v 都各自做一次线性转换到 `d_model` 维空间\n",
    "        q = self.wq(q)  # (batch_size, seq_len, d_model)\n",
    "        k = self.wk(k)  # (batch_size, seq_len, d_model)\n",
    "        v = self.wv(v)  # (batch_size, seq_len, d_model)\n",
    "\n",
    "        # 将最后一个`d_model` 维度分成 `num_heads` 个 `depth` 维度\n",
    "        q = self.split_heads(q, batch_size)  # (batch_size, num_heads, seq_len_q, depth)\n",
    "        k = self.split_heads(k, batch_size)  # (batch_size, num_heads, seq_len_k, depth)\n",
    "        v = self.split_heads(v, batch_size)  # (batch_size, num_heads, seq_len_v, depth)\n",
    "\n",
    "        # 利用 broadcasting 让每个句子的每个 head 的 qi, ki, vi 都各自进行注意力机制的计算\n",
    "        # 输出会多一个维度\n",
    "        scaled_attention, attention_weights = scaled_dot_product_attention(q, k, v, mask)\n",
    "        # scaled_attention.shape == (batch_size, num_heads, seq_len_q, depth)\n",
    "        # attention_weights.shape == (batch_size, num_heads, seq_len_q, seq_len_k)\n",
    "\n",
    "        # 跟我们在 `split_heads` 做的事情刚好相反，先做 transpose 再做 reshape\n",
    "        # 将 `num_heads` 个 `depth` 维度拼接回原來的 `d_model` 维度\n",
    "        scaled_attention = tf.transpose(scaled_attention, perm=[0, 2, 1, 3])\n",
    "        # (batch_size, seq_len_q, num_heads, depth)\n",
    "        \n",
    "        concat_attention = tf.reshape(scaled_attention,(batch_size, -1, self.d_model)) \n",
    "        # (batch_size, seq_len_q, d_model)\n",
    "\n",
    "        # 最后做一次线性转换\n",
    "        output = self.dense(concat_attention)  # (batch_size, seq_len_q, d_model)\n",
    "        \n",
    "        # 输出跟 scaled_dot_product_attention()一样包含 output 和 attention_weightd\n",
    "        # output.shape = (batch_size, seq_len_q, d_model)\n",
    "        # attention_weights.shape = (batch_size, num_heads, seq_len_q, seq_len_k)    \n",
    "        return output, attention_weights"
   ]
  },
  {
   "cell_type": "code",
   "execution_count": 0,
   "metadata": {
    "colab": {
     "base_uri": "https://localhost:8080/",
     "height": 487
    },
    "colab_type": "code",
    "id": "7prfM_zi_5B-",
    "outputId": "58f60b53-3f5f-40d7-964a-e0edb02ec158"
   },
   "outputs": [
    {
     "name": "stdout",
     "output_type": "stream",
     "text": [
      "d_model: 4\n",
      "num_heads: 2\n",
      "\n",
      "q.shape: (2, 8, 4)\n",
      "k.shape: (2, 8, 4)\n",
      "v.shape: (2, 8, 4)\n",
      "padding_mask.shape: (2, 1, 1, 8)\n",
      "output.shape: (2, 8, 4)\n",
      "attention_weights.shape: (2, 2, 8, 8)\n",
      "\n",
      "output: tf.Tensor(\n",
      "[[[ 0.01527098 -0.01789774 -0.01523319  0.0009215 ]\n",
      "  [ 0.01526419 -0.01788679 -0.01522307  0.00091816]\n",
      "  [ 0.01526468 -0.017891   -0.01522538  0.00091816]\n",
      "  [ 0.01525943 -0.01788627 -0.01523652  0.00090566]\n",
      "  [ 0.01527707 -0.01790334 -0.01523186  0.00092741]\n",
      "  [ 0.01527615 -0.01790738 -0.01524307  0.00092123]\n",
      "  [ 0.01528278 -0.01790921 -0.01523449  0.00093178]\n",
      "  [ 0.01528278 -0.01790921 -0.01523449  0.00093178]]\n",
      "\n",
      " [[-0.00380177  0.00312115  0.01812393  0.01823709]\n",
      "  [-0.00377216  0.00309893  0.01810931  0.01823567]\n",
      "  [-0.00378912  0.0031084   0.01809814  0.01822169]\n",
      "  [-0.00380559  0.00312412  0.0181221   0.01823044]\n",
      "  [-0.00377565  0.00309886  0.01809984  0.01822967]\n",
      "  [-0.00380575  0.00312865  0.01813124  0.01822983]\n",
      "  [-0.00379382  0.00311651  0.01812373  0.01823533]\n",
      "  [-0.00379186  0.00310937  0.01810438  0.01821898]]], shape=(2, 8, 4), dtype=float32)\n"
     ]
    }
   ],
   "source": [
    "# emb_inp.shape == (batch_size, seq_len, d_model) == (2, 8, 4)\n",
    "assert d_model == emb_inp.shape[-1]  == 4\n",
    "num_heads = 2\n",
    "\n",
    "print(f\"d_model: {d_model}\")\n",
    "print(f\"num_heads: {num_heads}\\n\")\n",
    "\n",
    "# 初始化一个 multi-head attention layer\n",
    "mha = MultiHeadAttention(d_model, num_heads)\n",
    "\n",
    "# 这里同样简单的对 q 和 k 使用相同的词嵌入向量\n",
    "v = k = q = emb_inp\n",
    "padding_mask = create_padding_mask(inp)\n",
    "print(\"q.shape:\", q.shape)\n",
    "print(\"k.shape:\", k.shape)\n",
    "print(\"v.shape:\", v.shape)\n",
    "print(\"padding_mask.shape:\", padding_mask.shape)\n",
    "\n",
    "output, attention_weights = mha(v, k, q, mask)\n",
    "\n",
    "# output_shape == emb_inp_shape\n",
    "print(\"output.shape:\", output.shape)\n",
    "print(\"attention_weights.shape:\", attention_weights.shape)\n",
    "\n",
    "print(\"\\noutput:\", output)"
   ]
  },
  {
   "attachments": {
    "image.png": {
     "image/png": "[encoded data removed]"
    }
   },
   "cell_type": "markdown",
   "metadata": {},
   "source": [
    "## Transformer\n",
    "\n",
    "![image.png](attachment:image.png)\n",
    "\n",
    "Transformer是一种完全基于自注意力机制的Seq2Seq模型，因此同样包含Encoder和Decoder：\n",
    "- Encoder输入的英文序列会通过其中的N个子层并被转换维一个相同长度的序列，每层都会为自己的输入序列中的子词产生新的表示，然后在传到下一层\n",
    "- Decoder在预测下一个中文的子词时会同时关注Encoder输出序列中所有的英文子词的表示，同时关注自身已生成的部分\n",
    "\n",
    "Encoder中的Encoder layer又分为两个sub_layer;Decoder中的Decoder layer又分为3个sub_layer。因此从sub_layer出发来看，Transformer的结构可以表示为：\n",
    "\n",
    "- Transformer\n",
    "    - Encoder\n",
    "        -inpute embedding\n",
    "        - positional embedding\n",
    "        - N Encoder layers\n",
    "            - sub_layer 1: self_attentino\n",
    "            - sub_layer 2: Feed forward\n",
    "    - Decoder\n",
    "        - output embedding\n",
    "        - positional embedding\n",
    "        - N Decoder layers\n",
    "            - sub_layer 1:Self-attention\n",
    "            - sub_layer 2:Edcder-encoder attention\n",
    "            - sub_layer 3:Feed forward\n",
    "    - Final Dense layer\n",
    "    "
   ]
  },
  {
   "cell_type": "code",
   "execution_count": 0,
   "metadata": {
    "colab": {},
    "colab_type": "code",
    "id": "583-8ex7_6-K"
   },
   "outputs": [],
   "source": [
    "#  Feed Forward layer\n",
    "def point_wise_feed_forward_network(d_model, dff):\n",
    "  return tf.keras.Sequential([\n",
    "      tf.keras.layers.Dense(dff, activation='relu'),  # (batch_size, seq_len, dff)\n",
    "      tf.keras.layers.Dense(d_model)  # (batch_size, seq_len, d_model)\n",
    "  ])"
   ]
  },
  {
   "cell_type": "code",
   "execution_count": 0,
   "metadata": {
    "colab": {
     "base_uri": "https://localhost:8080/",
     "height": 50
    },
    "colab_type": "code",
    "id": "gRGoFgRS_962",
    "outputId": "d371c8f0-9f4d-484a-9fdb-4810669d3e6d"
   },
   "outputs": [
    {
     "name": "stdout",
     "output_type": "stream",
     "text": [
      "x.shape: (64, 10, 512)\n",
      "out.shape: (64, 10, 512)\n"
     ]
    }
   ],
   "source": [
    "batch_size = 64\n",
    "seq_len = 10\n",
    "d_model = 512\n",
    "dff = 2048\n",
    "\n",
    "x = tf.random.uniform((batch_size, seq_len, d_model))\n",
    "ffn = point_wise_feed_forward_network(d_model, dff)\n",
    "out = ffn(x)\n",
    "\n",
    "# x shape == (batch_size,seq_len.d_model)\n",
    "# output shape == (batch_size,seq_len,d_model)\n",
    "print(\"x.shape:\", x.shape)\n",
    "print(\"out.shape:\", out.shape)"
   ]
  },
  {
   "cell_type": "markdown",
   "metadata": {},
   "source": [
    "#### NOTE\n",
    "\n",
    "同一个子词不会因为位置的改变而造成FFN产生不同的输出。而实际中不同的layer会有不同参数的FFN，因此每个layer中的FFN所做的线性转换是不同的。\n",
    "\n",
    "另外尽管对所有位置的子词做同样的转换，但每个转换是独立进行的，因此称为Position-wise-DFeed-Forward Networks。"
   ]
  },
  {
   "cell_type": "code",
   "execution_count": 0,
   "metadata": {
    "colab": {
     "base_uri": "https://localhost:8080/",
     "height": 118
    },
    "colab_type": "code",
    "id": "FIK91XLq__Kt",
    "outputId": "2e21db4f-5c2a-492d-9ffd-2b6d9938309e"
   },
   "outputs": [
    {
     "data": {
      "text/plain": [
       "<tf.Tensor: id=2245723, shape=(5, 4), dtype=float32, numpy=\n",
       "array([[ 2.8674245, -2.174698 , -1.3073452, -6.4233937],\n",
       "       [ 2.8674245, -2.174698 , -1.3073452, -6.4233937],\n",
       "       [ 3.650207 , -0.973258 , -2.4126565, -6.5094995],\n",
       "       [ 3.650207 , -0.973258 , -2.4126565, -6.5094995],\n",
       "       [ 3.650207 , -0.973258 , -2.4126565, -6.5094995]], dtype=float32)>"
      ]
     },
     "execution_count": 50,
     "metadata": {
      "tags": []
     },
     "output_type": "execute_result"
    }
   ],
   "source": [
    "d_model = 4 # FFN 的输入输出张量的最后一维都是 `d_model`\n",
    "dff = 6\n",
    "\n",
    "# 构建一个小的 FFN\n",
    "small_ffn = point_wise_feed_forward_network(d_model, dff)\n",
    "\n",
    "dummy_sentence = tf.constant([[5, 5, 6, 6], \n",
    "                              [5, 5, 6, 6], \n",
    "                              [9, 5, 2, 7], \n",
    "                              [9, 5, 2, 7],\n",
    "                              [9, 5, 2, 7]], dtype=tf.float32)\n",
    "small_ffn(dummy_sentence)"
   ]
  },
  {
   "cell_type": "code",
   "execution_count": 0,
   "metadata": {
    "colab": {},
    "colab_type": "code",
    "id": "zjlXbb3FAAse"
   },
   "outputs": [],
   "source": [
    "## Encoder layer\n",
    "#\n",
    "# Encoder 包含 N 个Encoder Layer，而每个 Encoder Layer 又有兩个 sub-layers: MHA & FFN\n",
    "class EncoderLayer(tf.keras.layers.Layer):\n",
    "  # Transformer 文章中 dropout rate = 0.1\n",
    "  def __init__(self, d_model, num_heads, dff, rate=0.1):\n",
    "    super(EncoderLayer, self).__init__()\n",
    "\n",
    "    self.mha = MultiHeadAttention(d_model, num_heads)\n",
    "    self.ffn = point_wise_feed_forward_network(d_model, dff)\n",
    "\n",
    "    # layer norm 在RNN中效果要优于BN，因此被广泛的使用\n",
    "    self.layernorm1 = tf.keras.layers.LayerNormalization(epsilon=1e-6)\n",
    "    self.layernorm2 = tf.keras.layers.LayerNormalization(epsilon=1e-6)\n",
    "    \n",
    "    self.dropout1 = tf.keras.layers.Dropout(rate)\n",
    "    self.dropout2 = tf.keras.layers.Dropout(rate)\n",
    "    \n",
    "  # 需要设置 training 这个指示变量是因为 dropout 在训练和测试中是不同的\n",
    "  def call(self, x, training, mask):\n",
    "    # 除了 `attn`，其他张量的 shape 都为(batch_size, input_seq_len, d_model)\n",
    "    # attn.shape == (batch_size, num_heads, input_seq_len, input_seq_len)\n",
    "    \n",
    "    # sub-layer 1: MHA\n",
    "    # Encoder 利用注意力机制关注自己当前的序列，因此 v, k, q 全部都是自己\n",
    "    # 另外还需要 padding mask 來mask掉输入序列中的 <pad> token\n",
    "    attn_output, attn = self.mha(x, x, x, mask)  \n",
    "    attn_output = self.dropout1(attn_output, training=training) \n",
    "    out1 = self.layernorm1(x + attn_output)  \n",
    "    \n",
    "    # sub-layer 2: FFN\n",
    "    ffn_output = self.ffn(out1) \n",
    "    ffn_output = self.dropout2(ffn_output, training=training)  # 記得 training\n",
    "    out2 = self.layernorm2(out1 + ffn_output)\n",
    "    \n",
    "    return out2"
   ]
  },
  {
   "cell_type": "code",
   "execution_count": 0,
   "metadata": {
    "colab": {
     "base_uri": "https://localhost:8080/",
     "height": 806
    },
    "colab_type": "code",
    "id": "pEoog3TMACgg",
    "outputId": "322382d8-0bea-4075-8078-3749dffb1c54"
   },
   "outputs": [
    {
     "name": "stdout",
     "output_type": "stream",
     "text": [
      "inp: tf.Tensor(\n",
      "[[8135  105   10 1304 7925 8136    0    0]\n",
      " [8135   17 3905 6013   12 2572 7925 8136]], shape=(2, 8), dtype=int64)\n",
      "--------------------\n",
      "padding_mask: tf.Tensor(\n",
      "[[[[0. 0. 0. 0. 0. 0. 1. 1.]]]\n",
      "\n",
      "\n",
      " [[[0. 0. 0. 0. 0. 0. 0. 0.]]]], shape=(2, 1, 1, 8), dtype=float32)\n",
      "--------------------\n",
      "emb_inp: tf.Tensor(\n",
      "[[[-0.01139329  0.01229278  0.03950438 -0.0395899 ]\n",
      "  [-0.03753178  0.04810501  0.00495262 -0.01980923]\n",
      "  [-0.04847762 -0.01453701 -0.03063028 -0.01865565]\n",
      "  [ 0.03877607  0.04025192 -0.04581488 -0.03769145]\n",
      "  [-0.02710364  0.00806242  0.01828117  0.00159191]\n",
      "  [ 0.01875322 -0.02994844 -0.00705097 -0.01912252]\n",
      "  [-0.0208289   0.01274401  0.03311023  0.01455362]\n",
      "  [-0.0208289   0.01274401  0.03311023  0.01455362]]\n",
      "\n",
      " [[-0.01139329  0.01229278  0.03950438 -0.0395899 ]\n",
      "  [-0.00584363  0.0104764   0.04166264  0.03220595]\n",
      "  [ 0.04675562  0.03685777  0.03340571 -0.04201565]\n",
      "  [-0.00773854  0.01943834  0.01579637 -0.04011631]\n",
      "  [ 0.02852057  0.01556729  0.0491894  -0.00419093]\n",
      "  [-0.04344189  0.04366796 -0.01890308  0.00424111]\n",
      "  [-0.02710364  0.00806242  0.01828117  0.00159191]\n",
      "  [ 0.01875322 -0.02994844 -0.00705097 -0.01912252]]], shape=(2, 8, 4), dtype=float32)\n",
      "--------------------\n",
      "enc_out: tf.Tensor(\n",
      "[[[ 0.31981817  0.7314384   0.6597264  -1.710983  ]\n",
      "  [-0.978602    1.6730607  -0.37934095 -0.31511766]\n",
      "  [-1.611018    1.1359375   0.26411194  0.21096851]\n",
      "  [ 0.6738584   1.0392923  -1.5630951  -0.15005551]\n",
      "  [-1.3175952   0.6693078   1.220197   -0.57190937]\n",
      "  [ 1.6703488  -0.85008824 -0.13548115 -0.6847793 ]\n",
      "  [-1.300781    0.44117928  1.3635738  -0.50397193]\n",
      "  [-1.300781    0.44117928  1.3635738  -0.50397193]]\n",
      "\n",
      " [[ 0.7233218   0.28694543  0.6957283  -1.7059956 ]\n",
      "  [-0.17256302 -1.5107186   1.209893    0.4733886 ]\n",
      "  [ 1.39725     0.4348098  -0.61569333 -1.2163666 ]\n",
      "  [ 0.99811184  0.7483334  -0.1954597  -1.5509856 ]\n",
      "  [ 1.3902119  -0.5162902   0.4053207  -1.2792425 ]\n",
      "  [-1.1754183   1.4703383  -0.60188574  0.30696547]\n",
      "  [-0.8589266  -0.3020169   1.6978626  -0.5369191 ]\n",
      "  [ 1.6241145  -1.1046869  -0.20051146 -0.31891614]]], shape=(2, 8, 4), dtype=float32)\n"
     ]
    }
   ],
   "source": [
    "d_model = 4\n",
    "num_heads = 2\n",
    "dff = 8\n",
    "\n",
    "# 新建一个 Encoder Layer\n",
    "enc_layer = EncoderLayer(d_model, num_heads, dff)\n",
    "padding_mask = create_padding_mask(inp)  # 构件针对当前 batch 使用的 padding mask\n",
    "enc_out = enc_layer(emb_inp, training=False, mask=padding_mask)  # (batch_size, seq_len, d_model)\n",
    "\n",
    "print(\"inp:\", inp)\n",
    "print(\"-\" * 20)\n",
    "print(\"padding_mask:\", padding_mask)\n",
    "print(\"-\" * 20)\n",
    "print(\"emb_inp:\", emb_inp)\n",
    "print(\"-\" * 20)\n",
    "print(\"enc_out:\", enc_out)\n",
    "assert emb_inp.shape == enc_out.shape"
   ]
  },
  {
   "cell_type": "code",
   "execution_count": 0,
   "metadata": {
    "colab": {},
    "colab_type": "code",
    "id": "803pjXGLAHVA"
   },
   "outputs": [],
   "source": [
    "## Decoder layer\n",
    "#\n",
    "# Decoder 里会有 N 个 Decoder Layer，\n",
    "# 而 DecoderLayer 又有三个 sub-layers: 自注意的 MHA, 关注 Encoder 输出的 MHA & FFN\n",
    "class DecoderLayer(tf.keras.layers.Layer):\n",
    "  def __init__(self, d_model, num_heads, dff, rate=0.1):\n",
    "    super(DecoderLayer, self).__init__()\n",
    "\n",
    "    # 3 个 sub-layers 的主角\n",
    "    self.mha1 = MultiHeadAttention(d_model, num_heads)\n",
    "    self.mha2 = MultiHeadAttention(d_model, num_heads)\n",
    "    self.ffn = point_wise_feed_forward_network(d_model, dff)\n",
    " \n",
    "    # 定义每个 sub-layer 用的 Layer Norm\n",
    "    self.layernorm1 = tf.keras.layers.LayerNormalization(epsilon=1e-6)\n",
    "    self.layernorm2 = tf.keras.layers.LayerNormalization(epsilon=1e-6)\n",
    "    self.layernorm3 = tf.keras.layers.LayerNormalization(epsilon=1e-6)\n",
    "    \n",
    "    # 定义每个 sub-layer 用的 Dropout\n",
    "    self.dropout1 = tf.keras.layers.Dropout(rate)\n",
    "    self.dropout2 = tf.keras.layers.Dropout(rate)\n",
    "    self.dropout3 = tf.keras.layers.Dropout(rate)\n",
    "    \n",
    "    \n",
    "  def call(self, x, enc_output, training, \n",
    "           combined_mask, inp_padding_mask):\n",
    "    # 所有 sub-layers 的主要输出都是 (batch_size, target_seq_len, d_model)\n",
    "    # enc_output 为 Encoder 输出序列，shape 为(batch_size, input_seq_len, d_model)\n",
    "    # attn_weights_block_1 都是  (batch_size, num_heads, target_seq_len, target_seq_len)\n",
    "    # attn_weights_block_2 都是  (batch_size, num_heads, target_seq_len, input_seq_len)\n",
    "\n",
    "    # sub-layer 1: Decoder layer 自己对输出序列做注意力，因此 Q、K、V 都是 x\n",
    "    # 我们同时需要 look ahead mask 以及输出序列的 padding mask \n",
    "    # 來避免前面已生成的子词关注到未來的子词以及 <pad>\n",
    "    attn1, attn_weights_block1 = self.mha1(x, x, x, combined_mask)\n",
    "    attn1 = self.dropout1(attn1, training=training)\n",
    "    out1 = self.layernorm1(attn1 + x)\n",
    "    \n",
    "    # sub-layer 2: Decoder layer 关注 Encoder 的最后输出，因此 V、K 为enc_output\n",
    "    # 需要对 Encoder 的输出使用 padding mask 避免关注到 <pad>\n",
    "    attn2, attn_weights_block2 = self.mha2(\n",
    "        enc_output, enc_output, out1, inp_padding_mask)  # (batch_size, target_seq_len, d_model)\n",
    "    attn2 = self.dropout2(attn2, training=training)\n",
    "    out2 = self.layernorm2(attn2 + out1)  # (batch_size, target_seq_len, d_model)\n",
    "    \n",
    "    # sub-layer 3: FFN 部分跟 Encoder layer 完全一样\n",
    "    ffn_output = self.ffn(out2)  # (batch_size, target_seq_len, d_model)\n",
    "\n",
    "    ffn_output = self.dropout3(ffn_output, training=training)\n",
    "    out3 = self.layernorm3(ffn_output + out2)  # (batch_size, target_seq_len, d_model)\n",
    "    \n",
    "    # 除了主要输出 `out3` 以外，输出 multi-head 注意权重方便之后理解模型內部状况\n",
    "    return out3, attn_weights_block1, attn_weights_block2"
   ]
  },
  {
   "cell_type": "code",
   "execution_count": 0,
   "metadata": {
    "colab": {
     "base_uri": "https://localhost:8080/",
     "height": 773
    },
    "colab_type": "code",
    "id": "h5SqHv29ALGe",
    "outputId": "9958778a-4cc4-440d-ce7d-e8250e542dc5"
   },
   "outputs": [
    {
     "name": "stdout",
     "output_type": "stream",
     "text": [
      "tar: tf.Tensor(\n",
      "[[4201   10  241   80   27    3 4202    0    0    0]\n",
      " [4201  162  467  421  189   14    7  553    3 4202]], shape=(2, 10), dtype=int64)\n",
      "--------------------\n",
      "tar_padding_mask: tf.Tensor(\n",
      "[[[[0. 0. 0. 0. 0. 0. 0. 1. 1. 1.]]]\n",
      "\n",
      "\n",
      " [[[0. 0. 0. 0. 0. 0. 0. 0. 0. 0.]]]], shape=(2, 1, 1, 10), dtype=float32)\n",
      "--------------------\n",
      "look_ahead_mask: tf.Tensor(\n",
      "[[0. 1. 1. 1. 1. 1. 1. 1. 1. 1.]\n",
      " [0. 0. 1. 1. 1. 1. 1. 1. 1. 1.]\n",
      " [0. 0. 0. 1. 1. 1. 1. 1. 1. 1.]\n",
      " [0. 0. 0. 0. 1. 1. 1. 1. 1. 1.]\n",
      " [0. 0. 0. 0. 0. 1. 1. 1. 1. 1.]\n",
      " [0. 0. 0. 0. 0. 0. 1. 1. 1. 1.]\n",
      " [0. 0. 0. 0. 0. 0. 0. 1. 1. 1.]\n",
      " [0. 0. 0. 0. 0. 0. 0. 0. 1. 1.]\n",
      " [0. 0. 0. 0. 0. 0. 0. 0. 0. 1.]\n",
      " [0. 0. 0. 0. 0. 0. 0. 0. 0. 0.]], shape=(10, 10), dtype=float32)\n",
      "--------------------\n",
      "combined_mask: tf.Tensor(\n",
      "[[[[0. 1. 1. 1. 1. 1. 1. 1. 1. 1.]\n",
      "   [0. 0. 1. 1. 1. 1. 1. 1. 1. 1.]\n",
      "   [0. 0. 0. 1. 1. 1. 1. 1. 1. 1.]\n",
      "   [0. 0. 0. 0. 1. 1. 1. 1. 1. 1.]\n",
      "   [0. 0. 0. 0. 0. 1. 1. 1. 1. 1.]\n",
      "   [0. 0. 0. 0. 0. 0. 1. 1. 1. 1.]\n",
      "   [0. 0. 0. 0. 0. 0. 0. 1. 1. 1.]\n",
      "   [0. 0. 0. 0. 0. 0. 0. 1. 1. 1.]\n",
      "   [0. 0. 0. 0. 0. 0. 0. 1. 1. 1.]\n",
      "   [0. 0. 0. 0. 0. 0. 0. 1. 1. 1.]]]\n",
      "\n",
      "\n",
      " [[[0. 1. 1. 1. 1. 1. 1. 1. 1. 1.]\n",
      "   [0. 0. 1. 1. 1. 1. 1. 1. 1. 1.]\n",
      "   [0. 0. 0. 1. 1. 1. 1. 1. 1. 1.]\n",
      "   [0. 0. 0. 0. 1. 1. 1. 1. 1. 1.]\n",
      "   [0. 0. 0. 0. 0. 1. 1. 1. 1. 1.]\n",
      "   [0. 0. 0. 0. 0. 0. 1. 1. 1. 1.]\n",
      "   [0. 0. 0. 0. 0. 0. 0. 1. 1. 1.]\n",
      "   [0. 0. 0. 0. 0. 0. 0. 0. 1. 1.]\n",
      "   [0. 0. 0. 0. 0. 0. 0. 0. 0. 1.]\n",
      "   [0. 0. 0. 0. 0. 0. 0. 0. 0. 0.]]]], shape=(2, 1, 10, 10), dtype=float32)\n"
     ]
    }
   ],
   "source": [
    "tar_padding_mask = create_padding_mask(tar)\n",
    "look_ahead_mask = create_look_ahead_mask(tar.shape[-1])\n",
    "\n",
    "# conbined_mask 只需对两个mask取大即可\n",
    "combined_mask = tf.maximum(tar_padding_mask, look_ahead_mask)\n",
    "\n",
    "print(\"tar:\", tar)\n",
    "print(\"-\" * 20)\n",
    "print(\"tar_padding_mask:\", tar_padding_mask)\n",
    "print(\"-\" * 20)\n",
    "print(\"look_ahead_mask:\", look_ahead_mask)\n",
    "print(\"-\" * 20)\n",
    "print(\"combined_mask:\", combined_mask)"
   ]
  },
  {
   "cell_type": "code",
   "execution_count": 0,
   "metadata": {
    "colab": {},
    "colab_type": "code",
    "id": "slryGXmQAMiW"
   },
   "outputs": [],
   "source": [
    "(batch_size, num_heads, seq_len_tar, seq_len_tar) = (2, 1, 10, 10)"
   ]
  },
  {
   "cell_type": "code",
   "execution_count": 0,
   "metadata": {
    "colab": {
     "base_uri": "https://localhost:8080/",
     "height": 1000
    },
    "colab_type": "code",
    "id": "uOGalx12AOhD",
    "outputId": "681531f2-867b-454f-b68a-97cfd2836b69"
   },
   "outputs": [
    {
     "name": "stdout",
     "output_type": "stream",
     "text": [
      "emb_tar: tf.Tensor(\n",
      "[[[ 0.00100154  0.02250249 -0.0408453  -0.03395625]\n",
      "  [ 0.03035182  0.02689043 -0.04268903  0.03850842]\n",
      "  [-0.03303015  0.03113339 -0.01500882  0.04115296]\n",
      "  [-0.0260061  -0.00518541 -0.00464231  0.04862784]\n",
      "  [ 0.01301358 -0.04549932  0.00708313 -0.01378647]\n",
      "  [ 0.02436458 -0.04894441 -0.02432488 -0.02768328]\n",
      "  [ 0.02250788  0.01626289 -0.0321715   0.02510258]\n",
      "  [-0.04279016 -0.01537494  0.02144868 -0.04766507]\n",
      "  [-0.04279016 -0.01537494  0.02144868 -0.04766507]\n",
      "  [-0.04279016 -0.01537494  0.02144868 -0.04766507]]\n",
      "\n",
      " [[ 0.00100154  0.02250249 -0.0408453  -0.03395625]\n",
      "  [-0.03975113  0.03147823  0.04613913  0.03317541]\n",
      "  [-0.01448536 -0.02721623  0.0466414   0.00501192]\n",
      "  [-0.03876447  0.02261052 -0.03871229  0.00696427]\n",
      "  [ 0.01843901  0.03112211  0.04172729 -0.02785325]\n",
      "  [ 0.0095794  -0.02647529 -0.02226598  0.00110232]\n",
      "  [ 0.03891832 -0.0174     -0.03329356 -0.00945352]\n",
      "  [ 0.00608505 -0.0193133  -0.02278407 -0.01182847]\n",
      "  [ 0.02436458 -0.04894441 -0.02432488 -0.02768328]\n",
      "  [ 0.02250788  0.01626289 -0.0321715   0.02510258]]], shape=(2, 10, 4), dtype=float32)\n",
      "--------------------\n",
      "enc_out: tf.Tensor(\n",
      "[[[ 0.31981817  0.7314384   0.6597264  -1.710983  ]\n",
      "  [-0.978602    1.6730607  -0.37934095 -0.31511766]\n",
      "  [-1.611018    1.1359375   0.26411194  0.21096851]\n",
      "  [ 0.6738584   1.0392923  -1.5630951  -0.15005551]\n",
      "  [-1.3175952   0.6693078   1.220197   -0.57190937]\n",
      "  [ 1.6703488  -0.85008824 -0.13548115 -0.6847793 ]\n",
      "  [-1.300781    0.44117928  1.3635738  -0.50397193]\n",
      "  [-1.300781    0.44117928  1.3635738  -0.50397193]]\n",
      "\n",
      " [[ 0.7233218   0.28694543  0.6957283  -1.7059956 ]\n",
      "  [-0.17256302 -1.5107186   1.209893    0.4733886 ]\n",
      "  [ 1.39725     0.4348098  -0.61569333 -1.2163666 ]\n",
      "  [ 0.99811184  0.7483334  -0.1954597  -1.5509856 ]\n",
      "  [ 1.3902119  -0.5162902   0.4053207  -1.2792425 ]\n",
      "  [-1.1754183   1.4703383  -0.60188574  0.30696547]\n",
      "  [-0.8589266  -0.3020169   1.6978626  -0.5369191 ]\n",
      "  [ 1.6241145  -1.1046869  -0.20051146 -0.31891614]]], shape=(2, 8, 4), dtype=float32)\n",
      "--------------------\n",
      "dec_out: tf.Tensor(\n",
      "[[[ 0.02341178  1.6135602  -0.9858686  -0.6511035 ]\n",
      "  [ 0.04704864  0.8790324  -1.6454688   0.7193878 ]\n",
      "  [-1.3222897   1.4522684  -0.32384744  0.19386873]\n",
      "  [-1.1640146   0.46722838 -0.696597    1.3933833 ]\n",
      "  [ 1.4143863  -1.3120859  -0.42041147  0.31811106]\n",
      "  [ 1.4470491  -0.86241573 -0.99637204  0.41173866]\n",
      "  [ 0.17406343  0.6689604  -1.6798536   0.83682966]\n",
      "  [-0.6484833   0.23673046  1.5171077  -1.1053549 ]\n",
      "  [-0.6484833   0.23673046  1.5171077  -1.1053549 ]\n",
      "  [-0.6484833   0.23673046  1.5171077  -1.1053549 ]]\n",
      "\n",
      " [[ 0.03011975  1.5943131  -0.54966843 -1.0747646 ]\n",
      "  [-1.4742454   0.49486378  1.2320225  -0.25264084]\n",
      "  [-0.24709773 -1.5225985   0.7194363   1.0502598 ]\n",
      "  [-0.8393947   1.5146611  -0.95941377  0.28414735]\n",
      "  [ 0.39052403  0.93846536  0.3562072  -1.6851966 ]\n",
      "  [ 0.6844108  -0.6492355  -1.2644746   1.2292993 ]\n",
      "  [ 1.0717223  -0.09173952 -1.5769159   0.59693325]\n",
      "  [ 1.0868415  -0.42951727 -1.4282646   0.77094036]\n",
      "  [ 1.3011816  -1.1140234  -0.8175826   0.6304245 ]\n",
      "  [ 0.02398072  0.6143117  -1.6264977   0.9882053 ]]], shape=(2, 10, 4), dtype=float32)\n",
      "--------------------\n",
      "dec_self_attn_weights.shape: (2, 2, 10, 10)\n",
      "dec_enc_attn_weights: (2, 2, 10, 8)\n"
     ]
    }
   ],
   "source": [
    "d_model = 4\n",
    "num_heads = 2\n",
    "dff = 8\n",
    "dec_layer = DecoderLayer(d_model, num_heads, dff)\n",
    "\n",
    "# 源、目标语言的序列都需要 padding mask\n",
    "inp_padding_mask = create_padding_mask(inp)\n",
    "tar_padding_mask = create_padding_mask(tar)\n",
    "\n",
    "# masked MHA 用的mask，把 padding 跟未來子词都mask掉\n",
    "look_ahead_mask = create_look_ahead_mask(tar.shape[-1])\n",
    "combined_mask = tf.maximum(tar_padding_mask, look_ahead_mask)\n",
    "\n",
    "# 实际初始一个 decoder layer 并做 3 个 sub-layers 的计算\n",
    "dec_out, dec_self_attn_weights, dec_enc_attn_weights = dec_layer(\n",
    "    emb_tar, enc_out, False, combined_mask, inp_padding_mask)\n",
    "\n",
    "print(\"emb_tar:\", emb_tar)\n",
    "print(\"-\" * 20)\n",
    "print(\"enc_out:\", enc_out)\n",
    "print(\"-\" * 20)\n",
    "print(\"dec_out:\", dec_out)\n",
    "assert emb_tar.shape == dec_out.shape\n",
    "print(\"-\" * 20)\n",
    "print(\"dec_self_attn_weights.shape:\", dec_self_attn_weights.shape)\n",
    "print(\"dec_enc_attn_weights:\", dec_enc_attn_weights.shape)"
   ]
  },
  {
   "cell_type": "markdown",
   "metadata": {},
   "source": [
    "#### Positional encoding\n",
    "\n",
    "Transformer 虽然可以做到并行化计算，但同时丢失了位置信息，因此我们需要另外加入位置编码来提供相应的位置信息。实际操作中是将其直接加入到输入的英文/中文词嵌入向量中，这样使得词嵌入向量在d_model维度的空间中，不仅因为语义相近而靠近，同时也会因为位置相近而靠近。\n",
    "\n",
    "positional encoding的计算公式为：\n",
    "$$PE(pos,2i) = \\sin (pos/10000^{2i/d_{model}}) \\\\ PE(pos,2i+1) = \\cos (pos/10000^{2i/d_{model}})$$\n",
    "\n",
    "这样编码的好处在于：给定某一个位置的编码PE(pos)后，距离它k个单位的位置的编码PE(pos + k)可以表示为PE(pos)的线性函数。"
   ]
  },
  {
   "cell_type": "code",
   "execution_count": 0,
   "metadata": {
    "colab": {
     "base_uri": "https://localhost:8080/",
     "height": 252
    },
    "colab_type": "code",
    "id": "BVw1Tz5IAWkw",
    "outputId": "5e12930c-531a-4b8d-e5ac-03b175969b97"
   },
   "outputs": [
    {
     "data": {
      "text/plain": [
       "<tf.Tensor: id=2246679, shape=(1, 50, 512), dtype=float32, numpy=\n",
       "array([[[ 0.        ,  0.        ,  0.        , ...,  1.        ,\n",
       "          1.        ,  1.        ],\n",
       "        [ 0.84147096,  0.8218562 ,  0.8019618 , ...,  1.        ,\n",
       "          1.        ,  1.        ],\n",
       "        [ 0.9092974 ,  0.9364147 ,  0.95814437, ...,  1.        ,\n",
       "          1.        ,  1.        ],\n",
       "        ...,\n",
       "        [ 0.12357312,  0.97718984, -0.24295525, ...,  0.9999863 ,\n",
       "          0.99998724,  0.99998814],\n",
       "        [-0.76825464,  0.7312359 ,  0.63279754, ...,  0.9999857 ,\n",
       "          0.9999867 ,  0.9999876 ],\n",
       "        [-0.95375264, -0.14402692,  0.99899054, ...,  0.9999851 ,\n",
       "          0.9999861 ,  0.9999871 ]]], dtype=float32)>"
      ]
     },
     "execution_count": 57,
     "metadata": {
      "tags": []
     },
     "output_type": "execute_result"
    }
   ],
   "source": [
    "# 以下直接参考 TensorFlow 官方 tutorial \n",
    "def get_angles(pos, i, d_model):\n",
    "  angle_rates = 1 / np.power(10000, (2 * (i//2)) / np.float32(d_model))\n",
    "  return pos * angle_rates\n",
    "\n",
    "def positional_encoding(position, d_model):\n",
    "  angle_rads = get_angles(np.arange(position)[:, np.newaxis],\n",
    "                          np.arange(d_model)[np.newaxis, :],\n",
    "                          d_model)\n",
    "  \n",
    "  # apply sin to even indices in the array; 2i\n",
    "  sines = np.sin(angle_rads[:, 0::2])\n",
    "  \n",
    "  # apply cos to odd indices in the array; 2i+1\n",
    "  cosines = np.cos(angle_rads[:, 1::2])\n",
    "  \n",
    "  pos_encoding = np.concatenate([sines, cosines], axis=-1)\n",
    "  \n",
    "  pos_encoding = pos_encoding[np.newaxis, ...]\n",
    "    \n",
    "  return tf.cast(pos_encoding, dtype=tf.float32)\n",
    "\n",
    "\n",
    "seq_len = 50\n",
    "d_model = 512\n",
    "\n",
    "pos_encoding = positional_encoding(seq_len, d_model)\n",
    "pos_encoding"
   ]
  },
  {
   "cell_type": "code",
   "execution_count": 0,
   "metadata": {
    "colab": {
     "base_uri": "https://localhost:8080/",
     "height": 284
    },
    "colab_type": "code",
    "id": "Q30vy-kXAZGy",
    "outputId": "f5157df6-50b2-4470-cda6-811eb6ae4e41"
   },
   "outputs": [
    {
     "data": {
      "image/png": "[encoded data removed]",
      "text/plain": [
       "<Figure size 432x288 with 2 Axes>"
      ]
     },
     "metadata": {
      "tags": []
     },
     "output_type": "display_data"
    }
   ],
   "source": [
    "plt.pcolormesh(pos_encoding[0], cmap='RdBu')\n",
    "plt.xlabel('d_model')\n",
    "plt.xlim((0, 512))\n",
    "plt.ylabel('Position')\n",
    "plt.colorbar()\n",
    "plt.show()"
   ]
  },
  {
   "cell_type": "code",
   "execution_count": 0,
   "metadata": {
    "colab": {},
    "colab_type": "code",
    "id": "_MBC47oPAa5N"
   },
   "outputs": [],
   "source": [
    "class Encoder(tf.keras.layers.Layer):\n",
    "  \n",
    "  # - num_layers: Encoder layer的数目\n",
    "  # - input_vocab_size: 词典大小\n",
    "  def __init__(self, num_layers, d_model, num_heads, dff, input_vocab_size, \n",
    "               rate=0.1):\n",
    "    super(Encoder, self).__init__()\n",
    "\n",
    "    self.d_model = d_model\n",
    "    \n",
    "    self.embedding = tf.keras.layers.Embedding(input_vocab_size, d_model)\n",
    "    self.pos_encoding = positional_encoding(input_vocab_size, self.d_model)\n",
    "    \n",
    "    # 建立 `num_layers` 个 Encoder Layers\n",
    "    self.enc_layers = [EncoderLayer(d_model, num_heads, dff, rate) \n",
    "                       for _ in range(num_layers)]\n",
    "\n",
    "    self.dropout = tf.keras.layers.Dropout(rate)\n",
    "        \n",
    "  def call(self, x, training, mask):\n",
    "    #  x.shape == (batch_size, input_seq_len)\n",
    "    # 以下各 layer 的输出都是 (batch_size, input_seq_len, d_model)\n",
    "    input_seq_len = tf.shape(x)[1]\n",
    "    \n",
    "    # 将 2 维的索引序列转成 3 维的词嵌入张量，并根据论文乘上 sqrt(d_model)\n",
    "    # 再加上对应的位置编码\n",
    "    x = self.embedding(x)\n",
    "    x *= tf.math.sqrt(tf.cast(self.d_model, tf.float32))\n",
    "    x += self.pos_encoding[:, :input_seq_len, :]\n",
    "\n",
    "    # 对 embedding 跟位置编码的综合 regularization\n",
    "    x = self.dropout(x, training=training)\n",
    "    \n",
    "    # 通过 N 个 EncoderLayer 编码\n",
    "    for i, enc_layer in enumerate(self.enc_layers):\n",
    "      x = enc_layer(x, training, mask)\n",
    "      # 以下只是用來 demo EncoderLayer outputs\n",
    "      #print('-' * 20)\n",
    "      #print(f\"EncoderLayer {i + 1}'s output:\", x)\n",
    "      \n",
    "    \n",
    "    return x "
   ]
  },
  {
   "cell_type": "code",
   "execution_count": 0,
   "metadata": {
    "colab": {
     "base_uri": "https://localhost:8080/",
     "height": 386
    },
    "colab_type": "code",
    "id": "1yqBKeYwAdDG",
    "outputId": "f6b2738a-3b8c-4562-e8f6-7de61a1a8e6d"
   },
   "outputs": [
    {
     "name": "stdout",
     "output_type": "stream",
     "text": [
      "inp: tf.Tensor(\n",
      "[[8135  105   10 1304 7925 8136    0    0]\n",
      " [8135   17 3905 6013   12 2572 7925 8136]], shape=(2, 8), dtype=int64)\n",
      "--------------------\n",
      "enc_out: tf.Tensor(\n",
      "[[[-0.80654097 -0.5846039  -0.31439844  1.7055433 ]\n",
      "  [-0.46891153 -0.57408124 -0.6840381   1.727031  ]\n",
      "  [-0.319709   -0.17782518 -1.1191479   1.616682  ]\n",
      "  [-0.49274105  0.26990706 -1.2412689   1.4641027 ]\n",
      "  [-0.88477194  0.16279429 -0.8493918   1.5713693 ]\n",
      "  [-0.96625364 -0.25279218 -0.4533522   1.6723981 ]\n",
      "  [-0.8476429  -0.5615218  -0.28872433  1.6978891 ]\n",
      "  [-0.61957765 -0.5919263  -0.51938564  1.7308894 ]]\n",
      "\n",
      " [[-0.8083886  -0.56457365 -0.33460823  1.7075704 ]\n",
      "  [-0.50152016 -0.5214133  -0.7037289   1.7266623 ]\n",
      "  [-0.34244898 -0.11313835 -1.1444559   1.6000432 ]\n",
      "  [-0.5072439   0.21401608 -1.2050328   1.4982607 ]\n",
      "  [-0.88611245  0.26368466 -0.9036027   1.5260304 ]\n",
      "  [-0.96629447 -0.21083635 -0.49055386  1.6676848 ]\n",
      "  [-0.86832803 -0.5383212  -0.28836083  1.6950101 ]\n",
      "  [-0.6246328  -0.57586765 -0.5305909   1.7310913 ]]], shape=(2, 8, 4), dtype=float32)\n"
     ]
    }
   ],
   "source": [
    "num_layers = 2 \n",
    "d_model = 4\n",
    "num_heads = 2\n",
    "dff = 8\n",
    "input_vocab_size = subword_encoder_en.vocab_size + 2 \n",
    "\n",
    "# 初始化一个 Encoder\n",
    "encoder = Encoder(num_layers, d_model, num_heads, dff, input_vocab_size)\n",
    "\n",
    "# 将 2 维的索引序列丟入 Encoder 编码\n",
    "enc_out = encoder(inp, training=False, mask=None)\n",
    "print(\"inp:\", inp) # inp shape == (batch_size,seq_len)\n",
    "print(\"-\" * 20)    # output shape == (batch_size,seq_len,d_model)\n",
    "print(\"enc_out:\", enc_out)"
   ]
  },
  {
   "cell_type": "code",
   "execution_count": 0,
   "metadata": {
    "colab": {},
    "colab_type": "code",
    "id": "G5tAGc4LAetP"
   },
   "outputs": [],
   "source": [
    "class Decoder(tf.keras.layers.Layer):\n",
    "  \n",
    "  def __init__(self, num_layers, d_model, num_heads, dff, target_vocab_size, rate=0.1):\n",
    "    super(Decoder, self).__init__()\n",
    "\n",
    "    self.d_model = d_model\n",
    "    \n",
    "    self.embedding = tf.keras.layers.Embedding(target_vocab_size, d_model)\n",
    "    self.pos_encoding = positional_encoding(target_vocab_size, self.d_model)\n",
    "    \n",
    "    self.dec_layers = [DecoderLayer(d_model, num_heads, dff, rate) \n",
    "                       for _ in range(num_layers)]\n",
    "    self.dropout = tf.keras.layers.Dropout(rate)\n",
    "  \n",
    "  def call(self, x, enc_output, training, combined_mask, inp_padding_mask):\n",
    "    \n",
    "    tar_seq_len = tf.shape(x)[1]\n",
    "    attention_weights = {}  # 用來存放每个 Decoder layer 的注意权重\n",
    "    \n",
    "    x = self.embedding(x)  # (batch_size, tar_seq_len, d_model)\n",
    "    x *= tf.math.sqrt(tf.cast(self.d_model, tf.float32))\n",
    "    x += self.pos_encoding[:, :tar_seq_len, :]\n",
    "    x = self.dropout(x, training=training)\n",
    "\n",
    "    \n",
    "    for i, dec_layer in enumerate(self.dec_layers):\n",
    "      x, block1, block2 = dec_layer(x, enc_output, training,combined_mask, inp_padding_mask)\n",
    "      \n",
    "      # 将从每个 Decoder layer 取得的注意权重全部存下來回传，方便观察\n",
    "      attention_weights['decoder_layer{}_block1'.format(i + 1)] = block1\n",
    "      attention_weights['decoder_layer{}_block2'.format(i + 1)] = block2\n",
    "    \n",
    "    # x.shape == (batch_size, tar_seq_len, d_model)\n",
    "    return x, attention_weights"
   ]
  },
  {
   "cell_type": "code",
   "execution_count": 0,
   "metadata": {
    "colab": {
     "base_uri": "https://localhost:8080/",
     "height": 1000
    },
    "colab_type": "code",
    "id": "Tlar75R1Ag9r",
    "outputId": "7d73d612-d256-4896-90b4-2efc732173fd"
   },
   "outputs": [
    {
     "name": "stdout",
     "output_type": "stream",
     "text": [
      "tar: tf.Tensor(\n",
      "[[4201   10  241   80   27    3 4202    0    0    0]\n",
      " [4201  162  467  421  189   14    7  553    3 4202]], shape=(2, 10), dtype=int64)\n",
      "--------------------\n",
      "combined_mask: tf.Tensor(\n",
      "[[[[0. 1. 1. 1. 1. 1. 1. 1. 1. 1.]\n",
      "   [0. 0. 1. 1. 1. 1. 1. 1. 1. 1.]\n",
      "   [0. 0. 0. 1. 1. 1. 1. 1. 1. 1.]\n",
      "   [0. 0. 0. 0. 1. 1. 1. 1. 1. 1.]\n",
      "   [0. 0. 0. 0. 0. 1. 1. 1. 1. 1.]\n",
      "   [0. 0. 0. 0. 0. 0. 1. 1. 1. 1.]\n",
      "   [0. 0. 0. 0. 0. 0. 0. 1. 1. 1.]\n",
      "   [0. 0. 0. 0. 0. 0. 0. 1. 1. 1.]\n",
      "   [0. 0. 0. 0. 0. 0. 0. 1. 1. 1.]\n",
      "   [0. 0. 0. 0. 0. 0. 0. 1. 1. 1.]]]\n",
      "\n",
      "\n",
      " [[[0. 1. 1. 1. 1. 1. 1. 1. 1. 1.]\n",
      "   [0. 0. 1. 1. 1. 1. 1. 1. 1. 1.]\n",
      "   [0. 0. 0. 1. 1. 1. 1. 1. 1. 1.]\n",
      "   [0. 0. 0. 0. 1. 1. 1. 1. 1. 1.]\n",
      "   [0. 0. 0. 0. 0. 1. 1. 1. 1. 1.]\n",
      "   [0. 0. 0. 0. 0. 0. 1. 1. 1. 1.]\n",
      "   [0. 0. 0. 0. 0. 0. 0. 1. 1. 1.]\n",
      "   [0. 0. 0. 0. 0. 0. 0. 0. 1. 1.]\n",
      "   [0. 0. 0. 0. 0. 0. 0. 0. 0. 1.]\n",
      "   [0. 0. 0. 0. 0. 0. 0. 0. 0. 0.]]]], shape=(2, 1, 10, 10), dtype=float32)\n",
      "--------------------\n",
      "enc_out: tf.Tensor(\n",
      "[[[-0.80654097 -0.5846039  -0.31439844  1.7055433 ]\n",
      "  [-0.46891153 -0.57408124 -0.6840381   1.727031  ]\n",
      "  [-0.319709   -0.17782518 -1.1191479   1.616682  ]\n",
      "  [-0.49274105  0.26990706 -1.2412689   1.4641027 ]\n",
      "  [-0.88477194  0.16279429 -0.8493918   1.5713693 ]\n",
      "  [-0.96625364 -0.25279218 -0.4533522   1.6723981 ]\n",
      "  [-0.8476429  -0.5615218  -0.28872433  1.6978891 ]\n",
      "  [-0.61957765 -0.5919263  -0.51938564  1.7308894 ]]\n",
      "\n",
      " [[-0.8083886  -0.56457365 -0.33460823  1.7075704 ]\n",
      "  [-0.50152016 -0.5214133  -0.7037289   1.7266623 ]\n",
      "  [-0.34244898 -0.11313835 -1.1444559   1.6000432 ]\n",
      "  [-0.5072439   0.21401608 -1.2050328   1.4982607 ]\n",
      "  [-0.88611245  0.26368466 -0.9036027   1.5260304 ]\n",
      "  [-0.96629447 -0.21083635 -0.49055386  1.6676848 ]\n",
      "  [-0.86832803 -0.5383212  -0.28836083  1.6950101 ]\n",
      "  [-0.6246328  -0.57586765 -0.5305909   1.7310913 ]]], shape=(2, 8, 4), dtype=float32)\n",
      "--------------------\n",
      "inp_padding_mask: tf.Tensor(\n",
      "[[[[0. 0. 0. 0. 0. 0. 1. 1.]]]\n",
      "\n",
      "\n",
      " [[[0. 0. 0. 0. 0. 0. 0. 0.]]]], shape=(2, 1, 1, 8), dtype=float32)\n",
      "--------------------\n",
      "dec_out: tf.Tensor(\n",
      "[[[-0.5437632  -1.055963    1.6090912  -0.0093651 ]\n",
      "  [-0.35729456 -1.2363737   1.5295789   0.06408926]\n",
      "  [ 0.35950443 -1.4217519   1.3327445  -0.27049693]\n",
      "  [ 0.00910451 -1.3681054   1.4556323  -0.09663116]\n",
      "  [-0.39842203 -1.0891637   1.6237149  -0.13612938]\n",
      "  [-0.41910946 -1.0254465   1.6521797  -0.20762381]\n",
      "  [-0.36797434 -1.036104    1.6521349  -0.2480565 ]\n",
      "  [-0.19375193 -1.1218892   1.6165614  -0.30092025]\n",
      "  [ 0.40127647 -1.3597702   1.3540744  -0.39558053]\n",
      "  [ 0.17590097 -1.419068    1.3905344  -0.14736754]]\n",
      "\n",
      " [[-0.54991776 -1.0509207   1.6102997  -0.00946123]\n",
      "  [-0.3790077  -1.2450974   1.514628    0.10947719]\n",
      "  [ 0.1746773  -1.3877552   1.415193   -0.20211506]\n",
      "  [-0.03870562 -1.3375971   1.4825788  -0.10627584]\n",
      "  [-0.43508232 -1.067575    1.6293938  -0.12673649]\n",
      "  [-0.41048303 -1.0317237   1.6503688  -0.20816201]\n",
      "  [-0.3626595  -1.0360833   1.652463   -0.25372016]\n",
      "  [-0.24817836 -1.1092765   1.6238651  -0.26641032]\n",
      "  [ 0.1850568  -1.3670969   1.4271388  -0.2450987 ]\n",
      "  [ 0.09142628 -1.3988855   1.4218552  -0.11439597]]], shape=(2, 10, 4), dtype=float32)\n",
      "--------------------\n",
      "decoder_layer1_block1.shape: (2, 2, 10, 10)\n",
      "decoder_layer1_block2.shape: (2, 2, 10, 8)\n",
      "decoder_layer2_block1.shape: (2, 2, 10, 10)\n",
      "decoder_layer2_block2.shape: (2, 2, 10, 8)\n"
     ]
    }
   ],
   "source": [
    "num_layers = 2 \n",
    "d_model = 4\n",
    "num_heads = 2\n",
    "dff = 8\n",
    "target_vocab_size = subword_encoder_zh.vocab_size + 2 \n",
    "\n",
    "inp_padding_mask = create_padding_mask(inp)\n",
    "tar_padding_mask = create_padding_mask(tar)\n",
    "look_ahead_mask = create_look_ahead_mask(tar.shape[1])\n",
    "combined_mask = tf.math.maximum(tar_padding_mask, look_ahead_mask)\n",
    "\n",
    "# 初始化 Decoder\n",
    "decoder = Decoder(num_layers, d_model, num_heads, dff, target_vocab_size)\n",
    "\n",
    "# 將 2 维的索引序列以及mask丟入 Decoder\n",
    "print(\"tar:\", tar)\n",
    "print(\"-\" * 20)\n",
    "print(\"combined_mask:\", combined_mask)\n",
    "print(\"-\" * 20)\n",
    "print(\"enc_out:\", enc_out)\n",
    "print(\"-\" * 20)\n",
    "print(\"inp_padding_mask:\", inp_padding_mask)\n",
    "print(\"-\" * 20)\n",
    "dec_out, attn = decoder(tar, enc_out, training=False, \n",
    "                        combined_mask=combined_mask,\n",
    "                        inp_padding_mask=inp_padding_mask)\n",
    "print(\"dec_out:\", dec_out)\n",
    "print(\"-\" * 20)\n",
    "for block_name, attn_weights in attn.items():\n",
    "  print(f\"{block_name}.shape: {attn_weights.shape}\")"
   ]
  },
  {
   "cell_type": "code",
   "execution_count": 0,
   "metadata": {
    "colab": {},
    "colab_type": "code",
    "id": "PLtC1oZ1Aido"
   },
   "outputs": [],
   "source": [
    "# Transformer 之上已经沒有其他 layers 了，我们使用 tf.keras.Model 建立一个模型\n",
    "class Transformer(tf.keras.Model):\n",
    "\n",
    "  def __init__(self, num_layers, d_model, num_heads, dff, input_vocab_size, \n",
    "               target_vocab_size, rate=0.1):\n",
    "    super(Transformer, self).__init__()\n",
    "\n",
    "    self.encoder = Encoder(num_layers, d_model, num_heads, dff, \n",
    "                           input_vocab_size, rate)\n",
    "\n",
    "    self.decoder = Decoder(num_layers, d_model, num_heads, dff, \n",
    "                           target_vocab_size, rate)\n",
    "    # 這個 FFN 输出跟中文字典一样大的 logits 数，等通过 softmax 就代表每个中文字的出现概率\n",
    "    self.final_layer = tf.keras.layers.Dense(target_vocab_size)\n",
    "  \n",
    "  # enc_padding_mask 跟 dec_padding_mask 都是英文序列的 padding mask，\n",
    "  # 只是一个给 Encoder layer 的 MHA 用，一个是给 Decoder layer 的 MHA 2 使用\n",
    "  def call(self, inp, tar, training, enc_padding_mask, \n",
    "           combined_mask, dec_padding_mask):\n",
    "\n",
    "    enc_output = self.encoder(inp, training, enc_padding_mask)  # (batch_size, inp_seq_len, d_model)\n",
    "    \n",
    "    # dec_output.shape == (batch_size, tar_seq_len, d_model)\n",
    "    dec_output, attention_weights = self.decoder(\n",
    "        tar, enc_output, training, combined_mask, dec_padding_mask)\n",
    "    \n",
    "    # 将 Decoder 输出通过最后一个 linear layer\n",
    "    final_output = self.final_layer(dec_output)  # (batch_size, tar_seq_len, target_vocab_size)\n",
    "    \n",
    "    return final_output, attention_weights"
   ]
  },
  {
   "cell_type": "code",
   "execution_count": 0,
   "metadata": {
    "colab": {
     "base_uri": "https://localhost:8080/",
     "height": 689
    },
    "colab_type": "code",
    "id": "A4AeYm_KAkvx",
    "outputId": "7a072719-dfb7-47fa-b8db-c6904a418315"
   },
   "outputs": [
    {
     "name": "stdout",
     "output_type": "stream",
     "text": [
      "tar: tf.Tensor(\n",
      "[[4201   10  241   80   27    3 4202    0    0    0]\n",
      " [4201  162  467  421  189   14    7  553    3 4202]], shape=(2, 10), dtype=int64)\n",
      "--------------------\n",
      "tar_inp: tf.Tensor(\n",
      "[[4201   10  241   80   27    3 4202    0    0]\n",
      " [4201  162  467  421  189   14    7  553    3]], shape=(2, 9), dtype=int64)\n",
      "--------------------\n",
      "tar_real: tf.Tensor(\n",
      "[[  10  241   80   27    3 4202    0    0    0]\n",
      " [ 162  467  421  189   14    7  553    3 4202]], shape=(2, 9), dtype=int64)\n",
      "--------------------\n",
      "predictions: tf.Tensor(\n",
      "[[[ 0.00929452 -0.01123782  0.05421777 ... -0.01170466  0.00628542\n",
      "   -0.07576236]\n",
      "  [ 0.03640017 -0.01885041  0.05113849 ... -0.02349908  0.01716622\n",
      "   -0.06729948]\n",
      "  [ 0.05617092 -0.02265774  0.04667147 ... -0.02913139  0.0241506\n",
      "   -0.05331099]\n",
      "  ...\n",
      "  [ 0.00905135 -0.01058669  0.05486142 ... -0.01039154  0.0058039\n",
      "   -0.07445519]\n",
      "  [ 0.02215609 -0.01478041  0.05375389 ... -0.0170105   0.01135763\n",
      "   -0.07241639]\n",
      "  [ 0.0478656  -0.02148081  0.04837158 ... -0.02759764  0.02148173\n",
      "   -0.06043392]]\n",
      "\n",
      " [[ 0.00996658 -0.01115559  0.05453676 ... -0.0114185   0.00637141\n",
      "   -0.07500792]\n",
      "  [ 0.03897631 -0.01930442  0.0508956  ... -0.02409907  0.01803425\n",
      "   -0.0656432 ]\n",
      "  [ 0.05387272 -0.02244362  0.04702405 ... -0.02893805  0.02348556\n",
      "   -0.05554678]\n",
      "  ...\n",
      "  [ 0.01048942 -0.01085559  0.05502523 ... -0.01070841  0.0062833\n",
      "   -0.07385261]\n",
      "  [ 0.02370835 -0.01504852  0.05381611 ... -0.01732858  0.01186723\n",
      "   -0.07158875]\n",
      "  [ 0.04920105 -0.02166032  0.0481827  ... -0.02781233  0.02190085\n",
      "   -0.05933255]]], shape=(2, 9, 4203), dtype=float32)\n"
     ]
    }
   ],
   "source": [
    "num_layers = 1\n",
    "d_model = 4\n",
    "num_heads = 2\n",
    "dff = 8\n",
    "\n",
    "input_vocab_size = subword_encoder_en.vocab_size + 2\n",
    "output_vocab_size = subword_encoder_zh.vocab_size + 2\n",
    "\n",
    "# 因为要逐词预测，因此这里需要将目标序列左移一位作为Decoder的输入\n",
    "tar_inp = tar[:, :-1]\n",
    "tar_real = tar[:, 1:]\n",
    "\n",
    "inp_padding_mask = create_padding_mask(inp)\n",
    "tar_padding_mask = create_padding_mask(tar_inp)\n",
    "look_ahead_mask = create_look_ahead_mask(tar_inp.shape[1])\n",
    "combined_mask = tf.math.maximum(tar_padding_mask, look_ahead_mask)\n",
    "\n",
    "# 初始化 transformer\n",
    "transformer = Transformer(num_layers, d_model, num_heads, dff, \n",
    "                          input_vocab_size, output_vocab_size)\n",
    "\n",
    "# 将英文、中文序列丟入 Transformer 预测下个中文字的结果\n",
    "predictions, attn_weights = transformer(inp, tar_inp, False, inp_padding_mask, \n",
    "                                        combined_mask, inp_padding_mask)\n",
    "\n",
    "print(\"tar:\", tar)\n",
    "print(\"-\" * 20)\n",
    "print(\"tar_inp:\", tar_inp)\n",
    "print(\"-\" * 20)\n",
    "print(\"tar_real:\", tar_real)\n",
    "print(\"-\" * 20)\n",
    "print(\"predictions:\", predictions)"
   ]
  },
  {
   "cell_type": "code",
   "execution_count": 0,
   "metadata": {
    "colab": {
     "base_uri": "https://localhost:8080/",
     "height": 54
    },
    "colab_type": "code",
    "id": "60qqdfqeAm12",
    "outputId": "33640a25-5e2f-4599-c630-8bc59bb04b8c"
   },
   "outputs": [
    {
     "data": {
      "text/plain": [
       "<tf.Tensor: id=2249629, shape=(3,), dtype=float32, numpy=array([0.31326166, 0.31326166, 1.3132616 ], dtype=float32)>"
      ]
     },
     "execution_count": 65,
     "metadata": {
      "tags": []
     },
     "output_type": "execute_result"
    }
   ],
   "source": [
    "# 选择损失项，这里使用的是交叉熵\n",
    "loss_object = tf.keras.losses.SparseCategoricalCrossentropy(\n",
    "    from_logits=True, reduction='none')\n",
    "\n",
    "# 假设我们要解决的是一个 binary classifcation问题， 0 跟 1 个代表一个 label\n",
    "real = tf.constant([1, 1, 0], shape=(1, 3), dtype=tf.float32)\n",
    "pred = tf.constant([[0, 1], [0, 1], [0, 1]], dtype=tf.float32)\n",
    "loss_object(real, pred)"
   ]
  },
  {
   "cell_type": "code",
   "execution_count": 0,
   "metadata": {
    "colab": {
     "base_uri": "https://localhost:8080/",
     "height": 588
    },
    "colab_type": "code",
    "id": "e8bTjw0aApKd",
    "outputId": "a70b9af3-ead8-4f91-8c1d-1c4628b62be0"
   },
   "outputs": [
    {
     "name": "stdout",
     "output_type": "stream",
     "text": [
      "predictions: tf.Tensor(\n",
      "[[[ 0.00929452 -0.01123782  0.05421777 ... -0.01170466  0.00628542\n",
      "   -0.07576236]\n",
      "  [ 0.03640017 -0.01885041  0.05113849 ... -0.02349908  0.01716622\n",
      "   -0.06729948]\n",
      "  [ 0.05617092 -0.02265774  0.04667147 ... -0.02913139  0.0241506\n",
      "   -0.05331099]\n",
      "  ...\n",
      "  [ 0.00905135 -0.01058669  0.05486142 ... -0.01039154  0.0058039\n",
      "   -0.07445519]\n",
      "  [ 0.02215609 -0.01478041  0.05375389 ... -0.0170105   0.01135763\n",
      "   -0.07241639]\n",
      "  [ 0.0478656  -0.02148081  0.04837158 ... -0.02759764  0.02148173\n",
      "   -0.06043392]]\n",
      "\n",
      " [[ 0.00996658 -0.01115559  0.05453676 ... -0.0114185   0.00637141\n",
      "   -0.07500792]\n",
      "  [ 0.03897631 -0.01930442  0.0508956  ... -0.02409907  0.01803425\n",
      "   -0.0656432 ]\n",
      "  [ 0.05387272 -0.02244362  0.04702405 ... -0.02893805  0.02348556\n",
      "   -0.05554678]\n",
      "  ...\n",
      "  [ 0.01048942 -0.01085559  0.05502523 ... -0.01070841  0.0062833\n",
      "   -0.07385261]\n",
      "  [ 0.02370835 -0.01504852  0.05381611 ... -0.01732858  0.01186723\n",
      "   -0.07158875]\n",
      "  [ 0.04920105 -0.02166032  0.0481827  ... -0.02781233  0.02190085\n",
      "   -0.05933255]]], shape=(2, 9, 4203), dtype=float32)\n",
      "--------------------\n",
      "tf.Tensor(\n",
      "[[1.4971986 3.1899047 4.1454954 3.7353938 2.869739  1.8605256 1.3746347\n",
      "  2.2779167 3.8190796]\n",
      " [1.4881071 3.303587  4.0757227 3.7524652 2.836317  1.9132937 1.4376438\n",
      "  2.3432927 3.8689976]], shape=(2, 9), dtype=float32)\n"
     ]
    }
   ],
   "source": [
    "print(\"predictions:\", predictions)\n",
    "print(\"-\" * 20)\n",
    "print(tf.reduce_sum(predictions, axis=-1))"
   ]
  },
  {
   "cell_type": "code",
   "execution_count": 0,
   "metadata": {
    "colab": {},
    "colab_type": "code",
    "id": "L7hy3RgSArI6"
   },
   "outputs": [],
   "source": [
    "# 定义损失函数\n",
    "def loss_function(real, pred):\n",
    "  #  mask 将序列中不等于 0 的位置视为 1，其余为 0 \n",
    "  mask = tf.math.logical_not(tf.math.equal(real, 0))\n",
    "  # 计算所有位置的 cross entropy 但不求和\n",
    "  loss_ = loss_object(real, pred)\n",
    "  mask = tf.cast(mask, dtype=loss_.dtype)\n",
    "  loss_ *= mask  # 只计算非 <pad> 位置的损失\n",
    "  \n",
    "  return tf.reduce_mean(loss_)"
   ]
  },
  {
   "cell_type": "code",
   "execution_count": 0,
   "metadata": {
    "colab": {},
    "colab_type": "code",
    "id": "XLWM3fdsAsoe"
   },
   "outputs": [],
   "source": [
    "# 选择评估指标\n",
    "train_loss = tf.keras.metrics.Mean(name='train_loss')\n",
    "train_accuracy = tf.keras.metrics.SparseCategoricalAccuracy(\n",
    "    name='train_accuracy')"
   ]
  },
  {
   "cell_type": "code",
   "execution_count": 0,
   "metadata": {
    "colab": {
     "base_uri": "https://localhost:8080/",
     "height": 50
    },
    "colab_type": "code",
    "id": "klCifiNRAuNE",
    "outputId": "d17b88e3-62dd-411d-d7ae-8a4b2f35ab04"
   },
   "outputs": [
    {
     "name": "stdout",
     "output_type": "stream",
     "text": [
      "input_vocab_size: 8137\n",
      "target_vocab_size: 4203\n"
     ]
    }
   ],
   "source": [
    "num_layers = 4 \n",
    "d_model = 128\n",
    "dff = 512\n",
    "num_heads = 8\n",
    "\n",
    "input_vocab_size = subword_encoder_en.vocab_size + 2\n",
    "target_vocab_size = subword_encoder_zh.vocab_size + 2\n",
    "dropout_rate = 0.1  \n",
    "\n",
    "print(\"input_vocab_size:\", input_vocab_size)\n",
    "print(\"target_vocab_size:\", target_vocab_size)"
   ]
  },
  {
   "cell_type": "code",
   "execution_count": 0,
   "metadata": {
    "colab": {},
    "colab_type": "code",
    "id": "zDc_HWvKAvgU"
   },
   "outputs": [],
   "source": [
    "class CustomSchedule(tf.keras.optimizers.schedules.LearningRateSchedule):\n",
    "  # 预设 `warmup_steps` = 4000\n",
    "  def __init__(self, d_model, warmup_steps=4000):\n",
    "    super(CustomSchedule, self).__init__()\n",
    "    \n",
    "    self.d_model = d_model\n",
    "    self.d_model = tf.cast(self.d_model, tf.float32)\n",
    "\n",
    "    self.warmup_steps = warmup_steps\n",
    "    \n",
    "  def __call__(self, step):\n",
    "    arg1 = tf.math.rsqrt(step)\n",
    "    arg2 = step * (self.warmup_steps ** -1.5)\n",
    "    \n",
    "    return tf.math.rsqrt(self.d_model) * tf.math.minimum(arg1, arg2)\n",
    "  \n",
    "# 将定制的 learning rate schdeule 丟入 Adam opt.\n",
    "learning_rate = CustomSchedule(d_model)\n",
    "optimizer = tf.keras.optimizers.Adam(learning_rate, beta_1=0.9, beta_2=0.98, \n",
    "                                     epsilon=1e-9)"
   ]
  },
  {
   "cell_type": "code",
   "execution_count": 0,
   "metadata": {
    "colab": {
     "base_uri": "https://localhost:8080/",
     "height": 300
    },
    "colab_type": "code",
    "id": "mfavPTVrAxs1",
    "outputId": "d6be1019-1e63-4699-944e-bdc2d2525bdd"
   },
   "outputs": [
    {
     "data": {
      "text/plain": [
       "Text(0.5, 0, 'Train Step')"
      ]
     },
     "execution_count": 71,
     "metadata": {
      "tags": []
     },
     "output_type": "execute_result"
    },
    {
     "data": {
      "image/png": "[encoded data removed]",
      "text/plain": [
       "<Figure size 432x288 with 1 Axes>"
      ]
     },
     "metadata": {
      "tags": []
     },
     "output_type": "display_data"
    }
   ],
   "source": [
    "d_models = [128, 256, 512]\n",
    "warmup_steps = [1000 * i for i in range(1, 4)]\n",
    "\n",
    "schedules = []\n",
    "labels = []\n",
    "colors = [\"blue\", \"red\", \"black\"]\n",
    "for d in d_models:\n",
    "  schedules += [CustomSchedule(d, s) for s in warmup_steps]\n",
    "  labels += [f\"d_model: {d}, warm: {s}\" for s in warmup_steps]\n",
    "\n",
    "for i, (schedule, label) in enumerate(zip(schedules, labels)):\n",
    "  plt.plot(schedule(tf.range(10000, dtype=tf.float32)), \n",
    "           label=label, color=colors[i // 3])\n",
    "\n",
    "plt.legend()\n",
    "\n",
    "plt.ylabel(\"Learning Rate\")\n",
    "plt.xlabel(\"Train Step\")"
   ]
  },
  {
   "cell_type": "code",
   "execution_count": 0,
   "metadata": {
    "colab": {
     "base_uri": "https://localhost:8080/",
     "height": 168
    },
    "colab_type": "code",
    "id": "OHHKWu3EAzEb",
    "outputId": "8d33f9f3-049e-4e1b-b595-9a7a0657d1ba"
   },
   "outputs": [
    {
     "name": "stdout",
     "output_type": "stream",
     "text": [
      "這個 Transformer 有 4 層 Encoder / Decoder layers\n",
      "d_model: 128\n",
      "num_heads: 8\n",
      "dff: 512\n",
      "input_vocab_size: 8137\n",
      "target_vocab_size: 4203\n",
      "dropout_rate: 0.1\n",
      "\n",
      "\n"
     ]
    }
   ],
   "source": [
    "transformer = Transformer(num_layers, d_model, num_heads, dff,\n",
    "                          input_vocab_size, target_vocab_size, dropout_rate)\n",
    "\n",
    "print(f\"\"\"这个 Transformer 有 {num_layers} 层 Encoder / Decoder layers\n",
    "d_model: {d_model}\n",
    "num_heads: {num_heads}\n",
    "dff: {dff}\n",
    "input_vocab_size: {input_vocab_size}\n",
    "target_vocab_size: {target_vocab_size}\n",
    "dropout_rate: {dropout_rate}\n",
    "\n",
    "\"\"\")"
   ]
  },
  {
   "cell_type": "code",
   "execution_count": 0,
   "metadata": {
    "colab": {
     "base_uri": "https://localhost:8080/",
     "height": 34
    },
    "colab_type": "code",
    "id": "Mp9ormNYA0_O",
    "outputId": "ed549246-0483-4d0e-d2d9-43a7e1e3a05a"
   },
   "outputs": [
    {
     "name": "stdout",
     "output_type": "stream",
     "text": [
      "沒找到 checkpoint，從頭訓練。\n"
     ]
    }
   ],
   "source": [
    "# 方便比较不同实验/ 不同超参数设定的結果\n",
    "run_id = f\"{num_layers}layers_{d_model}d_{num_heads}heads_{dff}dff_{train_perc}train_perc\"\n",
    "checkpoint_path = os.path.join(checkpoint_path, run_id)\n",
    "log_dir = os.path.join(log_dir, run_id)\n",
    "\n",
    "# tf.train.Checkpoint 保存一些东西，使得不必每次重新训练\n",
    "# 保存模型以及 optimizer 的状态\n",
    "ckpt = tf.train.Checkpoint(transformer=transformer,\n",
    "                           optimizer=optimizer)\n",
    "\n",
    "# ckpt_manager 会去 checkpoint_path 看有沒有符合 ckpt 里定义东西\n",
    "ckpt_manager = tf.train.CheckpointManager(ckpt, checkpoint_path, max_to_keep=5)\n",
    "\n",
    "# 如果在 checkpoint 路径上有保存的checkpoint就加载进来\n",
    "if ckpt_manager.latest_checkpoint:\n",
    "  ckpt.restore(ckpt_manager.latest_checkpoint)\n",
    "  \n",
    "  # 确认已训练了多少epoch\n",
    "  last_epoch = int(ckpt_manager.latest_checkpoint.split(\"-\")[-1])\n",
    "  print(f'已读取最新的的 checkpoint，模型已训练{last_epoch} epochs。')\n",
    "else:\n",
    "  last_epoch = 0\n",
    "  print(\"沒找到 checkpoint，从头训练。\")"
   ]
  },
  {
   "cell_type": "code",
   "execution_count": 0,
   "metadata": {
    "colab": {},
    "colab_type": "code",
    "id": "VINRUjbXA3F2"
   },
   "outputs": [],
   "source": [
    "# 为 Transformer 的 Encoder / Decoder 准备 mask\n",
    "def create_masks(inp, tar):\n",
    "  # 英文句子的 padding mask，要交給 Encoder layer 自注意力机制用的\n",
    "  enc_padding_mask = create_padding_mask(inp)\n",
    "  \n",
    "  # 同样也是英文句子的 padding mask，但是是要交給 Decoder layer 的 MHA 2 \n",
    "  # 关注 Encoder 输出序列用的\n",
    "  dec_padding_mask = create_padding_mask(inp)\n",
    "  \n",
    "  # Decoder layer 的 MHA1 在做自注意力机制用的\n",
    "  # `combined_mask` 是中文句子的 padding mask 跟 look ahead mask 的疊加\n",
    "  look_ahead_mask = create_look_ahead_mask(tf.shape(tar)[1])\n",
    "  dec_target_padding_mask = create_padding_mask(tar)\n",
    "  combined_mask = tf.maximum(dec_target_padding_mask, look_ahead_mask)\n",
    "  \n",
    "  return enc_padding_mask, combined_mask, dec_padding_mask"
   ]
  },
  {
   "cell_type": "code",
   "execution_count": 0,
   "metadata": {
    "colab": {},
    "colab_type": "code",
    "id": "G3Sx8RgGA6jg"
   },
   "outputs": [],
   "source": [
    "@tf.function  # 让 TensorFlow 帮我们将 eager code 优化并加速运算\n",
    "def train_step(inp, tar):\n",
    "  tar_inp = tar[:, :-1]\n",
    "  tar_real = tar[:, 1:]\n",
    "  \n",
    "  enc_padding_mask, combined_mask, dec_padding_mask = create_masks(inp, tar_inp)\n",
    "  \n",
    "  # 记录 Transformer 的所有运算过程以方便之后做梯度下降\n",
    "  with tf.GradientTape() as tape:\n",
    "    #  `training` = True\n",
    "    predictions, _ = transformer(inp, tar_inp, \n",
    "                                 True, \n",
    "                                 enc_padding_mask, \n",
    "                                 combined_mask, \n",
    "                                 dec_padding_mask)\n",
    "    # 计算左移一个字的序列跟模型预测分部之间的差异，当作 loss\n",
    "    loss = loss_function(tar_real, predictions)\n",
    "\n",
    "  # 计算梯度，更新参数\n",
    "  gradients = tape.gradient(loss, transformer.trainable_variables)    \n",
    "  optimizer.apply_gradients(zip(gradients, transformer.trainable_variables))\n",
    "  \n",
    "  train_loss(loss)\n",
    "  train_accuracy(tar_real, predictions)"
   ]
  },
  {
   "cell_type": "code",
   "execution_count": 0,
   "metadata": {
    "colab": {
     "base_uri": "https://localhost:8080/",
     "height": 1000
    },
    "colab_type": "code",
    "id": "uwIQsTTEA8y1",
    "outputId": "e73d5ef6-5a9f-46ab-acc1-fc4361d6bfe2"
   },
   "outputs": [
    {
     "name": "stdout",
     "output_type": "stream",
     "text": [
      "此超參數組合的 Transformer 已經訓練 0 epochs。\n",
      "剩餘 epochs：-30\n",
      "Saving checkpoint for epoch 1 at nmt/checkpoints/4layers_128d_8heads_512dff_20train_perc/ckpt-1\n",
      "Epoch 1 Loss 5.1923 Accuracy 0.0195\n",
      "Time taken for 1 epoch: 193.81880569458008 secs\n",
      "\n",
      "Saving checkpoint for epoch 2 at nmt/checkpoints/4layers_128d_8heads_512dff_20train_perc/ckpt-2\n",
      "Epoch 2 Loss 4.2502 Accuracy 0.0594\n",
      "Time taken for 1 epoch: 71.249103307724 secs\n",
      "\n",
      "Saving checkpoint for epoch 3 at nmt/checkpoints/4layers_128d_8heads_512dff_20train_perc/ckpt-3\n",
      "Epoch 3 Loss 3.7397 Accuracy 0.0995\n",
      "Time taken for 1 epoch: 71.23760175704956 secs\n",
      "\n",
      "Saving checkpoint for epoch 4 at nmt/checkpoints/4layers_128d_8heads_512dff_20train_perc/ckpt-4\n",
      "Epoch 4 Loss 3.2614 Accuracy 0.1536\n",
      "Time taken for 1 epoch: 71.90176820755005 secs\n",
      "\n",
      "Saving checkpoint for epoch 5 at nmt/checkpoints/4layers_128d_8heads_512dff_20train_perc/ckpt-5\n",
      "Epoch 5 Loss 2.9614 Accuracy 0.1822\n",
      "Time taken for 1 epoch: 71.93180513381958 secs\n",
      "\n",
      "Saving checkpoint for epoch 6 at nmt/checkpoints/4layers_128d_8heads_512dff_20train_perc/ckpt-6\n",
      "Epoch 6 Loss 2.7749 Accuracy 0.1986\n",
      "Time taken for 1 epoch: 72.28145813941956 secs\n",
      "\n",
      "Saving checkpoint for epoch 7 at nmt/checkpoints/4layers_128d_8heads_512dff_20train_perc/ckpt-7\n",
      "Epoch 7 Loss 2.6354 Accuracy 0.2122\n",
      "Time taken for 1 epoch: 74.22486472129822 secs\n",
      "\n",
      "Saving checkpoint for epoch 8 at nmt/checkpoints/4layers_128d_8heads_512dff_20train_perc/ckpt-8\n",
      "Epoch 8 Loss 2.5215 Accuracy 0.2237\n",
      "Time taken for 1 epoch: 72.63342308998108 secs\n",
      "\n",
      "Saving checkpoint for epoch 9 at nmt/checkpoints/4layers_128d_8heads_512dff_20train_perc/ckpt-9\n",
      "Epoch 9 Loss 2.4210 Accuracy 0.2343\n",
      "Time taken for 1 epoch: 71.1521270275116 secs\n",
      "\n",
      "Saving checkpoint for epoch 10 at nmt/checkpoints/4layers_128d_8heads_512dff_20train_perc/ckpt-10\n",
      "Epoch 10 Loss 2.3227 Accuracy 0.2459\n",
      "Time taken for 1 epoch: 70.00534009933472 secs\n",
      "\n",
      "Saving checkpoint for epoch 11 at nmt/checkpoints/4layers_128d_8heads_512dff_20train_perc/ckpt-11\n",
      "Epoch 11 Loss 2.2247 Accuracy 0.2578\n",
      "Time taken for 1 epoch: 69.68844032287598 secs\n",
      "\n",
      "Saving checkpoint for epoch 12 at nmt/checkpoints/4layers_128d_8heads_512dff_20train_perc/ckpt-12\n",
      "Epoch 12 Loss 2.1316 Accuracy 0.2695\n",
      "Time taken for 1 epoch: 69.42487621307373 secs\n",
      "\n",
      "Saving checkpoint for epoch 13 at nmt/checkpoints/4layers_128d_8heads_512dff_20train_perc/ckpt-13\n",
      "Epoch 13 Loss 2.0446 Accuracy 0.2809\n",
      "Time taken for 1 epoch: 68.5758330821991 secs\n",
      "\n",
      "Saving checkpoint for epoch 14 at nmt/checkpoints/4layers_128d_8heads_512dff_20train_perc/ckpt-14\n",
      "Epoch 14 Loss 1.9636 Accuracy 0.2922\n",
      "Time taken for 1 epoch: 67.38690376281738 secs\n",
      "\n",
      "Saving checkpoint for epoch 15 at nmt/checkpoints/4layers_128d_8heads_512dff_20train_perc/ckpt-15\n",
      "Epoch 15 Loss 1.8852 Accuracy 0.3031\n",
      "Time taken for 1 epoch: 67.37761402130127 secs\n",
      "\n",
      "Saving checkpoint for epoch 16 at nmt/checkpoints/4layers_128d_8heads_512dff_20train_perc/ckpt-16\n",
      "Epoch 16 Loss 1.8208 Accuracy 0.3124\n",
      "Time taken for 1 epoch: 67.11784267425537 secs\n",
      "\n",
      "Saving checkpoint for epoch 17 at nmt/checkpoints/4layers_128d_8heads_512dff_20train_perc/ckpt-17\n",
      "Epoch 17 Loss 1.7582 Accuracy 0.3214\n",
      "Time taken for 1 epoch: 67.48454213142395 secs\n",
      "\n",
      "Saving checkpoint for epoch 18 at nmt/checkpoints/4layers_128d_8heads_512dff_20train_perc/ckpt-18\n",
      "Epoch 18 Loss 1.6964 Accuracy 0.3301\n",
      "Time taken for 1 epoch: 66.04793119430542 secs\n",
      "\n",
      "Saving checkpoint for epoch 19 at nmt/checkpoints/4layers_128d_8heads_512dff_20train_perc/ckpt-19\n",
      "Epoch 19 Loss 1.6308 Accuracy 0.3398\n",
      "Time taken for 1 epoch: 66.31681704521179 secs\n",
      "\n",
      "Saving checkpoint for epoch 20 at nmt/checkpoints/4layers_128d_8heads_512dff_20train_perc/ckpt-20\n",
      "Epoch 20 Loss 1.5710 Accuracy 0.3485\n",
      "Time taken for 1 epoch: 65.41735053062439 secs\n",
      "\n",
      "Saving checkpoint for epoch 21 at nmt/checkpoints/4layers_128d_8heads_512dff_20train_perc/ckpt-21\n",
      "Epoch 21 Loss 1.5148 Accuracy 0.3566\n",
      "Time taken for 1 epoch: 66.45186400413513 secs\n",
      "\n",
      "Saving checkpoint for epoch 22 at nmt/checkpoints/4layers_128d_8heads_512dff_20train_perc/ckpt-22\n",
      "Epoch 22 Loss 1.4614 Accuracy 0.3645\n",
      "Time taken for 1 epoch: 67.75819993019104 secs\n",
      "\n",
      "Saving checkpoint for epoch 23 at nmt/checkpoints/4layers_128d_8heads_512dff_20train_perc/ckpt-23\n",
      "Epoch 23 Loss 1.4139 Accuracy 0.3717\n",
      "Time taken for 1 epoch: 66.20007038116455 secs\n",
      "\n",
      "Saving checkpoint for epoch 24 at nmt/checkpoints/4layers_128d_8heads_512dff_20train_perc/ckpt-24\n",
      "Epoch 24 Loss 1.3753 Accuracy 0.3771\n",
      "Time taken for 1 epoch: 66.5484390258789 secs\n",
      "\n",
      "Saving checkpoint for epoch 25 at nmt/checkpoints/4layers_128d_8heads_512dff_20train_perc/ckpt-25\n",
      "Epoch 25 Loss 1.3342 Accuracy 0.3836\n",
      "Time taken for 1 epoch: 66.30993509292603 secs\n",
      "\n",
      "Saving checkpoint for epoch 26 at nmt/checkpoints/4layers_128d_8heads_512dff_20train_perc/ckpt-26\n",
      "Epoch 26 Loss 1.2992 Accuracy 0.3888\n",
      "Time taken for 1 epoch: 66.62302327156067 secs\n",
      "\n",
      "Saving checkpoint for epoch 27 at nmt/checkpoints/4layers_128d_8heads_512dff_20train_perc/ckpt-27\n",
      "Epoch 27 Loss 1.2682 Accuracy 0.3935\n",
      "Time taken for 1 epoch: 67.98242616653442 secs\n",
      "\n",
      "Saving checkpoint for epoch 28 at nmt/checkpoints/4layers_128d_8heads_512dff_20train_perc/ckpt-28\n",
      "Epoch 28 Loss 1.2398 Accuracy 0.3977\n",
      "Time taken for 1 epoch: 67.49703454971313 secs\n",
      "\n",
      "Saving checkpoint for epoch 29 at nmt/checkpoints/4layers_128d_8heads_512dff_20train_perc/ckpt-29\n",
      "Epoch 29 Loss 1.2100 Accuracy 0.4024\n",
      "Time taken for 1 epoch: 66.64922976493835 secs\n",
      "\n",
      "Saving checkpoint for epoch 30 at nmt/checkpoints/4layers_128d_8heads_512dff_20train_perc/ckpt-30\n",
      "Epoch 30 Loss 1.1839 Accuracy 0.4064\n",
      "Time taken for 1 epoch: 67.66056513786316 secs\n",
      "\n"
     ]
    }
   ],
   "source": [
    "\n",
    "EPOCHS = 30\n",
    "print(f\"此超参数组合的 Transformer 已经训练 {last_epoch} epochs。\")\n",
    "print(f\"剩余 epochs：{min(0, last_epoch - EPOCHS)}\")\n",
    "\n",
    "\n",
    "# 用來写信息到 TensorBoard，\n",
    "summary_writer = tf.summary.create_file_writer(log_dir)\n",
    "\n",
    "for epoch in range(last_epoch, EPOCHS):\n",
    "  start = time.time()\n",
    "  \n",
    "  # 重置记录TensorBoard 的 metrics\n",
    "  train_loss.reset_states()\n",
    "  train_accuracy.reset_states()\n",
    "  \n",
    "  # 一个 epoch 就是把我们定义的训练集一个一个 batch 拿出來处理，直到看完整个数据集\n",
    "  for (step_idx, (inp, tar)) in enumerate(train_dataset):\n",
    "    \n",
    "    # 每次 step 就是将数据丟入 Transformer，让它生预测结果并计算梯度最小化 loss\n",
    "    train_step(inp, tar)  \n",
    "\n",
    "  # 每个 epoch 完成就保存一次checkpoint   \n",
    "  if (epoch + 1) % 1 == 0:\n",
    "    ckpt_save_path = ckpt_manager.save()\n",
    "    print ('Saving checkpoint for epoch {} at {}'.format(epoch+1,\n",
    "                                                         ckpt_save_path))\n",
    "    \n",
    "  # 将 loss 以及 accuracy 写到 TensorBoard 上\n",
    "  with summary_writer.as_default():\n",
    "    tf.summary.scalar(\"train_loss\", train_loss.result(), step=epoch + 1)\n",
    "    tf.summary.scalar(\"train_acc\", train_accuracy.result(), step=epoch + 1)\n",
    "  \n",
    "  print('Epoch {} Loss {:.4f} Accuracy {:.4f}'.format(epoch + 1, \n",
    "                                                train_loss.result(), \n",
    "                                                train_accuracy.result()))\n",
    "  print('Time taken for 1 epoch: {} secs\\n'.format(time.time() - start))"
   ]
  },
  {
   "cell_type": "code",
   "execution_count": 0,
   "metadata": {
    "colab": {
     "base_uri": "https://localhost:8080/",
     "height": 17
    },
    "colab_type": "code",
    "id": "cPyjwn3fA-u_",
    "outputId": "f568c7ed-6e00-4cd8-ed1e-ba2bc292f449"
   },
   "outputs": [
    {
     "data": {
      "text/html": [
       "\n",
       "    <div id=\"root\"></div>\n",
       "    <script>\n",
       "      (function() {\n",
       "        window.TENSORBOARD_ENV = window.TENSORBOARD_ENV || {};\n",
       "        window.TENSORBOARD_ENV[\"IN_COLAB\"] = true;\n",
       "        document.querySelector(\"base\").href = \"https://localhost:6006\";\n",
       "        function fixUpTensorboard(root) {\n",
       "          const tftb = root.querySelector(\"tf-tensorboard\");\n",
       "          // Disable the fragment manipulation behavior in Colab. Not\n",
       "          // only is the behavior not useful (as the iframe's location\n",
       "          // is not visible to the user), it causes TensorBoard's usage\n",
       "          // of `window.replace` to navigate away from the page and to\n",
       "          // the `localhost:<port>` URL specified by the base URI, which\n",
       "          // in turn causes the frame to (likely) crash.\n",
       "          tftb.removeAttribute(\"use-hash\");\n",
       "        }\n",
       "        function executeAllScripts(root) {\n",
       "          // When `script` elements are inserted into the DOM by\n",
       "          // assigning to an element's `innerHTML`, the scripts are not\n",
       "          // executed. Thus, we manually re-insert these scripts so that\n",
       "          // TensorBoard can initialize itself.\n",
       "          for (const script of root.querySelectorAll(\"script\")) {\n",
       "            const newScript = document.createElement(\"script\");\n",
       "            newScript.type = script.type;\n",
       "            newScript.textContent = script.textContent;\n",
       "            root.appendChild(newScript);\n",
       "            script.remove();\n",
       "          }\n",
       "        }\n",
       "        function setHeight(root, height) {\n",
       "          // We set the height dynamically after the TensorBoard UI has\n",
       "          // been initialized. This avoids an intermediate state in\n",
       "          // which the container plus the UI become taller than the\n",
       "          // final width and cause the Colab output frame to be\n",
       "          // permanently resized, eventually leading to an empty\n",
       "          // vertical gap below the TensorBoard UI. It's not clear\n",
       "          // exactly what causes this problematic intermediate state,\n",
       "          // but setting the height late seems to fix it.\n",
       "          root.style.height = `${height}px`;\n",
       "        }\n",
       "        const root = document.getElementById(\"root\");\n",
       "        fetch(\".\")\n",
       "          .then((x) => x.text())\n",
       "          .then((html) => void (root.innerHTML = html))\n",
       "          .then(() => fixUpTensorboard(root))\n",
       "          .then(() => executeAllScripts(root))\n",
       "          .then(() => setHeight(root, 800));\n",
       "      })();\n",
       "    </script>\n",
       "  "
      ],
      "text/plain": [
       "<IPython.core.display.HTML object>"
      ]
     },
     "metadata": {
      "tags": []
     },
     "output_type": "display_data"
    }
   ],
   "source": [
    "%load_ext tensorboard\n",
    "%tensorboard --logdir {./log}"
   ]
  },
  {
   "cell_type": "code",
   "execution_count": 0,
   "metadata": {
    "colab": {},
    "colab_type": "code",
    "id": "wMeaMmCMBGan"
   },
   "outputs": [],
   "source": [
    "# 給定一个英文句子，输出预测的中文索引数字序列以及注意权重 dict\n",
    "def evaluate(inp_sentence):\n",
    "  \n",
    "  # 准备英文句子前后会加上的 <start>, <end>\n",
    "  start_token = [subword_encoder_en.vocab_size]\n",
    "  end_token = [subword_encoder_en.vocab_size + 1]\n",
    "  \n",
    "  # inp_sentence 是字符串，我们用 Subword Tokenizer 将其变成子词的索引序列\n",
    "  # 并在前后加上 BOS / EOS\n",
    "  inp_sentence = start_token + subword_encoder_en.encode(inp_sentence) + end_token\n",
    "  encoder_input = tf.expand_dims(inp_sentence, 0)\n",
    "  \n",
    "  # 输入是一个只包含一个中文 <start> token 的序列\n",
    "  decoder_input = [subword_encoder_zh.vocab_size]\n",
    "  output = tf.expand_dims(decoder_input, 0)  # 增加 batch 维度\n",
    "  \n",
    "  # auto-regressive，一次生成一个中文字并将预测加到输入再度喂给 Transformer\n",
    "  for i in range(MAX_LENGTH):\n",
    "    # 每多一个生成的字就得产生新的mask\n",
    "    enc_padding_mask, combined_mask, dec_padding_mask = create_masks(\n",
    "        encoder_input, output)\n",
    "  \n",
    "    # predictions.shape == (batch_size, seq_len, vocab_size)\n",
    "    predictions, attention_weights = transformer(encoder_input, \n",
    "                                                 output,\n",
    "                                                 False,\n",
    "                                                 enc_padding_mask,\n",
    "                                                 combined_mask,\n",
    "                                                 dec_padding_mask)\n",
    "    \n",
    "\n",
    "    # 將序列中最后一个 distribution 取出，并将里面最大的当作模型最新的预测字\n",
    "    predictions = predictions[: , -1:, :]  # (batch_size, 1, vocab_size)\n",
    "\n",
    "    predicted_id = tf.cast(tf.argmax(predictions, axis=-1), tf.int32)\n",
    "    \n",
    "    # 遇到 <end> token 就停止回传，代表模型已预测完毕\n",
    "    if tf.equal(predicted_id, subword_encoder_zh.vocab_size + 1):\n",
    "      return tf.squeeze(output, axis=0), attention_weights\n",
    "    \n",
    "    # 將 Transformer 新预测的中文索引加到输出序列中，让 Decoder 可以在产生下个中文字的時候关注到最新的 `predicted_id`\n",
    "    output = tf.concat([output, predicted_id], axis=-1)\n",
    "\n",
    "  # 將 batch 的维度去掉后回传预测的中文索引序列\n",
    "  return tf.squeeze(output, axis=0), attention_weights"
   ]
  },
  {
   "cell_type": "code",
   "execution_count": 0,
   "metadata": {
    "colab": {
     "base_uri": "https://localhost:8080/",
     "height": 134
    },
    "colab_type": "code",
    "id": "4kQWZc8kBJeV",
    "outputId": "abec8440-4653-4be3-9668-aa960ff772a5"
   },
   "outputs": [
    {
     "name": "stdout",
     "output_type": "stream",
     "text": [
      "sentence: China, India, and others have enjoyed continuing economic growth.\n",
      "--------------------\n",
      "predicted_seq: tf.Tensor(\n",
      "[4201   16    4   37  386  101    8   34   32    4   33  110    5  104\n",
      "  166   22   52  107   84    3], shape=(20,), dtype=int32)\n",
      "--------------------\n",
      "predicted_sentence: 中国、印度和其他国家都在持着经济增长。\n"
     ]
    }
   ],
   "source": [
    "sentence = \"China, India, and others have enjoyed continuing economic growth.\"\n",
    "\n",
    "# 取得预测的中文索引序列\n",
    "predicted_seq, _ = evaluate(sentence)\n",
    "\n",
    "# 过滤掉 <start> & <end> tokens 并用中文的 subword tokenizer 将索引序列还原回中文句子\n",
    "target_vocab_size = subword_encoder_zh.vocab_size\n",
    "predicted_seq_without_bos_eos = [idx for idx in predicted_seq if idx < target_vocab_size]\n",
    "predicted_sentence = subword_encoder_zh.decode(predicted_seq_without_bos_eos)\n",
    "\n",
    "print(\"sentence:\", sentence)\n",
    "print(\"-\" * 20)\n",
    "print(\"predicted_seq:\", predicted_seq)\n",
    "print(\"-\" * 20)\n",
    "print(\"predicted_sentence:\", predicted_sentence)"
   ]
  },
  {
   "cell_type": "code",
   "execution_count": 0,
   "metadata": {
    "colab": {
     "base_uri": "https://localhost:8080/",
     "height": 252
    },
    "colab_type": "code",
    "id": "0jWYD9JjBK6E",
    "outputId": "8f07c19d-00fc-4f0b-bdb9-3591543127df"
   },
   "outputs": [
    {
     "name": "stdout",
     "output_type": "stream",
     "text": [
      "Model: \"transformer_1\"\n",
      "_________________________________________________________________\n",
      "Layer (type)                 Output Shape              Param #   \n",
      "=================================================================\n",
      "encoder_2 (Encoder)          multiple                  1834624   \n",
      "_________________________________________________________________\n",
      "decoder_2 (Decoder)          multiple                  1596288   \n",
      "_________________________________________________________________\n",
      "dense_137 (Dense)            multiple                  542187    \n",
      "=================================================================\n",
      "Total params: 3,973,099\n",
      "Trainable params: 3,973,099\n",
      "Non-trainable params: 0\n",
      "_________________________________________________________________\n"
     ]
    }
   ],
   "source": [
    "transformer.summary()"
   ]
  },
  {
   "cell_type": "code",
   "execution_count": 0,
   "metadata": {
    "colab": {
     "base_uri": "https://localhost:8080/",
     "height": 302
    },
    "colab_type": "code",
    "id": "n5SvFnxTBMp9",
    "outputId": "0bc1b016-9bf6-48cc-f63c-44dc8cdda5e3"
   },
   "outputs": [
    {
     "name": "stdout",
     "output_type": "stream",
     "text": [
      "sentence: China, India, and others have enjoyed continuing economic growth.\n",
      "--------------------\n",
      "predicted_seq: tf.Tensor(\n",
      "[4201   16    4   37  386  101    8   34   32    4   33  110    5  104\n",
      "  166   22   52  107   84    3], shape=(20,), dtype=int32)\n",
      "--------------------\n",
      "attention_weights.keys():\n",
      "decoder_layer1_block1.shape: (1, 8, 20, 20)\n",
      "decoder_layer1_block2.shape: (1, 8, 20, 15)\n",
      "decoder_layer2_block1.shape: (1, 8, 20, 20)\n",
      "decoder_layer2_block2.shape: (1, 8, 20, 15)\n",
      "decoder_layer3_block1.shape: (1, 8, 20, 20)\n",
      "decoder_layer3_block2.shape: (1, 8, 20, 15)\n",
      "decoder_layer4_block1.shape: (1, 8, 20, 20)\n",
      "decoder_layer4_block2.shape: (1, 8, 20, 15)\n",
      "--------------------\n",
      "layer_name: decoder_layer4_block2\n"
     ]
    }
   ],
   "source": [
    "predicted_seq, attention_weights = evaluate(sentence)\n",
    "\n",
    "# 这里自动选择最后一个 Decoder layer 的 MHA 2，也就是 Decoder 关注 Encoder 的 MHA\n",
    "layer_name = f\"decoder_layer{num_layers}_block2\"\n",
    "\n",
    "print(\"sentence:\", sentence)\n",
    "print(\"-\" * 20)\n",
    "print(\"predicted_seq:\", predicted_seq)\n",
    "print(\"-\" * 20)\n",
    "print(\"attention_weights.keys():\")\n",
    "for layer_name, attn in attention_weights.items():\n",
    "  print(f\"{layer_name}.shape: {attn.shape}\")\n",
    "print(\"-\" * 20)\n",
    "print(\"layer_name:\", layer_name)"
   ]
  },
  {
   "cell_type": "code",
   "execution_count": 0,
   "metadata": {
    "colab": {},
    "colab_type": "code",
    "id": "h7bZDZeVBOhO"
   },
   "outputs": [],
   "source": [
    "import matplotlib as mpl\n",
    "# 下载simhei.ttf便于正确显示中文，link: http://fontzone.net/download/simhei\n",
    "zhfont = mpl.font_manager.FontProperties(fname='/usr/share/fonts/simhei.ttf')\n",
    "plt.style.use(\"seaborn-whitegrid\")\n",
    "\n",
    "# 注意力权重可视化\n",
    "def plot_attention_weights(attention_weights, sentence, predicted_seq, layer_name, max_len_tar=None):\n",
    "    \n",
    "  fig = plt.figure(figsize=(17, 7))\n",
    "  \n",
    "  sentence = subword_encoder_en.encode(sentence)\n",
    "  \n",
    "  # 只显示中文序列前 `max_len_tar`个字\n",
    "  if max_len_tar:\n",
    "    predicted_seq = predicted_seq[:max_len_tar]\n",
    "  else:\n",
    "    max_len_tar = len(predicted_seq)\n",
    "  \n",
    "  # 将某一个特定 Decoder layer 里的 MHA 1 或 MHA2 的注意权重拿出來并去掉 batch 维度\n",
    "  attention_weights = tf.squeeze(attention_weights[layer_name], axis=0)  \n",
    "  # (num_heads, tar_seq_len, inp_seq_len)\n",
    "  \n",
    "  # 将每个 head 的注意权重画出\n",
    "  for head in range(attention_weights.shape[0]):\n",
    "    ax = fig.add_subplot(2, 4, head + 1)\n",
    "\n",
    "    # 为了将长度不短的英文子词显示在 y 轴，对注意权重做了 transpose\n",
    "    attn_map = np.transpose(attention_weights[head][:max_len_tar, :])\n",
    "    ax.matshow(attn_map, cmap='viridis')  # (inp_seq_len, tar_seq_len)\n",
    "    \n",
    "    fontdict = {\"fontproperties\": zhfont}\n",
    "    #fontdict = {'fontsize': 10}\n",
    "    \n",
    "    ax.set_xticks(range(max(max_len_tar, len(predicted_seq))))\n",
    "    ax.set_xlim(-0.5, max_len_tar -1.5)\n",
    "    \n",
    "    ax.set_yticks(range(len(sentence) + 2))\n",
    "    ax.set_xticklabels([subword_encoder_zh.decode([i]) for i in predicted_seq \n",
    "                        if i < subword_encoder_zh.vocab_size], \n",
    "                       fontdict=fontdict, fontsize=18)    \n",
    "    \n",
    "    ax.set_yticklabels(\n",
    "        ['<start>'] + [subword_encoder_en.decode([i]) for i in sentence] + ['<end>'], \n",
    "        fontdict=fontdict)\n",
    "    \n",
    "    ax.set_xlabel('Head {}'.format(head + 1))\n",
    "    ax.tick_params(axis=\"x\", labelsize=12)\n",
    "    ax.tick_params(axis=\"y\", labelsize=12)\n",
    "  \n",
    "  plt.tight_layout()\n",
    "  plt.show()\n",
    "  plt.close(fig)"
   ]
  },
  {
   "cell_type": "code",
   "execution_count": 0,
   "metadata": {
    "colab": {
     "base_uri": "https://localhost:8080/",
     "height": 511
    },
    "colab_type": "code",
    "id": "pasbeokKBQZL",
    "outputId": "54a7ed91-0f51-4828-b2ec-52b1308fe3d7"
   },
   "outputs": [
    {
     "data": {
      "image/png": "[encoded data removed]",
      "text/plain": [
       "<Figure size 1224x504 with 8 Axes>"
      ]
     },
     "metadata": {
      "tags": []
     },
     "output_type": "display_data"
    }
   ],
   "source": [
    "plot_attention_weights(attention_weights, sentence,predicted_seq, layer_name, max_len_tar=18)"
   ]
  },
  {
   "cell_type": "code",
   "execution_count": 0,
   "metadata": {
    "colab": {},
    "colab_type": "code",
    "id": "aJFydXuYBR2o"
   },
   "outputs": [],
   "source": []
  }
 ],
 "metadata": {
  "accelerator": "GPU",
  "colab": {
   "collapsed_sections": [],
   "name": "Transformer-2.0.ipynb",
   "provenance": [],
   "version": "0.3.2"
  },
  "kernelspec": {
   "display_name": "Python 3",
   "language": "python",
   "name": "python3"
  },
  "language_info": {
   "codemirror_mode": {
    "name": "ipython",
    "version": 3
   },
   "file_extension": ".py",
   "mimetype": "text/x-python",
   "name": "python",
   "nbconvert_exporter": "python",
   "pygments_lexer": "ipython3",
   "version": "3.6.2"
  }
 },
 "nbformat": 4,
 "nbformat_minor": 1
}
